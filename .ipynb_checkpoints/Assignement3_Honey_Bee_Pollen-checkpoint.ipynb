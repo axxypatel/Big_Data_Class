{
 "cells": [
  {
   "cell_type": "markdown",
   "metadata": {
    "colab_type": "text",
    "id": "al7udoVsOu5G"
   },
   "source": [
    "# Honey Bee Pollen Classification"
   ]
  },
  {
   "cell_type": "markdown",
   "metadata": {
    "colab_type": "text",
    "id": "e_dcMGl6Oxmk"
   },
   "source": [
    "## Abstract\n",
    "\n",
    "In this notebook,we have analysed the CNN model to classfy the pollen and non-pollen honey bee images from the dataset. For this dataset, we have tried various combination to access the accuracy like changing the activatin function for the convolution layer, changing the cost function, change in number of epoch value, trying different gradient estimation, changing network architecture like reducing the layer, try different kernal sizes and tried different network initialization. We have compared the accuracy for all the type of variation in the CNN model."
   ]
  },
  {
   "cell_type": "markdown",
   "metadata": {
    "colab_type": "text",
    "id": "UuLpq45jTYXD"
   },
   "source": [
    "## Dataset\n",
    "\n",
    "Honey Bee Pollen dataset has been created from videos captured at the entrance of a bee colony in June 2017 at the Bee facility of the Gurabo Agricultural Experimental Station of the University of Puerto Rico.\n",
    "Dataset  contains images for pollen bearing and no pollen bearing honey bees. Images will be read by code and convert into numpy array of size 64*64 ."
   ]
  },
  {
   "cell_type": "code",
   "execution_count": null,
   "metadata": {
    "colab": {},
    "colab_type": "code",
    "id": "dInQ9pwYQwj5"
   },
   "outputs": [],
   "source": [
    "import glob, os, cv2 \n",
    "from skimage import io, transform\n",
    "import pandas as pd\n",
    "import numpy as np\n",
    "import matplotlib.pyplot as plt\n",
    "os.environ['TF_CPP_MIN_LOG_LEVEL'] = '3'"
   ]
  },
  {
   "cell_type": "code",
   "execution_count": 80,
   "metadata": {
    "colab": {
     "base_uri": "https://localhost:8080/",
     "height": 33
    },
    "colab_type": "code",
    "id": "IMpJ_lVpUiyA",
    "outputId": "4aa39e88-7fc8-4447-9e46-190a4c4ea175"
   },
   "outputs": [
    {
     "name": "stdout",
     "output_type": "stream",
     "text": [
      "Drive already mounted at /content/drive; to attempt to forcibly remount, call drive.mount(\"/content/drive\", force_remount=True).\n"
     ]
    }
   ],
   "source": [
    "# Mount google drive\n",
    "\n",
    "from google.colab import drive\n",
    "drive.mount('/content/drive')"
   ]
  },
  {
   "cell_type": "code",
   "execution_count": 81,
   "metadata": {
    "colab": {
     "base_uri": "https://localhost:8080/",
     "height": 53
    },
    "colab_type": "code",
    "id": "elAFp7Ho8o1y",
    "outputId": "6eee71c4-75a2-49c0-909c-abcb2a558bca"
   },
   "outputs": [
    {
     "name": "stdout",
     "output_type": "stream",
     "text": [
      "['/content/drive/My Drive/images/NP10057-126r.jpg', '/content/drive/My Drive/images/NP10109-128r.jpg', '/content/drive/My Drive/images/NP10546-134r.jpg', '/content/drive/My Drive/images/NP1034-9r.jpg', '/content/drive/My Drive/images/NP10536-27r.jpg', '/content/drive/My Drive/images/NP10154-130r.jpg', '/content/drive/My Drive/images/NP10304-132r.jpg', '/content/drive/My Drive/images/NP10566-136r.jpg', '/content/drive/My Drive/images/NP10604-138r.jpg', '/content/drive/My Drive/images/NP10623-139r.jpg', '/content/drive/My Drive/images/NP10660-141r.jpg', '/content/drive/My Drive/images/NP10861-146r.jpg', '/content/drive/My Drive/images/NP11139-148r.jpg', '/content/drive/My Drive/images/NP10848-144r.jpg', '/content/drive/My Drive/images/NP10710-143r.jpg', '/content/drive/My Drive/images/NP11180-150r.jpg', '/content/drive/My Drive/images/NP1149-11r.jpg', '/content/drive/My Drive/images/NP11354-156r.jpg', '/content/drive/My Drive/images/NP11290-152r.jpg', '/content/drive/My Drive/images/NP11339-154r.jpg', '/content/drive/My Drive/images/NP11553-158r.jpg', '/content/drive/My Drive/images/NP11660-159r.jpg', '/content/drive/My Drive/images/NP11740-165r.jpg', '/content/drive/My Drive/images/NP11735-163r.jpg', '/content/drive/My Drive/images/NP11681-161r.jpg', '/content/drive/My Drive/images/NP12344-173r.jpg', '/content/drive/My Drive/images/NP12216-171r.jpg', '/content/drive/My Drive/images/NP12063-167r.jpg', '/content/drive/My Drive/images/NP12189-169r.jpg', '/content/drive/My Drive/images/NP1245-13r.jpg', '/content/drive/My Drive/images/NP12467-175r.jpg', '/content/drive/My Drive/images/NP12673-179r.jpg', '/content/drive/My Drive/images/NP12494-177r.jpg', '/content/drive/My Drive/images/NP12835-183r.jpg', '/content/drive/My Drive/images/NP1268-15r.jpg', '/content/drive/My Drive/images/NP12823-181r.jpg', '/content/drive/My Drive/images/NP12969-191r.jpg', '/content/drive/My Drive/images/NP12940-189r.jpg', '/content/drive/My Drive/images/NP12891-185r.jpg', '/content/drive/My Drive/images/NP12922-187r.jpg', '/content/drive/My Drive/images/NP13068-43r.jpg', '/content/drive/My Drive/images/NP13080-193r.jpg', '/content/drive/My Drive/images/NP1300-17r.jpg', '/content/drive/My Drive/images/NP1343-2r.jpg', '/content/drive/My Drive/images/NP13382-201r.jpg', '/content/drive/My Drive/images/NP13169-197r.jpg', '/content/drive/My Drive/images/NP13122-195r.jpg', '/content/drive/My Drive/images/NP13365-199r.jpg', '/content/drive/My Drive/images/NP13481-205r.jpg', '/content/drive/My Drive/images/NP13068-42r.jpg', '/content/drive/My Drive/images/NP13508-206r.jpg', '/content/drive/My Drive/images/NP13570-208r.jpg', '/content/drive/My Drive/images/NP13851-215r.jpg', '/content/drive/My Drive/images/NP13576-210r.jpg', '/content/drive/My Drive/images/NP13756-213r.jpg', '/content/drive/My Drive/images/NP1387-5r.jpg', '/content/drive/My Drive/images/NP14163-219r.jpg', '/content/drive/My Drive/images/NP14428-223r.jpg', '/content/drive/My Drive/images/NP14055-217r.jpg', '/content/drive/My Drive/images/NP14225-221r.jpg', '/content/drive/My Drive/images/NP14448-225r.jpg', '/content/drive/My Drive/images/NP14733-229r.jpg', '/content/drive/My Drive/images/NP14569-227r.jpg', '/content/drive/My Drive/images/NP15092-235r.jpg', '/content/drive/My Drive/images/NP15065-233r.jpg', '/content/drive/My Drive/images/NP14842-231r.jpg', '/content/drive/My Drive/images/NP1445-20r.jpg', '/content/drive/My Drive/images/NP15350-239r.jpg', '/content/drive/My Drive/images/NP15422-241r.jpg', '/content/drive/My Drive/images/NP15204-237r.jpg', '/content/drive/My Drive/images/NP15494-243r.jpg', '/content/drive/My Drive/images/NP15732-247r.jpg', '/content/drive/My Drive/images/NP15838-249r.jpg', '/content/drive/My Drive/images/NP16527-255r.jpg', '/content/drive/My Drive/images/NP1768-11r.jpg', '/content/drive/My Drive/images/NP16546-257r.jpg', '/content/drive/My Drive/images/NP15525-245r.jpg', '/content/drive/My Drive/images/NP16088-253r.jpg', '/content/drive/My Drive/images/NP16051-251r.jpg', '/content/drive/My Drive/images/NP1768-10r.jpg', '/content/drive/My Drive/images/NP1768-12r.jpg', '/content/drive/My Drive/images/NP1779-22r.jpg', '/content/drive/My Drive/images/NP1803-24r.jpg', '/content/drive/My Drive/images/NP18775-18r.jpg', '/content/drive/My Drive/images/NP18721-14r.jpg', '/content/drive/My Drive/images/NP18779-20r.jpg', '/content/drive/My Drive/images/NP1768-13r.jpg', '/content/drive/My Drive/images/NP18476-9r.jpg', '/content/drive/My Drive/images/NP18759-16r.jpg', '/content/drive/My Drive/images/NP18835-22r.jpg', '/content/drive/My Drive/images/NP18952-24r.jpg', '/content/drive/My Drive/images/NP19884-38r.jpg', '/content/drive/My Drive/images/NP19587-34r.jpg', '/content/drive/My Drive/images/NP19386-30r.jpg', '/content/drive/My Drive/images/NP19683-36r.jpg', '/content/drive/My Drive/images/NP20396-48r.jpg', '/content/drive/My Drive/images/NP20384-46r.jpg', '/content/drive/My Drive/images/NP20204-42r.jpg', '/content/drive/My Drive/images/NP20364-44r.jpg', '/content/drive/My Drive/images/NP19958-40r.jpg', '/content/drive/My Drive/images/NP20417-50r.jpg', '/content/drive/My Drive/images/NP20833-61r.jpg', '/content/drive/My Drive/images/NP20624-54r.jpg', '/content/drive/My Drive/images/NP2082-26r.jpg', '/content/drive/My Drive/images/NP20673-57r.jpg', '/content/drive/My Drive/images/NP20645-56r.jpg', '/content/drive/My Drive/images/NP20472-52r.jpg', '/content/drive/My Drive/images/NP20725-59r.jpg', '/content/drive/My Drive/images/NP20945-64r.jpg', '/content/drive/My Drive/images/NP21211-67r.jpg', '/content/drive/My Drive/images/NP21559-72r.jpg', '/content/drive/My Drive/images/NP21577-75r.jpg', '/content/drive/My Drive/images/NP22578-98r.jpg', '/content/drive/My Drive/images/NP22026-80r.jpg', '/content/drive/My Drive/images/NP2237-28r.jpg', '/content/drive/My Drive/images/NP220-1r.jpg', '/content/drive/My Drive/images/NP22875-108r.jpg', '/content/drive/My Drive/images/NP21808-78r.jpg', '/content/drive/My Drive/images/NP22080-85r.jpg', '/content/drive/My Drive/images/NP22071-83r.jpg', '/content/drive/My Drive/images/NP22897-110r.jpg', '/content/drive/My Drive/images/NP23937-123r.jpg', '/content/drive/My Drive/images/NP23937-124r.jpg', '/content/drive/My Drive/images/NP24025-126r.jpg', '/content/drive/My Drive/images/NP24063-128r.jpg', '/content/drive/My Drive/images/NP23667-118r.jpg', '/content/drive/My Drive/images/NP24191-130r.jpg', '/content/drive/My Drive/images/NP24292-132r.jpg', '/content/drive/My Drive/images/NP24473-138r.jpg', '/content/drive/My Drive/images/NP24360-136r.jpg', '/content/drive/My Drive/images/NP24823-144r.jpg', '/content/drive/My Drive/images/NP25377-158r.jpg', '/content/drive/My Drive/images/NP24997-150r.jpg', '/content/drive/My Drive/images/NP24865-146r.jpg', '/content/drive/My Drive/images/NP24865-145r.jpg', '/content/drive/My Drive/images/NP25240-155r.jpg', '/content/drive/My Drive/images/NP25240-156r.jpg', '/content/drive/My Drive/images/NP24981-148r.jpg', '/content/drive/My Drive/images/NP25880-162r.jpg', '/content/drive/My Drive/images/NP25478-160r.jpg', '/content/drive/My Drive/images/NP25968-164r.jpg', '/content/drive/My Drive/images/NP26066-170r.jpg', '/content/drive/My Drive/images/NP26816-192r.jpg', '/content/drive/My Drive/images/NP26307-176r.jpg', '/content/drive/My Drive/images/NP27249-202r.jpg', '/content/drive/My Drive/images/NP26910-194r.jpg', '/content/drive/My Drive/images/NP26791-190r.jpg', '/content/drive/My Drive/images/NP25986-168r.jpg', '/content/drive/My Drive/images/NP27452-203r.jpg', '/content/drive/My Drive/images/NP27452-204r.jpg', '/content/drive/My Drive/images/NP27471-206r.jpg', '/content/drive/My Drive/images/NP27671-210r.jpg', '/content/drive/My Drive/images/NP27702-212r.jpg', '/content/drive/My Drive/images/NP28290-220r.jpg', '/content/drive/My Drive/images/NP28096-216r.jpg', '/content/drive/My Drive/images/NP28159-218r.jpg', '/content/drive/My Drive/images/NP27927-214r.jpg', '/content/drive/My Drive/images/NP28349-222r.jpg', '/content/drive/My Drive/images/NP28386-224r.jpg', '/content/drive/My Drive/images/NP28430-226r.jpg', '/content/drive/My Drive/images/NP28463-228r.jpg', '/content/drive/My Drive/images/NP28480-230r.jpg', '/content/drive/My Drive/images/NP28671-238r.jpg', '/content/drive/My Drive/images/NP28729-240r.jpg', '/content/drive/My Drive/images/NP28510-232r.jpg', '/content/drive/My Drive/images/NP28616-236r.jpg', '/content/drive/My Drive/images/NP28569-234r.jpg', '/content/drive/My Drive/images/NP29062-244r.jpg', '/content/drive/My Drive/images/NP2883-18r.jpg', '/content/drive/My Drive/images/NP29088-246r.jpg', '/content/drive/My Drive/images/NP29121-248r.jpg', '/content/drive/My Drive/images/NP3309-36r.jpg', '/content/drive/My Drive/images/NP3570-38r.jpg', '/content/drive/My Drive/images/NP3121-34r.jpg', '/content/drive/My Drive/images/NP3641-20r.jpg', '/content/drive/My Drive/images/NP4050-41r.jpg', '/content/drive/My Drive/images/NP3909-22r.jpg', '/content/drive/My Drive/images/NP4141-43r.jpg', '/content/drive/My Drive/images/NP4315-47r.jpg', '/content/drive/My Drive/images/NP4226-45r.jpg', '/content/drive/My Drive/images/NP4501-49r.jpg', '/content/drive/My Drive/images/NP5100-61r.jpg', '/content/drive/My Drive/images/NP51501-1r.jpg', '/content/drive/My Drive/images/NP5150-65r.jpg', '/content/drive/My Drive/images/NP5051-59r.jpg', '/content/drive/My Drive/images/NP4561-51r.jpg', '/content/drive/My Drive/images/NP4656-53r.jpg', '/content/drive/My Drive/images/NP4874-57r.jpg', '/content/drive/My Drive/images/NP4736-55r.jpg', '/content/drive/My Drive/images/NP5109-63r.jpg', '/content/drive/My Drive/images/NP51602-3r.jpg', '/content/drive/My Drive/images/NP52248-13r.jpg', '/content/drive/My Drive/images/NP52239-11r.jpg', '/content/drive/My Drive/images/NP52248-15r.jpg', '/content/drive/My Drive/images/NP52209-9r.jpg', '/content/drive/My Drive/images/NP52271-17r.jpg', '/content/drive/My Drive/images/NP51770-7r.jpg', '/content/drive/My Drive/images/NP51656-5r.jpg', '/content/drive/My Drive/images/NP52361-21r.jpg', '/content/drive/My Drive/images/NP52328-19r.jpg', '/content/drive/My Drive/images/NP5238-67r.jpg', '/content/drive/My Drive/images/NP52413-23r.jpg', '/content/drive/My Drive/images/NP52799-33r.jpg', '/content/drive/My Drive/images/NP52563-25r.jpg', '/content/drive/My Drive/images/NP52738-31r.jpg', '/content/drive/My Drive/images/NP52587-29r.jpg', '/content/drive/My Drive/images/NP52583-27r.jpg', '/content/drive/My Drive/images/NP53184-37r.jpg', '/content/drive/My Drive/images/NP53247-39r.jpg', '/content/drive/My Drive/images/NP52861-35r.jpg', '/content/drive/My Drive/images/NP53341-41r.jpg', '/content/drive/My Drive/images/NP53573-43r.jpg', '/content/drive/My Drive/images/NP53802-49r.jpg', '/content/drive/My Drive/images/NP53857-55r.jpg', '/content/drive/My Drive/images/NP53776-47r.jpg', '/content/drive/My Drive/images/NP53614-45r.jpg', '/content/drive/My Drive/images/NP53827-51r.jpg', '/content/drive/My Drive/images/NP53842-53r.jpg', '/content/drive/My Drive/images/NP53890-59r.jpg', '/content/drive/My Drive/images/NP53866-57r.jpg', '/content/drive/My Drive/images/NP53916-61r.jpg', '/content/drive/My Drive/images/NP54249-71r.jpg', '/content/drive/My Drive/images/NP54064-65r.jpg', '/content/drive/My Drive/images/NP54190-67r.jpg', '/content/drive/My Drive/images/NP54240-69r.jpg', '/content/drive/My Drive/images/NP54260-73r.jpg', '/content/drive/My Drive/images/NP53944-63r.jpg', '/content/drive/My Drive/images/NP54657-77r.jpg', '/content/drive/My Drive/images/NP54423-75r.jpg', '/content/drive/My Drive/images/NP54680-79r.jpg', '/content/drive/My Drive/images/NP54936-81r.jpg', '/content/drive/My Drive/images/NP55621-91r.jpg', '/content/drive/My Drive/images/NP55374-89r.jpg', '/content/drive/My Drive/images/NP55211-87r.jpg', '/content/drive/My Drive/images/NP55089-85r.jpg', '/content/drive/My Drive/images/NP5576-69r.jpg', '/content/drive/My Drive/images/NP55021-83r.jpg', '/content/drive/My Drive/images/NP55793-93r.jpg', '/content/drive/My Drive/images/NP55879-97r.jpg', '/content/drive/My Drive/images/NP55845-95r.jpg', '/content/drive/My Drive/images/NP55888-99r.jpg', '/content/drive/My Drive/images/NP55973-101r.jpg', '/content/drive/My Drive/images/NP56103-103r.jpg', '/content/drive/My Drive/images/NP56414-107r.jpg', '/content/drive/My Drive/images/NP56185-105r.jpg', '/content/drive/My Drive/images/NP56585-113r.jpg', '/content/drive/My Drive/images/NP56558-111r.jpg', '/content/drive/My Drive/images/NP56463-109r.jpg', '/content/drive/My Drive/images/NP56909-117r.jpg', '/content/drive/My Drive/images/NP56840-115r.jpg', '/content/drive/My Drive/images/NP57225-119r.jpg', '/content/drive/My Drive/images/NP57540-125r.jpg', '/content/drive/My Drive/images/NP57505-123r.jpg', '/content/drive/My Drive/images/NP57380-121r.jpg', '/content/drive/My Drive/images/NP57555-127r.jpg', '/content/drive/My Drive/images/NP57861-135r.jpg', '/content/drive/My Drive/images/NP5762-71r.jpg', '/content/drive/My Drive/images/NP57784-133r.jpg', '/content/drive/My Drive/images/NP57627-131r.jpg', '/content/drive/My Drive/images/NP57593-129r.jpg', '/content/drive/My Drive/images/NP57883-137r.jpg', '/content/drive/My Drive/images/NP57927-141r.jpg', '/content/drive/My Drive/images/NP5805-73r.jpg', '/content/drive/My Drive/images/NP57962-143r.jpg', '/content/drive/My Drive/images/NP57898-139r.jpg', '/content/drive/My Drive/images/NP58780-153r.jpg', '/content/drive/My Drive/images/NP58262-145r.jpg', '/content/drive/My Drive/images/NP58503-151r.jpg', '/content/drive/My Drive/images/NP58302-147r.jpg', '/content/drive/My Drive/images/NP58841-155r.jpg', '/content/drive/My Drive/images/NP58969-157r.jpg', '/content/drive/My Drive/images/NP59391-163r.jpg', '/content/drive/My Drive/images/NP59286-159r.jpg', '/content/drive/My Drive/images/NP59420-165r.jpg', '/content/drive/My Drive/images/NP59840-177r.jpg', '/content/drive/My Drive/images/NP59724-171r.jpg', '/content/drive/My Drive/images/NP59501-169r.jpg', '/content/drive/My Drive/images/NP59832-175r.jpg', '/content/drive/My Drive/images/NP59777-173r.jpg', '/content/drive/My Drive/images/NP59440-167r.jpg', '/content/drive/My Drive/images/NP60035-179r.jpg', '/content/drive/My Drive/images/NP60164-181r.jpg', '/content/drive/My Drive/images/NP60227-183r.jpg', '/content/drive/My Drive/images/NP61044-185r.jpg', '/content/drive/My Drive/images/NP61628-189r.jpg', '/content/drive/My Drive/images/NP6113-77r.jpg', '/content/drive/My Drive/images/NP6046-75r.jpg', '/content/drive/My Drive/images/NP61600-187r.jpg', '/content/drive/My Drive/images/NP61713-193r.jpg', '/content/drive/My Drive/images/NP61660-191r.jpg', '/content/drive/My Drive/images/NP61949-195r.jpg', '/content/drive/My Drive/images/NP62319-199r.jpg', '/content/drive/My Drive/images/NP63124-209r.jpg', '/content/drive/My Drive/images/NP63102-207r.jpg', '/content/drive/My Drive/images/NP62009-197r.jpg', '/content/drive/My Drive/images/NP63000-205r.jpg', '/content/drive/My Drive/images/NP6313-81r.jpg', '/content/drive/My Drive/images/NP62379-203r.jpg', '/content/drive/My Drive/images/NP6281-79r.jpg', '/content/drive/My Drive/images/NP62333-201r.jpg', '/content/drive/My Drive/images/NP63199-211r.jpg', '/content/drive/My Drive/images/NP63443-215r.jpg', '/content/drive/My Drive/images/NP6375-83r.jpg', '/content/drive/My Drive/images/NP63265-213r.jpg', '/content/drive/My Drive/images/NP63640-219r.jpg', '/content/drive/My Drive/images/NP63671-221r.jpg', '/content/drive/My Drive/images/NP63467-217r.jpg', '/content/drive/My Drive/images/NP64043-227r.jpg', '/content/drive/My Drive/images/NP63866-225r.jpg', '/content/drive/My Drive/images/NP63758-223r.jpg', '/content/drive/My Drive/images/NP64068-229r.jpg', '/content/drive/My Drive/images/NP64239-233r.jpg', '/content/drive/My Drive/images/NP65298-243r.jpg', '/content/drive/My Drive/images/NP65385-245r.jpg', '/content/drive/My Drive/images/NP6534-85r.jpg', '/content/drive/My Drive/images/NP64976-239r.jpg', '/content/drive/My Drive/images/NP65219-241r.jpg', '/content/drive/My Drive/images/NP64700-237r.jpg', '/content/drive/My Drive/images/NP64282-235r.jpg', '/content/drive/My Drive/images/NP64234-231r.jpg', '/content/drive/My Drive/images/NP65467-247r.jpg', '/content/drive/My Drive/images/NP66158-253r.jpg', '/content/drive/My Drive/images/NP7170-90r.jpg', '/content/drive/My Drive/images/NP65810-251r.jpg', '/content/drive/My Drive/images/NP666-5r.jpg', '/content/drive/My Drive/images/NP65528-249r.jpg', '/content/drive/My Drive/images/NP7441-92r.jpg', '/content/drive/My Drive/images/NP6877-87r.jpg', '/content/drive/My Drive/images/NP7621-96r.jpg', '/content/drive/My Drive/images/NP7466-94r.jpg', '/content/drive/My Drive/images/NP7660-98r.jpg', '/content/drive/My Drive/images/NP9226-114r.jpg', '/content/drive/My Drive/images/NP8625-106r.jpg', '/content/drive/My Drive/images/NP9171-112r.jpg', '/content/drive/My Drive/images/NP8973-108r.jpg', '/content/drive/My Drive/images/NP7797-104r.jpg', '/content/drive/My Drive/images/NP7776-100r.jpg', '/content/drive/My Drive/images/NP832-7r.jpg', '/content/drive/My Drive/images/NP9132-110r.jpg', '/content/drive/My Drive/images/NP7789-102r.jpg', '/content/drive/My Drive/images/NP9331-116r.jpg', '/content/drive/My Drive/images/NP9603-118r.jpg', '/content/drive/My Drive/images/NP9755-120r.jpg', '/content/drive/My Drive/images/NP9897-122r.jpg', '/content/drive/My Drive/images/P10536-26r.jpg', '/content/drive/My Drive/images/P10109-127r.jpg', '/content/drive/My Drive/images/P10154-129r.jpg', '/content/drive/My Drive/images/NP9995-124r.jpg', '/content/drive/My Drive/images/P10057-125r.jpg', '/content/drive/My Drive/images/P10546-133r.jpg', '/content/drive/My Drive/images/P10566-135r.jpg', '/content/drive/My Drive/images/P11139-147r.jpg', '/content/drive/My Drive/images/P11048-28r.jpg', '/content/drive/My Drive/images/P11173-29r.jpg', '/content/drive/My Drive/images/P10710-142r.jpg', '/content/drive/My Drive/images/P10660-140r.jpg', '/content/drive/My Drive/images/P11180-149r.jpg', '/content/drive/My Drive/images/P11181-30r.jpg', '/content/drive/My Drive/images/P11182-31r.jpg', '/content/drive/My Drive/images/P11290-151r.jpg', '/content/drive/My Drive/images/P11339-153r.jpg', '/content/drive/My Drive/images/P11440-32r.jpg', '/content/drive/My Drive/images/P1149-10r.jpg', '/content/drive/My Drive/images/P11537-33r.jpg', '/content/drive/My Drive/images/P11762-35r.jpg', '/content/drive/My Drive/images/P11681-160r.jpg', '/content/drive/My Drive/images/P11740-164r.jpg', '/content/drive/My Drive/images/P11538-34r.jpg', '/content/drive/My Drive/images/P11735-162r.jpg', '/content/drive/My Drive/images/P11969-36r.jpg', '/content/drive/My Drive/images/P12063-166r.jpg', '/content/drive/My Drive/images/P12347-37r.jpg', '/content/drive/My Drive/images/P12383-38r.jpg', '/content/drive/My Drive/images/P12467-174r.jpg', '/content/drive/My Drive/images/P12494-176r.jpg', '/content/drive/My Drive/images/P12344-172r.jpg', '/content/drive/My Drive/images/P12673-178r.jpg', '/content/drive/My Drive/images/P1268-14r.jpg', '/content/drive/My Drive/images/P12189-168r.jpg', '/content/drive/My Drive/images/P12216-170r.jpg', '/content/drive/My Drive/images/P12708-39r.jpg', '/content/drive/My Drive/images/P12891-184r.jpg', '/content/drive/My Drive/images/P12835-182r.jpg', '/content/drive/My Drive/images/P13015-41r.jpg', '/content/drive/My Drive/images/P12969-190r.jpg', '/content/drive/My Drive/images/P12828-40r.jpg', '/content/drive/My Drive/images/P1300-16r.jpg', '/content/drive/My Drive/images/P12823-180r.jpg', '/content/drive/My Drive/images/P12922-186r.jpg', '/content/drive/My Drive/images/P12940-188r.jpg', '/content/drive/My Drive/images/P13080-192r.jpg', '/content/drive/My Drive/images/P13169-196r.jpg', '/content/drive/My Drive/images/P13382-200r.jpg', '/content/drive/My Drive/images/P13151-45r.jpg', '/content/drive/My Drive/images/P13365-198r.jpg', '/content/drive/My Drive/images/P13151-44r.jpg', '/content/drive/My Drive/images/P13122-194r.jpg', '/content/drive/My Drive/images/P1343-3r.jpg', '/content/drive/My Drive/images/P1344-4r.jpg', '/content/drive/My Drive/images/P13394-202r.jpg', '/content/drive/My Drive/images/P13481-204r.jpg', '/content/drive/My Drive/images/P14225-220r.jpg', '/content/drive/My Drive/images/P14055-216r.jpg', '/content/drive/My Drive/images/P13570-207r.jpg', '/content/drive/My Drive/images/P13659-211r.jpg', '/content/drive/My Drive/images/P13756-212r.jpg', '/content/drive/My Drive/images/P13576-209r.jpg', '/content/drive/My Drive/images/P14163-218r.jpg', '/content/drive/My Drive/images/P14448-224r.jpg', '/content/drive/My Drive/images/P14428-222r.jpg', '/content/drive/My Drive/images/P14569-226r.jpg', '/content/drive/My Drive/images/P15065-232r.jpg', '/content/drive/My Drive/images/P14733-228r.jpg', '/content/drive/My Drive/images/P1509-8r.jpg', '/content/drive/My Drive/images/P14842-230r.jpg', '/content/drive/My Drive/images/P15092-234r.jpg', '/content/drive/My Drive/images/P15204-236r.jpg', '/content/drive/My Drive/images/P15422-240r.jpg', '/content/drive/My Drive/images/P15350-238r.jpg', '/content/drive/My Drive/images/P1535-9r.jpg', '/content/drive/My Drive/images/P15494-242r.jpg', '/content/drive/My Drive/images/P1803-23r.jpg', '/content/drive/My Drive/images/P15525-244r.jpg', '/content/drive/My Drive/images/P16088-252r.jpg', '/content/drive/My Drive/images/P16051-250r.jpg', '/content/drive/My Drive/images/P18278-0r.jpg', '/content/drive/My Drive/images/P15732-246r.jpg', '/content/drive/My Drive/images/P16527-254r.jpg', '/content/drive/My Drive/images/P18337-2r.jpg', '/content/drive/My Drive/images/P18381-4r.jpg', '/content/drive/My Drive/images/P18444-6r.jpg', '/content/drive/My Drive/images/P18564-10r.jpg', '/content/drive/My Drive/images/P18952-23r.jpg', '/content/drive/My Drive/images/P18759-15r.jpg', '/content/drive/My Drive/images/P18779-19r.jpg', '/content/drive/My Drive/images/P18476-8r.jpg', '/content/drive/My Drive/images/P18721-13r.jpg', '/content/drive/My Drive/images/P18718-12r.jpg', '/content/drive/My Drive/images/P18835-21r.jpg', '/content/drive/My Drive/images/P18775-17r.jpg', '/content/drive/My Drive/images/P18976-25r.jpg', '/content/drive/My Drive/images/P19209-27r.jpg', '/content/drive/My Drive/images/P18976-26r.jpg', '/content/drive/My Drive/images/P19386-29r.jpg', '/content/drive/My Drive/images/P19401-31r.jpg', '/content/drive/My Drive/images/P19958-39r.jpg', '/content/drive/My Drive/images/P20204-41r.jpg', '/content/drive/My Drive/images/P19587-33r.jpg', '/content/drive/My Drive/images/P19683-35r.jpg', '/content/drive/My Drive/images/P20364-43r.jpg', '/content/drive/My Drive/images/P20384-45r.jpg', '/content/drive/My Drive/images/P20396-47r.jpg', '/content/drive/My Drive/images/P20645-55r.jpg', '/content/drive/My Drive/images/P20472-51r.jpg', '/content/drive/My Drive/images/P20725-58r.jpg', '/content/drive/My Drive/images/P20945-63r.jpg', '/content/drive/My Drive/images/P21211-66r.jpg', '/content/drive/My Drive/images/P20833-60r.jpg', '/content/drive/My Drive/images/P2082-25r.jpg', '/content/drive/My Drive/images/P20945-62r.jpg', '/content/drive/My Drive/images/P21252-68r.jpg', '/content/drive/My Drive/images/P22026-79r.jpg', '/content/drive/My Drive/images/P21541-69r.jpg', '/content/drive/My Drive/images/P21577-74r.jpg', '/content/drive/My Drive/images/P21559-71r.jpg', '/content/drive/My Drive/images/P21808-77r.jpg', '/content/drive/My Drive/images/P21577-73r.jpg', '/content/drive/My Drive/images/P22071-82r.jpg', '/content/drive/My Drive/images/P22080-84r.jpg', '/content/drive/My Drive/images/P22324-86r.jpg', '/content/drive/My Drive/images/P22434-88r.jpg', '/content/drive/My Drive/images/P22679-101r.jpg', '/content/drive/My Drive/images/P22578-95r.jpg', '/content/drive/My Drive/images/P22618-99r.jpg', '/content/drive/My Drive/images/P22459-90r.jpg', '/content/drive/My Drive/images/P22578-96r.jpg', '/content/drive/My Drive/images/P22494-92r.jpg', '/content/drive/My Drive/images/P22679-102r.jpg', '/content/drive/My Drive/images/P22809-105r.jpg', '/content/drive/My Drive/images/P22875-107r.jpg', '/content/drive/My Drive/images/P22897-109r.jpg', '/content/drive/My Drive/images/P23667-117r.jpg', '/content/drive/My Drive/images/P23160-111r.jpg', '/content/drive/My Drive/images/P23491-115r.jpg', '/content/drive/My Drive/images/P23751-119r.jpg', '/content/drive/My Drive/images/P23937-121r.jpg', '/content/drive/My Drive/images/P24191-129r.jpg', '/content/drive/My Drive/images/P24025-125r.jpg', '/content/drive/My Drive/images/P23937-122r.jpg', '/content/drive/My Drive/images/P24063-127r.jpg', '/content/drive/My Drive/images/P24339-133r.jpg', '/content/drive/My Drive/images/P24360-135r.jpg', '/content/drive/My Drive/images/P24823-143r.jpg', '/content/drive/My Drive/images/P24981-147r.jpg', '/content/drive/My Drive/images/P24634-139r.jpg', '/content/drive/My Drive/images/P24720-141r.jpg', '/content/drive/My Drive/images/P24473-137r.jpg', '/content/drive/My Drive/images/P25099-151r.jpg', '/content/drive/My Drive/images/P25240-153r.jpg', '/content/drive/My Drive/images/P24997-149r.jpg', '/content/drive/My Drive/images/P25240-154r.jpg', '/content/drive/My Drive/images/P25880-161r.jpg', '/content/drive/My Drive/images/P25968-163r.jpg', '/content/drive/My Drive/images/P25377-157r.jpg', '/content/drive/My Drive/images/P25986-166r.jpg', '/content/drive/My Drive/images/P26066-169r.jpg', '/content/drive/My Drive/images/P25986-165r.jpg', '/content/drive/My Drive/images/P25478-159r.jpg', '/content/drive/My Drive/images/P26291-173r.jpg', '/content/drive/My Drive/images/P26107-171r.jpg', '/content/drive/My Drive/images/P26307-175r.jpg', '/content/drive/My Drive/images/P26330-178r.jpg', '/content/drive/My Drive/images/P26330-177r.jpg', '/content/drive/My Drive/images/P26577-183r.jpg', '/content/drive/My Drive/images/P26618-185r.jpg', '/content/drive/My Drive/images/P268-2r.jpg', '/content/drive/My Drive/images/P26673-187r.jpg', '/content/drive/My Drive/images/P26910-193r.jpg', '/content/drive/My Drive/images/P27101-195r.jpg', '/content/drive/My Drive/images/P26791-189r.jpg', '/content/drive/My Drive/images/P27101-196r.jpg', '/content/drive/My Drive/images/P27249-201r.jpg', '/content/drive/My Drive/images/P2730-14r.jpg', '/content/drive/My Drive/images/P27927-213r.jpg', '/content/drive/My Drive/images/P27661-207r.jpg', '/content/drive/My Drive/images/P27471-205r.jpg', '/content/drive/My Drive/images/P27671-209r.jpg', '/content/drive/My Drive/images/P27174-199r.jpg', '/content/drive/My Drive/images/P27702-211r.jpg', '/content/drive/My Drive/images/P28096-215r.jpg', '/content/drive/My Drive/images/P28159-217r.jpg', '/content/drive/My Drive/images/P28386-223r.jpg', '/content/drive/My Drive/images/P28480-229r.jpg', '/content/drive/My Drive/images/P28349-221r.jpg', '/content/drive/My Drive/images/P2841-16r.jpg', '/content/drive/My Drive/images/P28290-219r.jpg', '/content/drive/My Drive/images/P28430-225r.jpg', '/content/drive/My Drive/images/P28463-227r.jpg', '/content/drive/My Drive/images/P28510-231r.jpg', '/content/drive/My Drive/images/P28569-233r.jpg', '/content/drive/My Drive/images/P28616-235r.jpg', '/content/drive/My Drive/images/P28729-239r.jpg', '/content/drive/My Drive/images/P29062-243r.jpg', '/content/drive/My Drive/images/P29121-247r.jpg', '/content/drive/My Drive/images/P29088-245r.jpg', '/content/drive/My Drive/images/P2883-17r.jpg', '/content/drive/My Drive/images/P28671-237r.jpg', '/content/drive/My Drive/images/P3641-19r.jpg', '/content/drive/My Drive/images/P3121-33r.jpg', '/content/drive/My Drive/images/P3570-37r.jpg', '/content/drive/My Drive/images/P3909-21r.jpg', '/content/drive/My Drive/images/P4315-46r.jpg', '/content/drive/My Drive/images/P4501-48r.jpg', '/content/drive/My Drive/images/P4439-24r.jpg', '/content/drive/My Drive/images/P4277-23r.jpg', '/content/drive/My Drive/images/P4561-50r.jpg', '/content/drive/My Drive/images/P4659-25r.jpg', '/content/drive/My Drive/images/P5051-58r.jpg', '/content/drive/My Drive/images/P4736-54r.jpg', '/content/drive/My Drive/images/P4874-56r.jpg', '/content/drive/My Drive/images/P5100-60r.jpg', '/content/drive/My Drive/images/P5109-62r.jpg', '/content/drive/My Drive/images/P51602-2r.jpg', '/content/drive/My Drive/images/P51501-0r.jpg', '/content/drive/My Drive/images/P51656-4r.jpg', '/content/drive/My Drive/images/P52209-8r.jpg', '/content/drive/My Drive/images/P52239-10r.jpg', '/content/drive/My Drive/images/P51770-6r.jpg', '/content/drive/My Drive/images/P52248-12r.jpg', '/content/drive/My Drive/images/P52248-14r.jpg', '/content/drive/My Drive/images/P52271-16r.jpg', '/content/drive/My Drive/images/P5238-66r.jpg', '/content/drive/My Drive/images/P52413-22r.jpg', '/content/drive/My Drive/images/P52587-28r.jpg', '/content/drive/My Drive/images/P52361-20r.jpg', '/content/drive/My Drive/images/P52328-18r.jpg', '/content/drive/My Drive/images/P52583-26r.jpg', '/content/drive/My Drive/images/P52563-24r.jpg', '/content/drive/My Drive/images/P52799-32r.jpg', '/content/drive/My Drive/images/P52738-30r.jpg', '/content/drive/My Drive/images/P53184-36r.jpg', '/content/drive/My Drive/images/P52861-34r.jpg', '/content/drive/My Drive/images/P53573-42r.jpg', '/content/drive/My Drive/images/P53614-44r.jpg', '/content/drive/My Drive/images/P53341-40r.jpg', '/content/drive/My Drive/images/P53776-46r.jpg', '/content/drive/My Drive/images/P53247-38r.jpg', '/content/drive/My Drive/images/P53842-52r.jpg', '/content/drive/My Drive/images/P53827-50r.jpg', '/content/drive/My Drive/images/P53802-48r.jpg', '/content/drive/My Drive/images/P53857-54r.jpg', '/content/drive/My Drive/images/P53944-62r.jpg', '/content/drive/My Drive/images/P53916-60r.jpg', '/content/drive/My Drive/images/P53866-56r.jpg', '/content/drive/My Drive/images/P54064-64r.jpg', '/content/drive/My Drive/images/P53890-58r.jpg', '/content/drive/My Drive/images/P54260-72r.jpg', '/content/drive/My Drive/images/P54190-66r.jpg', '/content/drive/My Drive/images/P54240-68r.jpg', '/content/drive/My Drive/images/P54249-70r.jpg', '/content/drive/My Drive/images/P54423-74r.jpg', '/content/drive/My Drive/images/P55089-84r.jpg', '/content/drive/My Drive/images/P54936-80r.jpg', '/content/drive/My Drive/images/P55211-86r.jpg', '/content/drive/My Drive/images/P54657-76r.jpg', '/content/drive/My Drive/images/P55021-82r.jpg', '/content/drive/My Drive/images/P5576-68r.jpg', '/content/drive/My Drive/images/P55621-90r.jpg', '/content/drive/My Drive/images/P55374-88r.jpg', '/content/drive/My Drive/images/P55793-92r.jpg', '/content/drive/My Drive/images/P55845-94r.jpg', '/content/drive/My Drive/images/P56558-110r.jpg', '/content/drive/My Drive/images/P56103-102r.jpg', '/content/drive/My Drive/images/P56185-104r.jpg', '/content/drive/My Drive/images/P56463-108r.jpg', '/content/drive/My Drive/images/P56414-106r.jpg', '/content/drive/My Drive/images/P55879-96r.jpg', '/content/drive/My Drive/images/P55888-98r.jpg', '/content/drive/My Drive/images/P56585-112r.jpg', '/content/drive/My Drive/images/P56840-114r.jpg', '/content/drive/My Drive/images/P56909-116r.jpg', '/content/drive/My Drive/images/P57225-118r.jpg', '/content/drive/My Drive/images/P5762-70r.jpg', '/content/drive/My Drive/images/P57593-128r.jpg', '/content/drive/My Drive/images/P57555-126r.jpg', '/content/drive/My Drive/images/P57380-120r.jpg', '/content/drive/My Drive/images/P57540-124r.jpg', '/content/drive/My Drive/images/P57784-132r.jpg', '/content/drive/My Drive/images/P57861-134r.jpg', '/content/drive/My Drive/images/P57627-130r.jpg', '/content/drive/My Drive/images/P57883-136r.jpg', '/content/drive/My Drive/images/P58352-148r.jpg', '/content/drive/My Drive/images/P57962-142r.jpg', '/content/drive/My Drive/images/P58302-146r.jpg', '/content/drive/My Drive/images/P57898-138r.jpg', '/content/drive/My Drive/images/P58262-144r.jpg', '/content/drive/My Drive/images/P57927-140r.jpg', '/content/drive/My Drive/images/P58841-154r.jpg', '/content/drive/My Drive/images/P58780-152r.jpg', '/content/drive/My Drive/images/P58503-150r.jpg', '/content/drive/My Drive/images/P58969-156r.jpg', '/content/drive/My Drive/images/P59724-170r.jpg', '/content/drive/My Drive/images/P59501-168r.jpg', '/content/drive/My Drive/images/P59440-166r.jpg', '/content/drive/My Drive/images/P59293-160r.jpg', '/content/drive/My Drive/images/P59420-164r.jpg', '/content/drive/My Drive/images/P59391-162r.jpg', '/content/drive/My Drive/images/P59286-158r.jpg', '/content/drive/My Drive/images/P59777-172r.jpg', '/content/drive/My Drive/images/P59832-174r.jpg', '/content/drive/My Drive/images/P59840-176r.jpg', '/content/drive/My Drive/images/P6113-76r.jpg', '/content/drive/My Drive/images/P60035-178r.jpg', '/content/drive/My Drive/images/P61044-184r.jpg', '/content/drive/My Drive/images/P61660-190r.jpg', '/content/drive/My Drive/images/P60227-182r.jpg', '/content/drive/My Drive/images/P60164-180r.jpg', '/content/drive/My Drive/images/P6046-74r.jpg', '/content/drive/My Drive/images/P61600-186r.jpg', '/content/drive/My Drive/images/P61628-188r.jpg', '/content/drive/My Drive/images/P61713-192r.jpg', '/content/drive/My Drive/images/P62009-196r.jpg', '/content/drive/My Drive/images/P62333-200r.jpg', '/content/drive/My Drive/images/P61949-194r.jpg', '/content/drive/My Drive/images/P62319-198r.jpg', '/content/drive/My Drive/images/P62379-202r.jpg', '/content/drive/My Drive/images/P63000-204r.jpg', '/content/drive/My Drive/images/P63124-208r.jpg', '/content/drive/My Drive/images/P63102-206r.jpg', '/content/drive/My Drive/images/P6281-78r.jpg', '/content/drive/My Drive/images/P63199-210r.jpg', '/content/drive/My Drive/images/P63671-220r.jpg', '/content/drive/My Drive/images/P63467-216r.jpg', '/content/drive/My Drive/images/P63265-212r.jpg', '/content/drive/My Drive/images/P63640-218r.jpg', '/content/drive/My Drive/images/P63443-214r.jpg', '/content/drive/My Drive/images/P63758-222r.jpg', '/content/drive/My Drive/images/P64043-226r.jpg', '/content/drive/My Drive/images/P63866-224r.jpg', '/content/drive/My Drive/images/P64068-228r.jpg', '/content/drive/My Drive/images/P64234-230r.jpg', '/content/drive/My Drive/images/P64976-238r.jpg', '/content/drive/My Drive/images/P65298-242r.jpg', '/content/drive/My Drive/images/P6534-84r.jpg', '/content/drive/My Drive/images/P64700-236r.jpg', '/content/drive/My Drive/images/P65219-240r.jpg', '/content/drive/My Drive/images/P64239-232r.jpg', '/content/drive/My Drive/images/P64282-234r.jpg', '/content/drive/My Drive/images/P65385-244r.jpg', '/content/drive/My Drive/images/P65467-246r.jpg', '/content/drive/My Drive/images/P65528-248r.jpg', '/content/drive/My Drive/images/P6877-86r.jpg', '/content/drive/My Drive/images/P6961-88r.jpg', '/content/drive/My Drive/images/P666-4r.jpg', '/content/drive/My Drive/images/P66158-252r.jpg', '/content/drive/My Drive/images/P7441-91r.jpg', '/content/drive/My Drive/images/P65810-250r.jpg', '/content/drive/My Drive/images/P7466-93r.jpg', '/content/drive/My Drive/images/P7621-95r.jpg', '/content/drive/My Drive/images/P7660-97r.jpg', '/content/drive/My Drive/images/P7776-99r.jpg', '/content/drive/My Drive/images/P832-6r.jpg', '/content/drive/My Drive/images/P9132-109r.jpg', '/content/drive/My Drive/images/P7789-101r.jpg', '/content/drive/My Drive/images/P8625-105r.jpg', '/content/drive/My Drive/images/P8973-107r.jpg', '/content/drive/My Drive/images/P7797-103r.jpg', '/content/drive/My Drive/images/P9226-113r.jpg', '/content/drive/My Drive/images/P9171-111r.jpg', '/content/drive/My Drive/images/P9331-115r.jpg', '/content/drive/My Drive/images/P9603-117r.jpg', '/content/drive/My Drive/images/P9995-123r.jpg', '/content/drive/My Drive/images/P9755-119r.jpg', '/content/drive/My Drive/images/P9897-121r.jpg']\n"
     ]
    }
   ],
   "source": [
    "# listing the directory\n",
    "items = os.listdir('/content/drive/My Drive/images')\n",
    " \n",
    "images = []\n",
    "for each_image in items:\n",
    "  if each_image.endswith(\".jpg\"):\n",
    "    full_path = \"/content/drive/My Drive/images/\" + each_image\n",
    "    images.append(full_path)\n",
    "\n",
    "# Create image list    \n",
    "print(images)"
   ]
  },
  {
   "cell_type": "code",
   "execution_count": 0,
   "metadata": {
    "colab": {},
    "colab_type": "code",
    "id": "ErjQrrl6_fsm"
   },
   "outputs": [],
   "source": [
    "\"\"\"\n",
    "First, Function will read all image of honey bee.\n",
    "Second, All images will be resize to 300*180 size.\n",
    "Third, All image will be flatten and store into list variable.\n",
    "Labels will be assign as 0 for Non Pollen Bee and 1 for Pollen Bee.\n",
    "Funtion will return array of flatten image and array of labels\n",
    "\n",
    "\"\"\"\n",
    "def dataset(file_list,size=(64,64),flattened=False):\n",
    "\tdata = []\n",
    "\tfor i, file in enumerate(file_list):\n",
    "\t\timage = io.imread(file)\n",
    "\t\timage = transform.resize(image, size, mode='constant')\n",
    "\t\tif flattened:\n",
    "\t\t\timage = image.flatten()\n",
    "\n",
    "\t\tdata.append(image)\n",
    "\n",
    "\tlabels = [1 if f.split(\"/\")[-1][0] == 'P' else 0 for f in file_list]\n",
    "\n",
    "\treturn np.array(data), np.array(labels)"
   ]
  },
  {
   "cell_type": "code",
   "execution_count": 0,
   "metadata": {
    "colab": {},
    "colab_type": "code",
    "id": "ecD1xnKy_nZt"
   },
   "outputs": [],
   "source": [
    "# Call dataset funtion to create feature and target label\n",
    "X,y=dataset(images)"
   ]
  },
  {
   "cell_type": "code",
   "execution_count": 84,
   "metadata": {
    "colab": {
     "base_uri": "https://localhost:8080/",
     "height": 50
    },
    "colab_type": "code",
    "id": "1qatbuZM_u1M",
    "outputId": "a5378936-c4c8-4b04-9e77-b45393ff13d0"
   },
   "outputs": [
    {
     "name": "stdout",
     "output_type": "stream",
     "text": [
      "X:  (714, 64, 64, 3)\n",
      "y:  (714,)\n"
     ]
    }
   ],
   "source": [
    "# X has the following structure: X[imageid, y,x,channel]\n",
    "print('X: ',X.shape)  # data\n",
    "print('y: ',y.shape)  # target"
   ]
  },
  {
   "cell_type": "code",
   "execution_count": 85,
   "metadata": {
    "colab": {
     "base_uri": "https://localhost:8080/",
     "height": 400
    },
    "colab_type": "code",
    "id": "li0LeMloAYpJ",
    "outputId": "6e363505-ed4f-4746-9a5e-9b0822015ca5"
   },
   "outputs": [
    {
     "name": "stdout",
     "output_type": "stream",
     "text": [
      "Class 0:  345\n",
      "Class 1:  369\n",
      "Total  :  714\n",
      "[0 0 0 0 0 0 0 0 0 0 0 0 0 0 0 0 0 0 0 0 0 0 0 0 0 0 0 0 0 0 0 0 0 0 0 0 0\n",
      " 0 0 0 0 0 0 0 0 0 0 0 0 0 0 0 0 0 0 0 0 0 0 0 0 0 0 0 0 0 0 0 0 0 0 0 0 0\n",
      " 0 0 0 0 0 0 0 0 0 0 0 0 0 0 0 0 0 0 0 0 0 0 0 0 0 0 0 0 0 0 0 0 0 0 0 0 0\n",
      " 0 0 0 0 0 0 0 0 0 0 0 0 0 0 0 0 0 0 0 0 0 0 0 0 0 0 0 0 0 0 0 0 0 0 0 0 0\n",
      " 0 0 0 0 0 0 0 0 0 0 0 0 0 0 0 0 0 0 0 0 0 0 0 0 0 0 0 0 0 0 0 0 0 0 0 0 0\n",
      " 0 0 0 0 0 0 0 0 0 0 0 0 0 0 0 0 0 0 0 0 0 0 0 0 0 0 0 0 0 0 0 0 0 0 0 0 0\n",
      " 0 0 0 0 0 0 0 0 0 0 0 0 0 0 0 0 0 0 0 0 0 0 0 0 0 0 0 0 0 0 0 0 0 0 0 0 0\n",
      " 0 0 0 0 0 0 0 0 0 0 0 0 0 0 0 0 0 0 0 0 0 0 0 0 0 0 0 0 0 0 0 0 0 0 0 0 0\n",
      " 0 0 0 0 0 0 0 0 0 0 0 0 0 0 0 0 0 0 0 0 0 0 0 0 0 0 0 0 0 0 0 0 0 0 0 0 0\n",
      " 0 0 0 0 0 0 0 0 0 0 0 1 1 1 0 1 1 1 1 1 1 1 1 1 1 1 1 1 1 1 1 1 1 1 1 1 1\n",
      " 1 1 1 1 1 1 1 1 1 1 1 1 1 1 1 1 1 1 1 1 1 1 1 1 1 1 1 1 1 1 1 1 1 1 1 1 1\n",
      " 1 1 1 1 1 1 1 1 1 1 1 1 1 1 1 1 1 1 1 1 1 1 1 1 1 1 1 1 1 1 1 1 1 1 1 1 1\n",
      " 1 1 1 1 1 1 1 1 1 1 1 1 1 1 1 1 1 1 1 1 1 1 1 1 1 1 1 1 1 1 1 1 1 1 1 1 1\n",
      " 1 1 1 1 1 1 1 1 1 1 1 1 1 1 1 1 1 1 1 1 1 1 1 1 1 1 1 1 1 1 1 1 1 1 1 1 1\n",
      " 1 1 1 1 1 1 1 1 1 1 1 1 1 1 1 1 1 1 1 1 1 1 1 1 1 1 1 1 1 1 1 1 1 1 1 1 1\n",
      " 1 1 1 1 1 1 1 1 1 1 1 1 1 1 1 1 1 1 1 1 1 1 1 1 1 1 1 1 1 1 1 1 1 1 1 1 1\n",
      " 1 1 1 1 1 1 1 1 1 1 1 1 1 1 1 1 1 1 1 1 1 1 1 1 1 1 1 1 1 1 1 1 1 1 1 1 1\n",
      " 1 1 1 1 1 1 1 1 1 1 1 1 1 1 1 1 1 1 1 1 1 1 1 1 1 1 1 1 1 1 1 1 1 1 1 1 1\n",
      " 1 1 1 1 1 1 1 1 1 1 1 1 1 1 1 1 1 1 1 1 1 1 1 1 1 1 1 1 1 1 1 1 1 1 1 1 1\n",
      " 1 1 1 1 1 1 1 1 1 1 1]\n"
     ]
    }
   ],
   "source": [
    "print('Class 0: ',sum(y==0))\n",
    "print('Class 1: ',sum(y==1))\n",
    "print('Total  : ',len(y))\n",
    "print(y)\n",
    " "
   ]
  },
  {
   "cell_type": "code",
   "execution_count": 86,
   "metadata": {
    "colab": {
     "base_uri": "https://localhost:8080/",
     "height": 215
    },
    "colab_type": "code",
    "id": "-UYhDUcLAeJV",
    "outputId": "017270e3-47a2-4a49-8eb5-0ba151f723e2"
   },
   "outputs": [
    {
     "data": {
      "image/png": "[encoded data removed]",
      "text/plain": [
       "<Figure size 432x288 with 2 Axes>"
      ]
     },
     "metadata": {
      "tags": []
     },
     "output_type": "display_data"
    }
   ],
   "source": [
    "%matplotlib inline\n",
    "# Bellow images is of Pollen and NonPollen Honey Bee\n",
    "fig, axes = plt.subplots(1,2)\n",
    "k=0\n",
    "plt.sca(axes[0])\n",
    "plt.imshow(X[k])\n",
    "plt.title('img {} - class {}'.format(k, y[k]))\n",
    "\n",
    "k=400\n",
    "plt.sca(axes[1])\n",
    "plt.imshow(X[k])\n",
    "plt.title('img {} - class {}'.format(k, y[k]));"
   ]
  },
  {
   "cell_type": "code",
   "execution_count": 0,
   "metadata": {
    "colab": {},
    "colab_type": "code",
    "id": "jYC_nAUMAiwk"
   },
   "outputs": [],
   "source": [
    "import tensorflow as tf\n",
    "from sklearn.model_selection import train_test_split"
   ]
  },
  {
   "cell_type": "code",
   "execution_count": 88,
   "metadata": {
    "colab": {
     "base_uri": "https://localhost:8080/",
     "height": 33
    },
    "colab_type": "code",
    "id": "-eQnE4vPAlpC",
    "outputId": "514d9510-2853-4567-d915-bbb7f774eaed"
   },
   "outputs": [
    {
     "name": "stdout",
     "output_type": "stream",
     "text": [
      "(571, 64, 64, 3) (571,)\n"
     ]
    }
   ],
   "source": [
    "X_train,X_test,y_train,y_test = train_test_split(X,y,test_size=0.20, random_state=123)\n",
    "print(X_train.shape,y_train.shape)"
   ]
  },
  {
   "cell_type": "markdown",
   "metadata": {
    "colab_type": "text",
    "id": "RSwhstRynYiy"
   },
   "source": [
    "# Part A\n",
    "## CNN Model\n",
    "\n",
    "Build a CNN model function which have three convolution and pooling layer with three fully connected layer(one dense, one dropout and one output layer)."
   ]
  },
  {
   "cell_type": "code",
   "execution_count": 0,
   "metadata": {
    "colab": {},
    "colab_type": "code",
    "id": "--ICbG87AqEl"
   },
   "outputs": [],
   "source": [
    "def create_model(features, labels, mode, params):\n",
    "  \n",
    "    # Reshape the input image to 64*64 \n",
    "    entry_data = tf.reshape(features['X'], [-1, 64, 64, 3])\n",
    "    \n",
    "    ### Condition to get the parameter values\n",
    "    \n",
    "    # Default flags \n",
    "    actn_fun = tf.nn.relu  \n",
    "    error_cng = False\n",
    "    optm_flag = False\n",
    "    layer_flag = False\n",
    "    kernal_init = None\n",
    "    ker_size = 5\n",
    "    \n",
    "    # For Part B\n",
    "          \n",
    "    if params.get('A') == 1:\n",
    "      actn_fun = params.get('B')[0]      \n",
    "    elif params.get('A') == 2:\n",
    "      error_cng = True\n",
    "    elif params.get('A') == 3:\n",
    "      optm_flag = True      \n",
    "    elif params.get('A') == 4:\n",
    "      layer_flag = True    \n",
    "    elif params.get('A') == 5: \n",
    "      ker_size = params.get('F')[0]\n",
    "    elif params.get('A') == 6: \n",
    "      kernal_init = params.get('G')[0]\n",
    "    else:\n",
    "      actn_fun = tf.nn.relu  \n",
    "      error_cng = False\n",
    "      optm_flag = False\n",
    "      layer_flag = False\n",
    "      kernal_init = None\n",
    "      ker_size = 5\n",
    "    \n",
    "    #### First layer\n",
    "    \n",
    "    # First Convolution Layer with 32 filter having kernal size of 5 and activation function\n",
    "    convolu1 = tf.layers.conv2d(inputs = entry_data, filters = 32, kernel_size=ker_size, activation = actn_fun,padding = 'same',kernel_initializer=kernal_init)   \n",
    "    # First Pooling layer of max_pooling with pool_size of 2 and strides of 2 pixel\n",
    "    pooling1 = tf.layers.max_pooling2d(inputs = convolu1, pool_size = [2,2], strides = 2)\n",
    "    \n",
    "   \n",
    "    #### Second Layer\n",
    "    \n",
    "    # Second Convolution Layer with 64 filter having kernal size of 5 and activation function\n",
    "    convolu2 = tf.layers.conv2d(inputs = pooling1, filters = 64, kernel_size = ker_size, activation = actn_fun,padding = 'same',kernel_initializer=kernal_init)\n",
    "    # Second Pooling layer of max_pooling with pool_size of 2 and strides of 2 pixel\n",
    "    pooling2 = tf.layers.max_pooling2d(inputs = convolu2, pool_size = [2,2], strides = 2)\n",
    "    \n",
    "    \n",
    "    #### Third Layer\n",
    "    \n",
    "    # Third Convolution Layer with 64 filter having kernal size of 5 and activation function\n",
    "    convolu3 = tf.layers.conv2d(inputs = pooling2, filters = 128, kernel_size = ker_size, activation = actn_fun,padding = 'same',kernel_initializer=kernal_init)\n",
    "    # Third Pooling layer of max_pooling with pool_size of 2 and strides of 2 pixel\n",
    "    pooling3 = tf.layers.max_pooling2d(inputs = convolu3, pool_size = [2,2], strides = 2)\n",
    "    \n",
    "    \n",
    "    #### Fully connected Layer\n",
    "    \n",
    "    # Flat the output of last pooling layer\n",
    "    \n",
    "    if layer_flag:\n",
    "      flattening = tf.reshape(pooling2, [-1, 16 * 16 * 64])\n",
    "    else:\n",
    "      flattening = tf.reshape(pooling3, [-1, 8 * 8 * 128])\n",
    "    \n",
    "    # First dense layer with 3000 units \n",
    "    dense = tf.layers.dense(inputs = flattening, units = 3000, activation = tf.nn.relu)\n",
    "    # dropout layer with dropout rate 30%\n",
    "    dropout = tf.layers.dropout(inputs = dense, rate = 0.3, training=mode == tf.estimator.ModeKeys.TRAIN)\n",
    "    \n",
    "    \n",
    "    #### Output Layer with 2 units since we are dealing with binary classification\n",
    "    exit_l = tf.layers.dense(inputs = dropout, units = 2)\n",
    "    \n",
    "    # Predicted lables by using argmax function\n",
    "    #predicted = tf.argmax(exit_l, axis = 1);\n",
    "    \n",
    "    predicted = {\n",
    "        \"classes\" : tf.argmax(exit_l, axis = 1),        \n",
    "    }\n",
    "    \n",
    "    # For inference mode\n",
    "    if mode == tf.estimator.ModeKeys.PREDICT:\n",
    "        return tf.estimator.EstimatorSpec(mode = mode, predictions = predicted)\n",
    "    \n",
    "    # Error rate for Train and Eval model mode\n",
    "    if error_cng:\n",
    "      temp_labels = tf.reshape(labels, [-1, 1])\n",
    "      error = tf.losses.hinge_loss(labels = temp_labels, logits = exit_l[:,1:])\n",
    "    else:\n",
    "      error = tf.losses.sparse_softmax_cross_entropy(labels = labels, logits = exit_l)\n",
    "    \n",
    "       \n",
    "    accuracy = tf.metrics.accuracy(labels=labels, predictions=predicted[\"classes\"])\n",
    "    logging_hook = tf.train.LoggingTensorHook({\"loss\" : error, \"accuracy\" : accuracy[1]}, every_n_iter=10)\n",
    "    \n",
    "    # For Train mode, Use optimizer to optimize the weights\n",
    "    if mode == tf.estimator.ModeKeys.TRAIN:\n",
    "      if optm_flag:\n",
    "        optimizer = tf.train.AdagradOptimizer(learning_rate = 0.001)\n",
    "      else:\n",
    "        optimizer = tf.train.AdamOptimizer(learning_rate = 0.001)\n",
    "      training = optimizer.minimize(error, global_step = tf.train.get_global_step())\n",
    "      steps = tf.train.get_global_step()\n",
    "      return tf.estimator.EstimatorSpec(mode = mode, loss = error, train_op = training,training_hooks = [logging_hook])   \n",
    "    \n",
    "    # For Eval Model, measure the accuracy for the test data\n",
    "    if mode == tf.estimator.ModeKeys.EVAL:\n",
    "        accuracy = tf.metrics.accuracy(labels = labels, predictions = predicted['classes'])\n",
    "        eval_metrics_ops = {'accuracy': tf.metrics.accuracy(labels = labels, predictions = predicted['classes'])}\n",
    "        logging_hook = tf.train.LoggingTensorHook({\"loss\" : error, \"accuracy\" : accuracy[1]}, every_n_iter=10)\n",
    "        return tf.estimator.EstimatorSpec(mode = mode, loss = error, eval_metric_ops = eval_metrics_ops,evaluation_hooks=[logging_hook])"
   ]
  },
  {
   "cell_type": "code",
   "execution_count": 0,
   "metadata": {
    "colab": {},
    "colab_type": "code",
    "id": "iAHArJLAB9oF"
   },
   "outputs": [],
   "source": [
    "def model_train_test(classifier,epoch_num):\n",
    "  \n",
    "  # Train CNN model for train images with batch size of 16 with steps = 100\n",
    "  train_function = tf.estimator.inputs.numpy_input_fn(x = {'X': X_train}, y = y_train,batch_size = 16, num_epochs = None, shuffle = True)\n",
    "  classifier.train(input_fn=train_function, steps = 100)\n",
    "\n",
    "  # Test CNN model with test dataset with num_epochs from the function\n",
    "  test_function = tf.estimator.inputs.numpy_input_fn(x = {'X': X_test}, y = y_test, num_epochs = epoch_num,shuffle = False)\n",
    "  pred_value = classifier.evaluate(input_fn=test_function)\n",
    "  \n",
    "  # Return accuracy\n",
    "  return pred_value"
   ]
  },
  {
   "cell_type": "code",
   "execution_count": 0,
   "metadata": {
    "colab": {},
    "colab_type": "code",
    "id": "ZliSL-kqQZXP"
   },
   "outputs": [],
   "source": [
    "def bar_plot(list,x_pos,y_label,title):\n",
    "  y_pos = np.arange(len(list))\n",
    "  plt.bar(y_pos,x_pos,align='center',alpha=0.5,color='g')\n",
    "  plt.xticks(y_pos, list)\n",
    "  plt.ylabel(y_label)\n",
    "  plt.title(title)\n",
    "  plt.show()\n",
    "  "
   ]
  },
  {
   "cell_type": "markdown",
   "metadata": {
    "colab_type": "text",
    "id": "O-8siAkkRtep"
   },
   "source": [
    "# Part B\n",
    "## Different Activation function\n",
    "\n",
    "Below funtion will train CNN with three activation function like (1) Rectified linear unit (ReLU)\n",
    "(2) Leaky rectified linear unit (Leaky ReLU)  (3) TanH. Also CNN will be trained for test dataset and measure the accuracy for each CNN with activation function.\n",
    "\n"
   ]
  },
  {
   "cell_type": "markdown",
   "metadata": {
    "colab_type": "text",
    "id": "6_81NTcqiUzC"
   },
   "source": [
    "## Relu Activation Function:"
   ]
  },
  {
   "cell_type": "code",
   "execution_count": 92,
   "metadata": {
    "colab": {
     "base_uri": "https://localhost:8080/",
     "height": 887
    },
    "colab_type": "code",
    "id": "E9K2glPYLJPC",
    "outputId": "24befb32-109d-452e-fca6-6a704d172cda"
   },
   "outputs": [
    {
     "name": "stdout",
     "output_type": "stream",
     "text": [
      "INFO:tensorflow:Using default config.\n",
      "WARNING:tensorflow:Using temporary folder as model directory: /tmp/tmp7jcxo5hi\n",
      "INFO:tensorflow:Using config: {'_model_dir': '/tmp/tmp7jcxo5hi', '_tf_random_seed': None, '_save_summary_steps': 100, '_save_checkpoints_steps': None, '_save_checkpoints_secs': 600, '_session_config': allow_soft_placement: true\n",
      "graph_options {\n",
      "  rewrite_options {\n",
      "    meta_optimizer_iterations: ONE\n",
      "  }\n",
      "}\n",
      ", '_keep_checkpoint_max': 5, '_keep_checkpoint_every_n_hours': 10000, '_log_step_count_steps': 100, '_train_distribute': None, '_device_fn': None, '_protocol': None, '_eval_distribute': None, '_experimental_distribute': None, '_service': None, '_cluster_spec': <tensorflow.python.training.server_lib.ClusterSpec object at 0x7f11a7220518>, '_task_type': 'worker', '_task_id': 0, '_global_id_in_cluster': 0, '_master': '', '_evaluation_master': '', '_is_chief': True, '_num_ps_replicas': 0, '_num_worker_replicas': 1}\n",
      "INFO:tensorflow:Calling model_fn.\n",
      "INFO:tensorflow:Done calling model_fn.\n",
      "INFO:tensorflow:Create CheckpointSaverHook.\n",
      "INFO:tensorflow:Graph was finalized.\n",
      "INFO:tensorflow:Running local_init_op.\n",
      "INFO:tensorflow:Done running local_init_op.\n",
      "INFO:tensorflow:Saving checkpoints for 0 into /tmp/tmp7jcxo5hi/model.ckpt.\n",
      "INFO:tensorflow:loss = 0.7091541886329651, step = 1\n",
      "INFO:tensorflow:accuracy = 0.3125, loss = 0.7091541886329651\n",
      "INFO:tensorflow:accuracy = 0.375, loss = 0.6953791379928589 (9.834 sec)\n",
      "INFO:tensorflow:accuracy = 0.41666666, loss = 0.7284747958183289 (9.630 sec)\n",
      "INFO:tensorflow:accuracy = 0.421875, loss = 0.6957825422286987 (9.569 sec)\n",
      "INFO:tensorflow:accuracy = 0.475, loss = 0.5909742116928101 (9.615 sec)\n",
      "INFO:tensorflow:accuracy = 0.5520833, loss = 0.27313491702079773 (9.620 sec)\n",
      "INFO:tensorflow:accuracy = 0.60714287, loss = 0.32476499676704407 (9.692 sec)\n",
      "INFO:tensorflow:accuracy = 0.625, loss = 0.2947028875350952 (9.547 sec)\n",
      "INFO:tensorflow:accuracy = 0.6597222, loss = 0.1171012818813324 (9.633 sec)\n",
      "INFO:tensorflow:accuracy = 0.6875, loss = 0.2793775796890259 (9.570 sec)\n",
      "INFO:tensorflow:Saving checkpoints for 100 into /tmp/tmp7jcxo5hi/model.ckpt.\n",
      "INFO:tensorflow:Loss for final step: 0.130033940076828.\n",
      "INFO:tensorflow:Calling model_fn.\n",
      "INFO:tensorflow:Done calling model_fn.\n",
      "INFO:tensorflow:Starting evaluation at 2019-04-03T22:45:00Z\n",
      "INFO:tensorflow:Graph was finalized.\n",
      "INFO:tensorflow:Restoring parameters from /tmp/tmp7jcxo5hi/model.ckpt-100\n",
      "INFO:tensorflow:Running local_init_op.\n",
      "INFO:tensorflow:Done running local_init_op.\n",
      "INFO:tensorflow:accuracy = 0.7890625, loss = 0.44481366872787476\n",
      "INFO:tensorflow:accuracy = 0.796875, loss = 0.441761314868927 (17.060 sec)\n",
      "INFO:tensorflow:accuracy = 0.7994792, loss = 0.43545863032341003 (17.122 sec)\n",
      "INFO:tensorflow:accuracy = 0.7988281, loss = 0.43053844571113586 (16.998 sec)\n",
      "INFO:tensorflow:accuracy = 0.7984375, loss = 0.43174290657043457 (17.039 sec)\n",
      "INFO:tensorflow:accuracy = 0.79817706, loss = 0.4448794424533844 (16.999 sec)\n",
      "INFO:tensorflow:accuracy = 0.7957589, loss = 0.4789777100086212 (17.064 sec)\n",
      "INFO:tensorflow:accuracy = 0.7939453, loss = 0.47834208607673645 (17.184 sec)\n",
      "INFO:tensorflow:accuracy = 0.7925347, loss = 0.4779089093208313 (17.210 sec)\n",
      "INFO:tensorflow:accuracy = 0.7921875, loss = 0.46725019812583923 (17.032 sec)\n",
      "INFO:tensorflow:accuracy = 0.7911932, loss = 0.4685141444206238 (16.993 sec)\n",
      "INFO:tensorflow:accuracy = 0.7916667, loss = 0.45485201478004456 (17.016 sec)\n",
      "INFO:tensorflow:Finished evaluation at 2019-04-03-22:48:11\n",
      "INFO:tensorflow:Saving dict for global step 100: accuracy = 0.7902098, global_step = 100, loss = 0.454508\n",
      "INFO:tensorflow:Saving 'checkpoint_path' summary for global step 100: /tmp/tmp7jcxo5hi/model.ckpt-100\n"
     ]
    }
   ],
   "source": [
    "tf.logging.set_verbosity(tf.logging.INFO)\n",
    "\n",
    "Acc_list = []\n",
    "\n",
    "# Train and test CNN model with Relu Activation function  \n",
    "classifier = tf.estimator.Estimator(model_fn = create_model,params={'A': 1 ,'B':[tf.nn.relu]})\n",
    "Accuracy_Relu = model_train_test(classifier,100)\n",
    "\n",
    "#print(Accuracy_Relu)\n",
    "Acc_list.append(Accuracy_Relu.get('accuracy')*100)"
   ]
  },
  {
   "cell_type": "markdown",
   "metadata": {
    "colab_type": "text",
    "id": "ngvmEX69AqTk"
   },
   "source": [
    "## LeakyRelu Activation Function"
   ]
  },
  {
   "cell_type": "code",
   "execution_count": 93,
   "metadata": {
    "colab": {
     "base_uri": "https://localhost:8080/",
     "height": 887
    },
    "colab_type": "code",
    "id": "M8Pk9AP-AUKH",
    "outputId": "4ab9f5e6-924d-46f2-83d4-f9aa193c1ad7"
   },
   "outputs": [
    {
     "name": "stdout",
     "output_type": "stream",
     "text": [
      "INFO:tensorflow:Using default config.\n",
      "WARNING:tensorflow:Using temporary folder as model directory: /tmp/tmpxt9bd3jx\n",
      "INFO:tensorflow:Using config: {'_model_dir': '/tmp/tmpxt9bd3jx', '_tf_random_seed': None, '_save_summary_steps': 100, '_save_checkpoints_steps': None, '_save_checkpoints_secs': 600, '_session_config': allow_soft_placement: true\n",
      "graph_options {\n",
      "  rewrite_options {\n",
      "    meta_optimizer_iterations: ONE\n",
      "  }\n",
      "}\n",
      ", '_keep_checkpoint_max': 5, '_keep_checkpoint_every_n_hours': 10000, '_log_step_count_steps': 100, '_train_distribute': None, '_device_fn': None, '_protocol': None, '_eval_distribute': None, '_experimental_distribute': None, '_service': None, '_cluster_spec': <tensorflow.python.training.server_lib.ClusterSpec object at 0x7f11a73b4470>, '_task_type': 'worker', '_task_id': 0, '_global_id_in_cluster': 0, '_master': '', '_evaluation_master': '', '_is_chief': True, '_num_ps_replicas': 0, '_num_worker_replicas': 1}\n",
      "INFO:tensorflow:Calling model_fn.\n",
      "INFO:tensorflow:Done calling model_fn.\n",
      "INFO:tensorflow:Create CheckpointSaverHook.\n",
      "INFO:tensorflow:Graph was finalized.\n",
      "INFO:tensorflow:Running local_init_op.\n",
      "INFO:tensorflow:Done running local_init_op.\n",
      "INFO:tensorflow:Saving checkpoints for 0 into /tmp/tmpxt9bd3jx/model.ckpt.\n",
      "INFO:tensorflow:loss = 0.6982902884483337, step = 1\n",
      "INFO:tensorflow:accuracy = 0.5, loss = 0.6982902884483337\n",
      "INFO:tensorflow:accuracy = 0.5, loss = 0.7335168123245239 (10.001 sec)\n",
      "INFO:tensorflow:accuracy = 0.625, loss = 0.5683978796005249 (9.844 sec)\n",
      "INFO:tensorflow:accuracy = 0.625, loss = 0.9320833683013916 (9.835 sec)\n",
      "INFO:tensorflow:accuracy = 0.6875, loss = 0.23828187584877014 (9.807 sec)\n",
      "INFO:tensorflow:accuracy = 0.7291667, loss = 0.3040585219860077 (9.844 sec)\n",
      "INFO:tensorflow:accuracy = 0.76785713, loss = 0.08006364852190018 (9.799 sec)\n",
      "INFO:tensorflow:accuracy = 0.7734375, loss = 0.26635926961898804 (9.788 sec)\n",
      "INFO:tensorflow:accuracy = 0.7777778, loss = 0.27281123399734497 (9.837 sec)\n",
      "INFO:tensorflow:accuracy = 0.8, loss = 0.09971688687801361 (10.278 sec)\n",
      "INFO:tensorflow:Saving checkpoints for 100 into /tmp/tmpxt9bd3jx/model.ckpt.\n",
      "INFO:tensorflow:Loss for final step: 0.3537408113479614.\n",
      "INFO:tensorflow:Calling model_fn.\n",
      "INFO:tensorflow:Done calling model_fn.\n",
      "INFO:tensorflow:Starting evaluation at 2019-04-03T22:50:34Z\n",
      "INFO:tensorflow:Graph was finalized.\n",
      "INFO:tensorflow:Restoring parameters from /tmp/tmpxt9bd3jx/model.ckpt-100\n",
      "INFO:tensorflow:Running local_init_op.\n",
      "INFO:tensorflow:Done running local_init_op.\n",
      "INFO:tensorflow:accuracy = 0.875, loss = 0.459383487701416\n",
      "INFO:tensorflow:accuracy = 0.87890625, loss = 0.39277273416519165 (17.355 sec)\n",
      "INFO:tensorflow:accuracy = 0.8828125, loss = 0.33224067091941833 (17.262 sec)\n",
      "INFO:tensorflow:accuracy = 0.8828125, loss = 0.3568756580352783 (17.280 sec)\n",
      "INFO:tensorflow:accuracy = 0.8859375, loss = 0.316949725151062 (19.485 sec)\n",
      "INFO:tensorflow:accuracy = 0.8880208, loss = 0.36767899990081787 (17.303 sec)\n",
      "INFO:tensorflow:accuracy = 0.88616073, loss = 0.4613955318927765 (17.573 sec)\n",
      "INFO:tensorflow:accuracy = 0.88378906, loss = 0.46569883823394775 (17.279 sec)\n",
      "INFO:tensorflow:accuracy = 0.8819444, loss = 0.4639872610569 (17.232 sec)\n",
      "INFO:tensorflow:accuracy = 0.88125, loss = 0.45356133580207825 (17.276 sec)\n",
      "INFO:tensorflow:accuracy = 0.8806818, loss = 0.4558325707912445 (17.241 sec)\n",
      "INFO:tensorflow:accuracy = 0.8808594, loss = 0.431942880153656 (17.260 sec)\n",
      "INFO:tensorflow:Finished evaluation at 2019-04-03-22:53:50\n",
      "INFO:tensorflow:Saving dict for global step 100: accuracy = 0.8811189, global_step = 100, loss = 0.4201398\n",
      "INFO:tensorflow:Saving 'checkpoint_path' summary for global step 100: /tmp/tmpxt9bd3jx/model.ckpt-100\n"
     ]
    }
   ],
   "source": [
    "# Train and test CNN model with LeakyRelu Activation function\n",
    "classifier = tf.estimator.Estimator(model_fn = create_model,params={'A': 1 ,'B':[tf.nn.leaky_relu]})\n",
    "Accuracy_LeakyRelu = model_train_test(classifier,100)\n",
    "\n",
    "#print(Accuracy_LeakyRelu)\n",
    "Acc_list.append(Accuracy_LeakyRelu.get('accuracy')*100)"
   ]
  },
  {
   "cell_type": "markdown",
   "metadata": {
    "colab_type": "text",
    "id": "VoOmeAVHAwHU"
   },
   "source": [
    "## Tanh Activation Function"
   ]
  },
  {
   "cell_type": "code",
   "execution_count": 94,
   "metadata": {
    "colab": {
     "base_uri": "https://localhost:8080/",
     "height": 887
    },
    "colab_type": "code",
    "id": "TuMDoSuGAmae",
    "outputId": "e08635e2-84ad-4b5a-9591-c2b056c97a97"
   },
   "outputs": [
    {
     "name": "stdout",
     "output_type": "stream",
     "text": [
      "INFO:tensorflow:Using default config.\n",
      "WARNING:tensorflow:Using temporary folder as model directory: /tmp/tmpqipjj9ja\n",
      "INFO:tensorflow:Using config: {'_model_dir': '/tmp/tmpqipjj9ja', '_tf_random_seed': None, '_save_summary_steps': 100, '_save_checkpoints_steps': None, '_save_checkpoints_secs': 600, '_session_config': allow_soft_placement: true\n",
      "graph_options {\n",
      "  rewrite_options {\n",
      "    meta_optimizer_iterations: ONE\n",
      "  }\n",
      "}\n",
      ", '_keep_checkpoint_max': 5, '_keep_checkpoint_every_n_hours': 10000, '_log_step_count_steps': 100, '_train_distribute': None, '_device_fn': None, '_protocol': None, '_eval_distribute': None, '_experimental_distribute': None, '_service': None, '_cluster_spec': <tensorflow.python.training.server_lib.ClusterSpec object at 0x7f11ab7b4860>, '_task_type': 'worker', '_task_id': 0, '_global_id_in_cluster': 0, '_master': '', '_evaluation_master': '', '_is_chief': True, '_num_ps_replicas': 0, '_num_worker_replicas': 1}\n",
      "INFO:tensorflow:Calling model_fn.\n",
      "INFO:tensorflow:Done calling model_fn.\n",
      "INFO:tensorflow:Create CheckpointSaverHook.\n",
      "INFO:tensorflow:Graph was finalized.\n",
      "INFO:tensorflow:Running local_init_op.\n",
      "INFO:tensorflow:Done running local_init_op.\n",
      "INFO:tensorflow:Saving checkpoints for 0 into /tmp/tmpqipjj9ja/model.ckpt.\n",
      "INFO:tensorflow:loss = 0.6938484907150269, step = 1\n",
      "INFO:tensorflow:accuracy = 0.4375, loss = 0.6938484907150269\n",
      "INFO:tensorflow:accuracy = 0.5625, loss = 0.6190565824508667 (10.491 sec)\n",
      "INFO:tensorflow:accuracy = 0.625, loss = 0.5676665902137756 (10.296 sec)\n",
      "INFO:tensorflow:accuracy = 0.65625, loss = 0.34540441632270813 (10.236 sec)\n",
      "INFO:tensorflow:accuracy = 0.65, loss = 0.745871365070343 (10.254 sec)\n",
      "INFO:tensorflow:accuracy = 0.6666667, loss = 0.5226340293884277 (10.244 sec)\n",
      "INFO:tensorflow:accuracy = 0.66964287, loss = 0.5017542243003845 (10.247 sec)\n",
      "INFO:tensorflow:accuracy = 0.6953125, loss = 0.2978036403656006 (10.216 sec)\n",
      "INFO:tensorflow:accuracy = 0.7222222, loss = 0.17912842333316803 (10.213 sec)\n",
      "INFO:tensorflow:accuracy = 0.74375, loss = 0.38513949513435364 (10.179 sec)\n",
      "INFO:tensorflow:Saving checkpoints for 100 into /tmp/tmpqipjj9ja/model.ckpt.\n",
      "INFO:tensorflow:Loss for final step: 0.06725303828716278.\n",
      "INFO:tensorflow:Calling model_fn.\n",
      "INFO:tensorflow:Done calling model_fn.\n",
      "INFO:tensorflow:Starting evaluation at 2019-04-03T22:56:07Z\n",
      "INFO:tensorflow:Graph was finalized.\n",
      "INFO:tensorflow:Restoring parameters from /tmp/tmpqipjj9ja/model.ckpt-100\n",
      "INFO:tensorflow:Running local_init_op.\n",
      "INFO:tensorflow:Done running local_init_op.\n",
      "INFO:tensorflow:accuracy = 0.828125, loss = 0.35924676060676575\n",
      "INFO:tensorflow:accuracy = 0.83203125, loss = 0.33155953884124756 (20.940 sec)\n",
      "INFO:tensorflow:accuracy = 0.8411458, loss = 0.29964587092399597 (20.907 sec)\n",
      "INFO:tensorflow:accuracy = 0.84375, loss = 0.3371131420135498 (20.872 sec)\n",
      "INFO:tensorflow:accuracy = 0.846875, loss = 0.30768999457359314 (21.187 sec)\n",
      "INFO:tensorflow:accuracy = 0.8489583, loss = 0.3034883737564087 (20.877 sec)\n",
      "INFO:tensorflow:accuracy = 0.84709823, loss = 0.34496262669563293 (20.869 sec)\n",
      "INFO:tensorflow:accuracy = 0.8466797, loss = 0.35052546858787537 (20.863 sec)\n",
      "INFO:tensorflow:accuracy = 0.8463542, loss = 0.3568713665008545 (20.872 sec)\n",
      "INFO:tensorflow:accuracy = 0.8453125, loss = 0.3579480051994324 (20.894 sec)\n",
      "INFO:tensorflow:accuracy = 0.84446025, loss = 0.3586689233779907 (20.944 sec)\n",
      "INFO:tensorflow:accuracy = 0.84375, loss = 0.36659592390060425 (20.805 sec)\n",
      "INFO:tensorflow:Finished evaluation at 2019-04-03-23:00:02\n",
      "INFO:tensorflow:Saving dict for global step 100: accuracy = 0.83916086, global_step = 100, loss = 0.34743\n",
      "INFO:tensorflow:Saving 'checkpoint_path' summary for global step 100: /tmp/tmpqipjj9ja/model.ckpt-100\n"
     ]
    }
   ],
   "source": [
    "# Train and test CNN model with Tanh Activation function\n",
    "classifier = tf.estimator.Estimator(model_fn = create_model,params={'A': 1 ,'B':[tf.nn.tanh]})\n",
    "Accuracy_Tanh = model_train_test(classifier,100)\n",
    "\n",
    "#print(Accuracy_Tanh)\n",
    "Acc_list.append(Accuracy_Tanh.get('accuracy')*100)"
   ]
  },
  {
   "cell_type": "code",
   "execution_count": 95,
   "metadata": {
    "colab": {
     "base_uri": "https://localhost:8080/",
     "height": 137
    },
    "colab_type": "code",
    "id": "zTZdkRYXHM1i",
    "outputId": "9486ed7e-ec73-4ffb-a612-3340d4075523"
   },
   "outputs": [
    {
     "data": {
      "text/html": [
       "<div>\n",
       "<style scoped>\n",
       "    .dataframe tbody tr th:only-of-type {\n",
       "        vertical-align: middle;\n",
       "    }\n",
       "\n",
       "    .dataframe tbody tr th {\n",
       "        vertical-align: top;\n",
       "    }\n",
       "\n",
       "    .dataframe thead th {\n",
       "        text-align: right;\n",
       "    }\n",
       "</style>\n",
       "<table border=\"1\" class=\"dataframe\">\n",
       "  <thead>\n",
       "    <tr style=\"text-align: right;\">\n",
       "      <th></th>\n",
       "      <th>Accuracy</th>\n",
       "      <th>Activation_Function</th>\n",
       "    </tr>\n",
       "  </thead>\n",
       "  <tbody>\n",
       "    <tr>\n",
       "      <th>0</th>\n",
       "      <td>79.020977</td>\n",
       "      <td>ReLU</td>\n",
       "    </tr>\n",
       "    <tr>\n",
       "      <th>1</th>\n",
       "      <td>88.111889</td>\n",
       "      <td>LeakyReLU</td>\n",
       "    </tr>\n",
       "    <tr>\n",
       "      <th>2</th>\n",
       "      <td>83.916086</td>\n",
       "      <td>Tanh</td>\n",
       "    </tr>\n",
       "  </tbody>\n",
       "</table>\n",
       "</div>"
      ],
      "text/plain": [
       "    Accuracy Activation_Function\n",
       "0  79.020977                ReLU\n",
       "1  88.111889           LeakyReLU\n",
       "2  83.916086                Tanh"
      ]
     },
     "execution_count": 95,
     "metadata": {
      "tags": []
     },
     "output_type": "execute_result"
    }
   ],
   "source": [
    "accuracy_df = pd.DataFrame({'Activation_Function':['ReLU','LeakyReLU','Tanh'],'Accuracy':Acc_list})\n",
    "accuracy_df.head()"
   ]
  },
  {
   "cell_type": "markdown",
   "metadata": {
    "colab_type": "text",
    "id": "7TS8iYOaA_F1"
   },
   "source": [
    "From the above table, By using LeakyReLu activation function, we get best accuracy compare to LeakyReLU and Tanh activation function."
   ]
  },
  {
   "cell_type": "code",
   "execution_count": 96,
   "metadata": {
    "colab": {
     "base_uri": "https://localhost:8080/",
     "height": 280
    },
    "colab_type": "code",
    "id": "xzMsm5EVYNck",
    "outputId": "a4bbc74c-2404-40f0-cd8a-a8872702144c"
   },
   "outputs": [
    {
     "data": {
      "image/png": "[encoded data removed]",
      "text/plain": [
       "<Figure size 432x288 with 1 Axes>"
      ]
     },
     "metadata": {
      "tags": []
     },
     "output_type": "display_data"
    }
   ],
   "source": [
    "bar_plot(['ReLU','LeakyRelu','Tanh'],Acc_list,\"Model Accuracy\",\"Comparision of Different Activation function in CNN\")"
   ]
  },
  {
   "cell_type": "markdown",
   "metadata": {
    "colab_type": "text",
    "id": "wSr73l6qOYfY"
   },
   "source": [
    "# Part C\n",
    "## Changes in Cost function"
   ]
  },
  {
   "cell_type": "markdown",
   "metadata": {
    "colab_type": "text",
    "id": "v119U24WBmE3"
   },
   "source": [
    "## Hindge Cost function:\n"
   ]
  },
  {
   "cell_type": "code",
   "execution_count": 97,
   "metadata": {
    "colab": {
     "base_uri": "https://localhost:8080/",
     "height": 887
    },
    "colab_type": "code",
    "id": "QCJ-nJooLSv5",
    "outputId": "653bb3d5-291d-4a87-e528-ef5c1a4add5e"
   },
   "outputs": [
    {
     "name": "stdout",
     "output_type": "stream",
     "text": [
      "INFO:tensorflow:Using default config.\n",
      "WARNING:tensorflow:Using temporary folder as model directory: /tmp/tmpldgxif8p\n",
      "INFO:tensorflow:Using config: {'_model_dir': '/tmp/tmpldgxif8p', '_tf_random_seed': None, '_save_summary_steps': 100, '_save_checkpoints_steps': None, '_save_checkpoints_secs': 600, '_session_config': allow_soft_placement: true\n",
      "graph_options {\n",
      "  rewrite_options {\n",
      "    meta_optimizer_iterations: ONE\n",
      "  }\n",
      "}\n",
      ", '_keep_checkpoint_max': 5, '_keep_checkpoint_every_n_hours': 10000, '_log_step_count_steps': 100, '_train_distribute': None, '_device_fn': None, '_protocol': None, '_eval_distribute': None, '_experimental_distribute': None, '_service': None, '_cluster_spec': <tensorflow.python.training.server_lib.ClusterSpec object at 0x7f11ac4279e8>, '_task_type': 'worker', '_task_id': 0, '_global_id_in_cluster': 0, '_master': '', '_evaluation_master': '', '_is_chief': True, '_num_ps_replicas': 0, '_num_worker_replicas': 1}\n",
      "INFO:tensorflow:Calling model_fn.\n",
      "INFO:tensorflow:Done calling model_fn.\n",
      "INFO:tensorflow:Create CheckpointSaverHook.\n",
      "INFO:tensorflow:Graph was finalized.\n",
      "INFO:tensorflow:Running local_init_op.\n",
      "INFO:tensorflow:Done running local_init_op.\n",
      "INFO:tensorflow:Saving checkpoints for 0 into /tmp/tmpldgxif8p/model.ckpt.\n",
      "INFO:tensorflow:loss = 0.96895754, step = 1\n",
      "INFO:tensorflow:accuracy = 0.6875, loss = 0.96895754\n",
      "INFO:tensorflow:accuracy = 0.625, loss = 0.9948561 (9.918 sec)\n",
      "INFO:tensorflow:accuracy = 0.6458333, loss = 0.64098734 (9.707 sec)\n",
      "INFO:tensorflow:accuracy = 0.65625, loss = 0.57059175 (9.708 sec)\n",
      "INFO:tensorflow:accuracy = 0.7, loss = 0.20801497 (9.734 sec)\n",
      "INFO:tensorflow:accuracy = 0.7291667, loss = 0.45007968 (9.710 sec)\n",
      "INFO:tensorflow:accuracy = 0.75, loss = 0.23904437 (9.701 sec)\n",
      "INFO:tensorflow:accuracy = 0.7734375, loss = 0.13454133 (9.719 sec)\n",
      "INFO:tensorflow:accuracy = 0.7708333, loss = 0.44522738 (9.694 sec)\n",
      "INFO:tensorflow:accuracy = 0.7875, loss = 0.21305595 (9.735 sec)\n",
      "INFO:tensorflow:Saving checkpoints for 100 into /tmp/tmpldgxif8p/model.ckpt.\n",
      "INFO:tensorflow:Loss for final step: 0.2127612.\n",
      "INFO:tensorflow:Calling model_fn.\n",
      "INFO:tensorflow:Done calling model_fn.\n",
      "INFO:tensorflow:Starting evaluation at 2019-04-03T23:02:14Z\n",
      "INFO:tensorflow:Graph was finalized.\n",
      "INFO:tensorflow:Restoring parameters from /tmp/tmpldgxif8p/model.ckpt-100\n",
      "INFO:tensorflow:Running local_init_op.\n",
      "INFO:tensorflow:Done running local_init_op.\n",
      "INFO:tensorflow:accuracy = 0.84375, loss = 0.35773045\n",
      "INFO:tensorflow:accuracy = 0.84765625, loss = 0.31592706 (17.503 sec)\n",
      "INFO:tensorflow:accuracy = 0.8567708, loss = 0.274538 (17.586 sec)\n",
      "INFO:tensorflow:accuracy = 0.859375, loss = 0.31899667 (17.310 sec)\n",
      "INFO:tensorflow:accuracy = 0.8625, loss = 0.30179155 (17.315 sec)\n",
      "INFO:tensorflow:accuracy = 0.86588544, loss = 0.29608604 (17.346 sec)\n",
      "INFO:tensorflow:accuracy = 0.86383927, loss = 0.34570074 (17.299 sec)\n",
      "INFO:tensorflow:accuracy = 0.86328125, loss = 0.3447041 (17.321 sec)\n",
      "INFO:tensorflow:accuracy = 0.8628472, loss = 0.34349912 (17.355 sec)\n",
      "INFO:tensorflow:accuracy = 0.8609375, loss = 0.3408312 (17.366 sec)\n",
      "INFO:tensorflow:accuracy = 0.86008525, loss = 0.33826947 (17.312 sec)\n",
      "INFO:tensorflow:accuracy = 0.859375, loss = 0.3493331 (17.230 sec)\n",
      "INFO:tensorflow:Finished evaluation at 2019-04-03-23:05:29\n",
      "INFO:tensorflow:Saving dict for global step 100: accuracy = 0.85314685, global_step = 100, loss = 0.33809644\n",
      "INFO:tensorflow:Saving 'checkpoint_path' summary for global step 100: /tmp/tmpldgxif8p/model.ckpt-100\n"
     ]
    }
   ],
   "source": [
    "Acc_list = []\n",
    "\n",
    "# Train and test CNN model with hindge cost function\n",
    "classifier = tf.estimator.Estimator(model_fn = create_model,params={'A': 2})\n",
    "Accuracy_Hindge = model_train_test(classifier,100)\n",
    "\n",
    "#print(Accuracy_Hindge)\n",
    "Acc_list.append(Accuracy_Hindge.get('accuracy')*100)\n",
    "\n",
    "#print(Accuracy_Relu)\n",
    "Acc_list.append(Accuracy_Relu.get('accuracy')*100)"
   ]
  },
  {
   "cell_type": "code",
   "execution_count": 98,
   "metadata": {
    "colab": {
     "base_uri": "https://localhost:8080/",
     "height": 107
    },
    "colab_type": "code",
    "id": "0EOoPayyYUA2",
    "outputId": "4571fef6-880f-495f-bb12-eec683f00c45"
   },
   "outputs": [
    {
     "data": {
      "text/html": [
       "<div>\n",
       "<style scoped>\n",
       "    .dataframe tbody tr th:only-of-type {\n",
       "        vertical-align: middle;\n",
       "    }\n",
       "\n",
       "    .dataframe tbody tr th {\n",
       "        vertical-align: top;\n",
       "    }\n",
       "\n",
       "    .dataframe thead th {\n",
       "        text-align: right;\n",
       "    }\n",
       "</style>\n",
       "<table border=\"1\" class=\"dataframe\">\n",
       "  <thead>\n",
       "    <tr style=\"text-align: right;\">\n",
       "      <th></th>\n",
       "      <th>Accuracy</th>\n",
       "      <th>Cost_Function</th>\n",
       "    </tr>\n",
       "  </thead>\n",
       "  <tbody>\n",
       "    <tr>\n",
       "      <th>0</th>\n",
       "      <td>85.314685</td>\n",
       "      <td>Hindge Loss</td>\n",
       "    </tr>\n",
       "    <tr>\n",
       "      <th>1</th>\n",
       "      <td>79.020977</td>\n",
       "      <td>Cross-Entroy</td>\n",
       "    </tr>\n",
       "  </tbody>\n",
       "</table>\n",
       "</div>"
      ],
      "text/plain": [
       "    Accuracy Cost_Function\n",
       "0  85.314685   Hindge Loss\n",
       "1  79.020977  Cross-Entroy"
      ]
     },
     "execution_count": 98,
     "metadata": {
      "tags": []
     },
     "output_type": "execute_result"
    }
   ],
   "source": [
    "accuracy_df = pd.DataFrame({'Cost_Function':['Hindge Loss','Cross-Entroy'],'Accuracy':Acc_list})\n",
    "accuracy_df.head()"
   ]
  },
  {
   "cell_type": "markdown",
   "metadata": {
    "colab_type": "text",
    "id": "dEr1Bd79Byrg"
   },
   "source": [
    "From the above table, Hindge Loss function give more accuracy than cross-entropy cost fucnction."
   ]
  },
  {
   "cell_type": "code",
   "execution_count": 99,
   "metadata": {
    "colab": {
     "base_uri": "https://localhost:8080/",
     "height": 280
    },
    "colab_type": "code",
    "id": "iBCUEz9tYXTS",
    "outputId": "636577c3-c0c4-4f53-abf0-89a5bde618d3"
   },
   "outputs": [
    {
     "data": {
      "image/png": "[encoded data removed]",
      "text/plain": [
       "<Figure size 432x288 with 1 Axes>"
      ]
     },
     "metadata": {
      "tags": []
     },
     "output_type": "display_data"
    }
   ],
   "source": [
    "bar_plot(['Hindge Loss','Cross-Entroy'],Acc_list,\"Model Accuracy\",\"Comparision of Different Cost function in CNN\")"
   ]
  },
  {
   "cell_type": "markdown",
   "metadata": {
    "colab_type": "text",
    "id": "JMaAhWpwQzW0"
   },
   "source": [
    "# Part D\n",
    "## Variable  Epochs Values"
   ]
  },
  {
   "cell_type": "markdown",
   "metadata": {
    "colab_type": "text",
    "id": "9v2KvpweCCM3"
   },
   "source": [
    "To check effect of epoch value, I have tried 100,50,10 and 1 epoch value to get the accuracy which is mention below."
   ]
  },
  {
   "cell_type": "code",
   "execution_count": 100,
   "metadata": {
    "colab": {
     "base_uri": "https://localhost:8080/",
     "height": 2137
    },
    "colab_type": "code",
    "id": "Anqczg-qQ18T",
    "outputId": "1d1c8a2b-a0b1-42e9-8e61-2c2faf0dfdb0"
   },
   "outputs": [
    {
     "name": "stdout",
     "output_type": "stream",
     "text": [
      "INFO:tensorflow:Using default config.\n",
      "WARNING:tensorflow:Using temporary folder as model directory: /tmp/tmpx5grb4vi\n",
      "INFO:tensorflow:Using config: {'_model_dir': '/tmp/tmpx5grb4vi', '_tf_random_seed': None, '_save_summary_steps': 100, '_save_checkpoints_steps': None, '_save_checkpoints_secs': 600, '_session_config': allow_soft_placement: true\n",
      "graph_options {\n",
      "  rewrite_options {\n",
      "    meta_optimizer_iterations: ONE\n",
      "  }\n",
      "}\n",
      ", '_keep_checkpoint_max': 5, '_keep_checkpoint_every_n_hours': 10000, '_log_step_count_steps': 100, '_train_distribute': None, '_device_fn': None, '_protocol': None, '_eval_distribute': None, '_experimental_distribute': None, '_service': None, '_cluster_spec': <tensorflow.python.training.server_lib.ClusterSpec object at 0x7f11abac8320>, '_task_type': 'worker', '_task_id': 0, '_global_id_in_cluster': 0, '_master': '', '_evaluation_master': '', '_is_chief': True, '_num_ps_replicas': 0, '_num_worker_replicas': 1}\n",
      "INFO:tensorflow:Calling model_fn.\n",
      "INFO:tensorflow:Done calling model_fn.\n",
      "INFO:tensorflow:Create CheckpointSaverHook.\n",
      "INFO:tensorflow:Graph was finalized.\n",
      "INFO:tensorflow:Running local_init_op.\n",
      "INFO:tensorflow:Done running local_init_op.\n",
      "INFO:tensorflow:Saving checkpoints for 0 into /tmp/tmpx5grb4vi/model.ckpt.\n",
      "INFO:tensorflow:loss = 0.6970456838607788, step = 1\n",
      "INFO:tensorflow:accuracy = 0.375, loss = 0.6970456838607788\n",
      "INFO:tensorflow:accuracy = 0.40625, loss = 0.6976049542427063 (10.060 sec)\n",
      "INFO:tensorflow:accuracy = 0.5208333, loss = 0.509038507938385 (9.832 sec)\n",
      "INFO:tensorflow:accuracy = 0.5, loss = 1.5080327987670898 (9.838 sec)\n",
      "INFO:tensorflow:accuracy = 0.55, loss = 0.5477501749992371 (9.940 sec)\n",
      "INFO:tensorflow:accuracy = 0.59375, loss = 0.6713458299636841 (10.593 sec)\n",
      "INFO:tensorflow:accuracy = 0.6339286, loss = 0.2595021426677704 (9.905 sec)\n",
      "INFO:tensorflow:accuracy = 0.6796875, loss = 0.049081746488809586 (9.838 sec)\n",
      "INFO:tensorflow:accuracy = 0.6944444, loss = 0.2764098048210144 (9.833 sec)\n",
      "INFO:tensorflow:accuracy = 0.7, loss = 0.661655068397522 (9.805 sec)\n",
      "INFO:tensorflow:Saving checkpoints for 100 into /tmp/tmpx5grb4vi/model.ckpt.\n",
      "INFO:tensorflow:Loss for final step: 0.21365737915039062.\n",
      "INFO:tensorflow:Calling model_fn.\n",
      "INFO:tensorflow:Done calling model_fn.\n",
      "INFO:tensorflow:Starting evaluation at 2019-04-03T23:07:48Z\n",
      "INFO:tensorflow:Graph was finalized.\n",
      "INFO:tensorflow:Restoring parameters from /tmp/tmpx5grb4vi/model.ckpt-100\n",
      "INFO:tensorflow:Running local_init_op.\n",
      "INFO:tensorflow:Done running local_init_op.\n",
      "INFO:tensorflow:accuracy = 0.828125, loss = 0.3712320327758789\n",
      "INFO:tensorflow:accuracy = 0.8359375, loss = 0.3297775387763977 (17.900 sec)\n",
      "INFO:tensorflow:accuracy = 0.84375, loss = 0.33057236671447754 (17.657 sec)\n",
      "INFO:tensorflow:accuracy = 0.8457031, loss = 0.34535306692123413 (17.631 sec)\n",
      "INFO:tensorflow:accuracy = 0.846875, loss = 0.3099021911621094 (17.292 sec)\n",
      "INFO:tensorflow:accuracy = 0.8463542, loss = 0.3291185200214386 (17.285 sec)\n",
      "INFO:tensorflow:Finished evaluation at 2019-04-03-23:09:27\n",
      "INFO:tensorflow:Saving dict for global step 100: accuracy = 0.8321678, global_step = 100, loss = 0.37802553\n",
      "INFO:tensorflow:Saving 'checkpoint_path' summary for global step 100: /tmp/tmpx5grb4vi/model.ckpt-100\n",
      "INFO:tensorflow:Using default config.\n",
      "WARNING:tensorflow:Using temporary folder as model directory: /tmp/tmpp6zgq8gs\n",
      "INFO:tensorflow:Using config: {'_model_dir': '/tmp/tmpp6zgq8gs', '_tf_random_seed': None, '_save_summary_steps': 100, '_save_checkpoints_steps': None, '_save_checkpoints_secs': 600, '_session_config': allow_soft_placement: true\n",
      "graph_options {\n",
      "  rewrite_options {\n",
      "    meta_optimizer_iterations: ONE\n",
      "  }\n",
      "}\n",
      ", '_keep_checkpoint_max': 5, '_keep_checkpoint_every_n_hours': 10000, '_log_step_count_steps': 100, '_train_distribute': None, '_device_fn': None, '_protocol': None, '_eval_distribute': None, '_experimental_distribute': None, '_service': None, '_cluster_spec': <tensorflow.python.training.server_lib.ClusterSpec object at 0x7f11bdde60f0>, '_task_type': 'worker', '_task_id': 0, '_global_id_in_cluster': 0, '_master': '', '_evaluation_master': '', '_is_chief': True, '_num_ps_replicas': 0, '_num_worker_replicas': 1}\n",
      "INFO:tensorflow:Calling model_fn.\n",
      "INFO:tensorflow:Done calling model_fn.\n",
      "INFO:tensorflow:Create CheckpointSaverHook.\n",
      "INFO:tensorflow:Graph was finalized.\n",
      "INFO:tensorflow:Running local_init_op.\n",
      "INFO:tensorflow:Done running local_init_op.\n",
      "INFO:tensorflow:Saving checkpoints for 0 into /tmp/tmpp6zgq8gs/model.ckpt.\n",
      "INFO:tensorflow:loss = 0.697479248046875, step = 1\n",
      "INFO:tensorflow:accuracy = 0.5, loss = 0.697479248046875\n",
      "INFO:tensorflow:accuracy = 0.40625, loss = 0.7433385252952576 (10.241 sec)\n",
      "INFO:tensorflow:accuracy = 0.5416667, loss = 0.6576387882232666 (9.933 sec)\n",
      "INFO:tensorflow:accuracy = 0.609375, loss = 0.5068627595901489 (9.950 sec)\n",
      "INFO:tensorflow:accuracy = 0.675, loss = 0.3435000777244568 (9.918 sec)\n",
      "INFO:tensorflow:accuracy = 0.6770833, loss = 0.6737211346626282 (9.874 sec)\n",
      "INFO:tensorflow:accuracy = 0.71428573, loss = 0.26626595854759216 (9.878 sec)\n",
      "INFO:tensorflow:accuracy = 0.75, loss = 0.21733230352401733 (9.908 sec)\n",
      "INFO:tensorflow:accuracy = 0.7569444, loss = 0.288933128118515 (9.868 sec)\n",
      "INFO:tensorflow:accuracy = 0.775, loss = 0.12754635512828827 (9.941 sec)\n",
      "INFO:tensorflow:Saving checkpoints for 100 into /tmp/tmpp6zgq8gs/model.ckpt.\n",
      "INFO:tensorflow:Loss for final step: 0.10641908645629883.\n",
      "INFO:tensorflow:Calling model_fn.\n",
      "INFO:tensorflow:Done calling model_fn.\n",
      "INFO:tensorflow:Starting evaluation at 2019-04-03T23:11:15Z\n",
      "INFO:tensorflow:Graph was finalized.\n",
      "INFO:tensorflow:Restoring parameters from /tmp/tmpp6zgq8gs/model.ckpt-100\n",
      "INFO:tensorflow:Running local_init_op.\n",
      "INFO:tensorflow:Done running local_init_op.\n",
      "INFO:tensorflow:accuracy = 0.828125, loss = 0.5011632442474365\n",
      "INFO:tensorflow:accuracy = 0.8359375, loss = 0.4795183837413788 (17.311 sec)\n",
      "INFO:tensorflow:Finished evaluation at 2019-04-03-23:11:35\n",
      "INFO:tensorflow:Saving dict for global step 100: accuracy = 0.8321678, global_step = 100, loss = 0.504724\n",
      "INFO:tensorflow:Saving 'checkpoint_path' summary for global step 100: /tmp/tmpp6zgq8gs/model.ckpt-100\n",
      "INFO:tensorflow:Using default config.\n",
      "WARNING:tensorflow:Using temporary folder as model directory: /tmp/tmpgyghm7au\n",
      "INFO:tensorflow:Using config: {'_model_dir': '/tmp/tmpgyghm7au', '_tf_random_seed': None, '_save_summary_steps': 100, '_save_checkpoints_steps': None, '_save_checkpoints_secs': 600, '_session_config': allow_soft_placement: true\n",
      "graph_options {\n",
      "  rewrite_options {\n",
      "    meta_optimizer_iterations: ONE\n",
      "  }\n",
      "}\n",
      ", '_keep_checkpoint_max': 5, '_keep_checkpoint_every_n_hours': 10000, '_log_step_count_steps': 100, '_train_distribute': None, '_device_fn': None, '_protocol': None, '_eval_distribute': None, '_experimental_distribute': None, '_service': None, '_cluster_spec': <tensorflow.python.training.server_lib.ClusterSpec object at 0x7f11a0640320>, '_task_type': 'worker', '_task_id': 0, '_global_id_in_cluster': 0, '_master': '', '_evaluation_master': '', '_is_chief': True, '_num_ps_replicas': 0, '_num_worker_replicas': 1}\n",
      "INFO:tensorflow:Calling model_fn.\n",
      "INFO:tensorflow:Done calling model_fn.\n",
      "INFO:tensorflow:Create CheckpointSaverHook.\n",
      "INFO:tensorflow:Graph was finalized.\n",
      "INFO:tensorflow:Running local_init_op.\n",
      "INFO:tensorflow:Done running local_init_op.\n",
      "INFO:tensorflow:Saving checkpoints for 0 into /tmp/tmpgyghm7au/model.ckpt.\n",
      "INFO:tensorflow:loss = 0.6892294883728027, step = 1\n",
      "INFO:tensorflow:accuracy = 0.5, loss = 0.6892294883728027\n",
      "INFO:tensorflow:accuracy = 0.375, loss = 0.7171443700790405 (10.069 sec)\n",
      "INFO:tensorflow:accuracy = 0.35416666, loss = 0.8181562423706055 (9.857 sec)\n",
      "INFO:tensorflow:accuracy = 0.5, loss = 0.2910894751548767 (10.014 sec)\n",
      "INFO:tensorflow:accuracy = 0.55, loss = 0.4768398404121399 (9.955 sec)\n",
      "INFO:tensorflow:accuracy = 0.6041667, loss = 0.27626416087150574 (9.897 sec)\n",
      "INFO:tensorflow:accuracy = 0.66071427, loss = 0.13889428973197937 (9.925 sec)\n",
      "INFO:tensorflow:accuracy = 0.6953125, loss = 0.12337612360715866 (9.891 sec)\n",
      "INFO:tensorflow:accuracy = 0.7152778, loss = 0.2805020809173584 (10.282 sec)\n",
      "INFO:tensorflow:accuracy = 0.7375, loss = 0.1804453432559967 (9.916 sec)\n",
      "INFO:tensorflow:Saving checkpoints for 100 into /tmp/tmpgyghm7au/model.ckpt.\n",
      "INFO:tensorflow:Loss for final step: 0.10674295574426651.\n",
      "INFO:tensorflow:Calling model_fn.\n",
      "INFO:tensorflow:Done calling model_fn.\n",
      "INFO:tensorflow:Starting evaluation at 2019-04-03T23:13:23Z\n",
      "INFO:tensorflow:Graph was finalized.\n",
      "INFO:tensorflow:Restoring parameters from /tmp/tmpgyghm7au/model.ckpt-100\n",
      "INFO:tensorflow:Running local_init_op.\n",
      "INFO:tensorflow:Done running local_init_op.\n",
      "INFO:tensorflow:accuracy = 0.8046875, loss = 0.4125731587409973\n",
      "INFO:tensorflow:Finished evaluation at 2019-04-03-23:13:26\n",
      "INFO:tensorflow:Saving dict for global step 100: accuracy = 0.8181818, global_step = 100, loss = 0.39452296\n",
      "INFO:tensorflow:Saving 'checkpoint_path' summary for global step 100: /tmp/tmpgyghm7au/model.ckpt-100\n"
     ]
    }
   ],
   "source": [
    "epoch_list = [50,10,1]\n",
    "Acc_list = []\n",
    "Accuracy_epoch_list = []\n",
    "\n",
    "#below loop try all epoch value and train and test the model to get the accuracy\n",
    "for numb in epoch_list:\n",
    "  classifier = tf.estimator.Estimator(model_fn = create_model,params={})\n",
    "  Accuracy_epoch_list.append(model_train_test(classifier,numb))\n",
    "\n",
    "#print(Accuracy_epoch_list) \n",
    "Acc_list = [i.get('accuracy')*100 for i in Accuracy_epoch_list]\n",
    "\n",
    "#print(Accuracy_Relu)\n",
    "Acc_list.append(Accuracy_Relu.get('accuracy')*100)"
   ]
  },
  {
   "cell_type": "code",
   "execution_count": 101,
   "metadata": {
    "colab": {
     "base_uri": "https://localhost:8080/",
     "height": 167
    },
    "colab_type": "code",
    "id": "ltwWOIkh0_96",
    "outputId": "1e2a25d4-ecb7-41b6-cecf-57cac8d4fd06"
   },
   "outputs": [
    {
     "data": {
      "text/html": [
       "<div>\n",
       "<style scoped>\n",
       "    .dataframe tbody tr th:only-of-type {\n",
       "        vertical-align: middle;\n",
       "    }\n",
       "\n",
       "    .dataframe tbody tr th {\n",
       "        vertical-align: top;\n",
       "    }\n",
       "\n",
       "    .dataframe thead th {\n",
       "        text-align: right;\n",
       "    }\n",
       "</style>\n",
       "<table border=\"1\" class=\"dataframe\">\n",
       "  <thead>\n",
       "    <tr style=\"text-align: right;\">\n",
       "      <th></th>\n",
       "      <th>Accuracy</th>\n",
       "      <th>Epoch Values</th>\n",
       "    </tr>\n",
       "  </thead>\n",
       "  <tbody>\n",
       "    <tr>\n",
       "      <th>0</th>\n",
       "      <td>83.216780</td>\n",
       "      <td>50</td>\n",
       "    </tr>\n",
       "    <tr>\n",
       "      <th>1</th>\n",
       "      <td>83.216780</td>\n",
       "      <td>10</td>\n",
       "    </tr>\n",
       "    <tr>\n",
       "      <th>2</th>\n",
       "      <td>81.818181</td>\n",
       "      <td>1</td>\n",
       "    </tr>\n",
       "    <tr>\n",
       "      <th>3</th>\n",
       "      <td>79.020977</td>\n",
       "      <td>100</td>\n",
       "    </tr>\n",
       "  </tbody>\n",
       "</table>\n",
       "</div>"
      ],
      "text/plain": [
       "    Accuracy Epoch Values\n",
       "0  83.216780           50\n",
       "1  83.216780           10\n",
       "2  81.818181            1\n",
       "3  79.020977          100"
      ]
     },
     "execution_count": 101,
     "metadata": {
      "tags": []
     },
     "output_type": "execute_result"
    }
   ],
   "source": [
    "accuracy_df = pd.DataFrame({'Epoch Values':['50','10','1','100'],'Accuracy':Acc_list})\n",
    "accuracy_df.head()"
   ]
  },
  {
   "cell_type": "markdown",
   "metadata": {
    "colab_type": "text",
    "id": "8MtInAYrCn9A"
   },
   "source": [
    "From the above code, CNN with 50 and 10 epoch values gives highest accuracy compacre to other values like 100, and 1."
   ]
  },
  {
   "cell_type": "code",
   "execution_count": 102,
   "metadata": {
    "colab": {
     "base_uri": "https://localhost:8080/",
     "height": 280
    },
    "colab_type": "code",
    "id": "Jf1Ra6jg1DHk",
    "outputId": "ec48530f-5d29-4f23-9e93-b1c981cf0e18"
   },
   "outputs": [
    {
     "data": {
      "image/png": "[encoded data removed]",
      "text/plain": [
       "<Figure size 432x288 with 1 Axes>"
      ]
     },
     "metadata": {
      "tags": []
     },
     "output_type": "display_data"
    }
   ],
   "source": [
    "bar_plot(['Epoch_50','Epoch_10','Epoch_1','Epoch_100'],Acc_list,\"Model Accuracy\",\"Comparision of Different Epoch Value in CNN\")"
   ]
  },
  {
   "cell_type": "markdown",
   "metadata": {
    "colab_type": "text",
    "id": "z0L234eMjJzA"
   },
   "source": [
    "# Part E\n",
    "## Changes in Gradient estimation"
   ]
  },
  {
   "cell_type": "markdown",
   "metadata": {
    "colab_type": "text",
    "id": "Yrh-XOL7C86K"
   },
   "source": [
    "## ADA Gradient Estimation:\n",
    "\n",
    "I have compared ADA gradient and ADAM gradient to check the accuracy of the CNN network."
   ]
  },
  {
   "cell_type": "code",
   "execution_count": 103,
   "metadata": {
    "colab": {
     "base_uri": "https://localhost:8080/",
     "height": 887
    },
    "colab_type": "code",
    "id": "82jWkpKPiZEs",
    "outputId": "8ae65023-c569-48a7-97ab-5d53da19b334"
   },
   "outputs": [
    {
     "name": "stdout",
     "output_type": "stream",
     "text": [
      "INFO:tensorflow:Using default config.\n",
      "WARNING:tensorflow:Using temporary folder as model directory: /tmp/tmpdup10x2l\n",
      "INFO:tensorflow:Using config: {'_model_dir': '/tmp/tmpdup10x2l', '_tf_random_seed': None, '_save_summary_steps': 100, '_save_checkpoints_steps': None, '_save_checkpoints_secs': 600, '_session_config': allow_soft_placement: true\n",
      "graph_options {\n",
      "  rewrite_options {\n",
      "    meta_optimizer_iterations: ONE\n",
      "  }\n",
      "}\n",
      ", '_keep_checkpoint_max': 5, '_keep_checkpoint_every_n_hours': 10000, '_log_step_count_steps': 100, '_train_distribute': None, '_device_fn': None, '_protocol': None, '_eval_distribute': None, '_experimental_distribute': None, '_service': None, '_cluster_spec': <tensorflow.python.training.server_lib.ClusterSpec object at 0x7f11ab7b4550>, '_task_type': 'worker', '_task_id': 0, '_global_id_in_cluster': 0, '_master': '', '_evaluation_master': '', '_is_chief': True, '_num_ps_replicas': 0, '_num_worker_replicas': 1}\n",
      "INFO:tensorflow:Calling model_fn.\n",
      "INFO:tensorflow:Done calling model_fn.\n",
      "INFO:tensorflow:Create CheckpointSaverHook.\n",
      "INFO:tensorflow:Graph was finalized.\n",
      "INFO:tensorflow:Running local_init_op.\n",
      "INFO:tensorflow:Done running local_init_op.\n",
      "INFO:tensorflow:Saving checkpoints for 0 into /tmp/tmpdup10x2l/model.ckpt.\n",
      "INFO:tensorflow:loss = 0.6956155896186829, step = 1\n",
      "INFO:tensorflow:accuracy = 0.4375, loss = 0.6956155896186829\n",
      "INFO:tensorflow:accuracy = 0.46875, loss = 0.7026456594467163 (9.850 sec)\n",
      "INFO:tensorflow:accuracy = 0.5208333, loss = 0.6814907193183899 (9.722 sec)\n",
      "INFO:tensorflow:accuracy = 0.53125, loss = 0.6953827142715454 (9.736 sec)\n",
      "INFO:tensorflow:accuracy = 0.5875, loss = 0.679999828338623 (9.707 sec)\n",
      "INFO:tensorflow:accuracy = 0.5833333, loss = 0.6885167360305786 (9.824 sec)\n",
      "INFO:tensorflow:accuracy = 0.58035713, loss = 0.6822344064712524 (9.750 sec)\n",
      "INFO:tensorflow:accuracy = 0.578125, loss = 0.6706280708312988 (9.765 sec)\n",
      "INFO:tensorflow:accuracy = 0.5833333, loss = 0.6838275194168091 (9.740 sec)\n",
      "INFO:tensorflow:accuracy = 0.575, loss = 0.6923477649688721 (9.715 sec)\n",
      "INFO:tensorflow:Saving checkpoints for 100 into /tmp/tmpdup10x2l/model.ckpt.\n",
      "INFO:tensorflow:Loss for final step: 0.6610424518585205.\n",
      "INFO:tensorflow:Calling model_fn.\n",
      "INFO:tensorflow:Done calling model_fn.\n",
      "INFO:tensorflow:Starting evaluation at 2019-04-03T23:15:41Z\n",
      "INFO:tensorflow:Graph was finalized.\n",
      "INFO:tensorflow:Restoring parameters from /tmp/tmpdup10x2l/model.ckpt-100\n",
      "INFO:tensorflow:Running local_init_op.\n",
      "INFO:tensorflow:Done running local_init_op.\n",
      "INFO:tensorflow:accuracy = 0.53125, loss = 0.6842861771583557\n",
      "INFO:tensorflow:accuracy = 0.5390625, loss = 0.6827912330627441 (17.331 sec)\n",
      "INFO:tensorflow:accuracy = 0.546875, loss = 0.6817870140075684 (17.313 sec)\n",
      "INFO:tensorflow:accuracy = 0.546875, loss = 0.6831440329551697 (17.315 sec)\n",
      "INFO:tensorflow:accuracy = 0.546875, loss = 0.6831337213516235 (17.332 sec)\n",
      "INFO:tensorflow:accuracy = 0.546875, loss = 0.6827921271324158 (17.295 sec)\n",
      "INFO:tensorflow:accuracy = 0.5457589, loss = 0.6830682754516602 (17.288 sec)\n",
      "INFO:tensorflow:accuracy = 0.54589844, loss = 0.6825912594795227 (17.369 sec)\n",
      "INFO:tensorflow:accuracy = 0.5486111, loss = 0.6816253662109375 (17.314 sec)\n",
      "INFO:tensorflow:accuracy = 0.5492188, loss = 0.6829162240028381 (17.604 sec)\n",
      "INFO:tensorflow:accuracy = 0.54829544, loss = 0.6837154030799866 (17.290 sec)\n",
      "INFO:tensorflow:accuracy = 0.54622394, loss = 0.6837447881698608 (17.266 sec)\n",
      "INFO:tensorflow:Finished evaluation at 2019-04-03-23:18:56\n",
      "INFO:tensorflow:Saving dict for global step 100: accuracy = 0.54545456, global_step = 100, loss = 0.6829613\n",
      "INFO:tensorflow:Saving 'checkpoint_path' summary for global step 100: /tmp/tmpdup10x2l/model.ckpt-100\n"
     ]
    }
   ],
   "source": [
    "Acc_list = []\n",
    "\n",
    "# Train and test CNN model with ADA Gradient estimation\n",
    "classifier = tf.estimator.Estimator(model_fn = create_model,params={'A': 3})\n",
    "Accuracy_AdaGrad = model_train_test(classifier,100)\n",
    "\n",
    "#print(Accuracy_AdaGrad)\n",
    "Acc_list.append(Accuracy_AdaGrad.get('accuracy')*100)\n",
    "\n",
    "#print(Accuracy_Relu)\n",
    "Acc_list.append(Accuracy_Relu.get('accuracy')*100)"
   ]
  },
  {
   "cell_type": "code",
   "execution_count": 104,
   "metadata": {
    "colab": {
     "base_uri": "https://localhost:8080/",
     "height": 107
    },
    "colab_type": "code",
    "id": "bwZ2dLS68gSY",
    "outputId": "6be71abc-5096-40d3-9fd4-a75350b48a28"
   },
   "outputs": [
    {
     "data": {
      "text/html": [
       "<div>\n",
       "<style scoped>\n",
       "    .dataframe tbody tr th:only-of-type {\n",
       "        vertical-align: middle;\n",
       "    }\n",
       "\n",
       "    .dataframe tbody tr th {\n",
       "        vertical-align: top;\n",
       "    }\n",
       "\n",
       "    .dataframe thead th {\n",
       "        text-align: right;\n",
       "    }\n",
       "</style>\n",
       "<table border=\"1\" class=\"dataframe\">\n",
       "  <thead>\n",
       "    <tr style=\"text-align: right;\">\n",
       "      <th></th>\n",
       "      <th>Accuracy</th>\n",
       "      <th>Gradient Estimation</th>\n",
       "    </tr>\n",
       "  </thead>\n",
       "  <tbody>\n",
       "    <tr>\n",
       "      <th>0</th>\n",
       "      <td>54.545456</td>\n",
       "      <td>Adagrad</td>\n",
       "    </tr>\n",
       "    <tr>\n",
       "      <th>1</th>\n",
       "      <td>79.020977</td>\n",
       "      <td>ADAM</td>\n",
       "    </tr>\n",
       "  </tbody>\n",
       "</table>\n",
       "</div>"
      ],
      "text/plain": [
       "    Accuracy Gradient Estimation\n",
       "0  54.545456             Adagrad\n",
       "1  79.020977                ADAM"
      ]
     },
     "execution_count": 104,
     "metadata": {
      "tags": []
     },
     "output_type": "execute_result"
    }
   ],
   "source": [
    "accuracy_df = pd.DataFrame({'Gradient Estimation':['Adagrad','ADAM'],'Accuracy':Acc_list})\n",
    "accuracy_df.head()"
   ]
  },
  {
   "cell_type": "markdown",
   "metadata": {
    "colab_type": "text",
    "id": "7_8bx2REDT8_"
   },
   "source": [
    "From the table, ADAM gradient gives more accuracy than Ada gradient estimation."
   ]
  },
  {
   "cell_type": "code",
   "execution_count": 105,
   "metadata": {
    "colab": {
     "base_uri": "https://localhost:8080/",
     "height": 280
    },
    "colab_type": "code",
    "id": "iBw9K5CI8gdu",
    "outputId": "4e2c9e84-e08a-4f0a-b7ee-d93d9d78ff97"
   },
   "outputs": [
    {
     "data": {
      "image/png": "[encoded data removed]",
      "text/plain": [
       "<Figure size 432x288 with 1 Axes>"
      ]
     },
     "metadata": {
      "tags": []
     },
     "output_type": "display_data"
    }
   ],
   "source": [
    "bar_plot(['Adagrad','ADAM'],Acc_list,\"Model Accuracy\",\"Comparision of Different Gradient Estimation in CNN\")"
   ]
  },
  {
   "cell_type": "markdown",
   "metadata": {
    "colab_type": "text",
    "id": "R4iRTQNBon6N"
   },
   "source": [
    "# Part F \n",
    "##Changes in Network Architecture"
   ]
  },
  {
   "cell_type": "markdown",
   "metadata": {
    "colab_type": "text",
    "id": "m3SJXDYZDg8r"
   },
   "source": [
    "In below code,  I have tried to edit the layer in the CNN model and also change the kernal size to check the effect in the accuracy after changing the network architecture.\n",
    "\n",
    "## CNN with Two Layer"
   ]
  },
  {
   "cell_type": "code",
   "execution_count": 106,
   "metadata": {
    "colab": {
     "base_uri": "https://localhost:8080/",
     "height": 887
    },
    "colab_type": "code",
    "id": "YGsTSJ6quKGD",
    "outputId": "571a30f9-794d-43a0-aa08-3473b1ae3cd5"
   },
   "outputs": [
    {
     "name": "stdout",
     "output_type": "stream",
     "text": [
      "INFO:tensorflow:Using default config.\n",
      "WARNING:tensorflow:Using temporary folder as model directory: /tmp/tmpee1yq5da\n",
      "INFO:tensorflow:Using config: {'_model_dir': '/tmp/tmpee1yq5da', '_tf_random_seed': None, '_save_summary_steps': 100, '_save_checkpoints_steps': None, '_save_checkpoints_secs': 600, '_session_config': allow_soft_placement: true\n",
      "graph_options {\n",
      "  rewrite_options {\n",
      "    meta_optimizer_iterations: ONE\n",
      "  }\n",
      "}\n",
      ", '_keep_checkpoint_max': 5, '_keep_checkpoint_every_n_hours': 10000, '_log_step_count_steps': 100, '_train_distribute': None, '_device_fn': None, '_protocol': None, '_eval_distribute': None, '_experimental_distribute': None, '_service': None, '_cluster_spec': <tensorflow.python.training.server_lib.ClusterSpec object at 0x7f11ab8bf278>, '_task_type': 'worker', '_task_id': 0, '_global_id_in_cluster': 0, '_master': '', '_evaluation_master': '', '_is_chief': True, '_num_ps_replicas': 0, '_num_worker_replicas': 1}\n",
      "INFO:tensorflow:Calling model_fn.\n",
      "INFO:tensorflow:Done calling model_fn.\n",
      "INFO:tensorflow:Create CheckpointSaverHook.\n",
      "INFO:tensorflow:Graph was finalized.\n",
      "INFO:tensorflow:Running local_init_op.\n",
      "INFO:tensorflow:Done running local_init_op.\n",
      "INFO:tensorflow:Saving checkpoints for 0 into /tmp/tmpee1yq5da/model.ckpt.\n",
      "INFO:tensorflow:loss = 0.7009138464927673, step = 1\n",
      "INFO:tensorflow:accuracy = 0.5, loss = 0.7009138464927673\n",
      "INFO:tensorflow:accuracy = 0.5625, loss = 0.6848686933517456 (11.179 sec)\n",
      "INFO:tensorflow:accuracy = 0.6666667, loss = 0.412651389837265 (11.264 sec)\n",
      "INFO:tensorflow:accuracy = 0.671875, loss = 0.6432216167449951 (10.983 sec)\n",
      "INFO:tensorflow:accuracy = 0.725, loss = 0.3141363263130188 (10.981 sec)\n",
      "INFO:tensorflow:accuracy = 0.7395833, loss = 0.2939482033252716 (11.048 sec)\n",
      "INFO:tensorflow:accuracy = 0.7589286, loss = 0.2857169806957245 (10.958 sec)\n",
      "INFO:tensorflow:accuracy = 0.765625, loss = 0.3794403374195099 (10.936 sec)\n",
      "INFO:tensorflow:accuracy = 0.7638889, loss = 0.4517175853252411 (11.218 sec)\n",
      "INFO:tensorflow:accuracy = 0.775, loss = 0.32155632972717285 (11.206 sec)\n",
      "INFO:tensorflow:Saving checkpoints for 100 into /tmp/tmpee1yq5da/model.ckpt.\n",
      "INFO:tensorflow:Loss for final step: 0.18133240938186646.\n",
      "INFO:tensorflow:Calling model_fn.\n",
      "INFO:tensorflow:Done calling model_fn.\n",
      "INFO:tensorflow:Starting evaluation at 2019-04-03T23:23:46Z\n",
      "INFO:tensorflow:Graph was finalized.\n",
      "INFO:tensorflow:Restoring parameters from /tmp/tmpee1yq5da/model.ckpt-100\n",
      "INFO:tensorflow:Running local_init_op.\n",
      "INFO:tensorflow:Done running local_init_op.\n",
      "INFO:tensorflow:accuracy = 0.7734375, loss = 0.42868009209632874\n",
      "INFO:tensorflow:accuracy = 0.77734375, loss = 0.39908215403556824 (15.507 sec)\n",
      "INFO:tensorflow:accuracy = 0.78125, loss = 0.37959325313568115 (15.443 sec)\n",
      "INFO:tensorflow:accuracy = 0.7792969, loss = 0.41245967149734497 (15.447 sec)\n",
      "INFO:tensorflow:accuracy = 0.78125, loss = 0.39002203941345215 (15.482 sec)\n",
      "INFO:tensorflow:accuracy = 0.7838542, loss = 0.37806618213653564 (15.497 sec)\n",
      "INFO:tensorflow:accuracy = 0.78459823, loss = 0.3999027907848358 (15.468 sec)\n",
      "INFO:tensorflow:accuracy = 0.7861328, loss = 0.39781978726387024 (15.385 sec)\n",
      "INFO:tensorflow:accuracy = 0.7881944, loss = 0.39710259437561035 (15.475 sec)\n",
      "INFO:tensorflow:accuracy = 0.7890625, loss = 0.3992602229118347 (15.433 sec)\n",
      "INFO:tensorflow:accuracy = 0.78835225, loss = 0.41404569149017334 (15.425 sec)\n",
      "INFO:tensorflow:accuracy = 0.7871094, loss = 0.4286712408065796 (15.360 sec)\n",
      "INFO:tensorflow:Finished evaluation at 2019-04-03-23:26:39\n",
      "INFO:tensorflow:Saving dict for global step 100: accuracy = 0.7832168, global_step = 100, loss = 0.4095932\n",
      "INFO:tensorflow:Saving 'checkpoint_path' summary for global step 100: /tmp/tmpee1yq5da/model.ckpt-100\n"
     ]
    }
   ],
   "source": [
    "Acc_list = []\n",
    "\n",
    "# Train and test CNN model with two layer\n",
    "classifier = tf.estimator.Estimator(model_fn = create_model,params={'A': 4})\n",
    "Accuracy_TwoLayerCNN = model_train_test(classifier,100)\n",
    "#print(Accuracy_TwoLayerCNN)\n",
    "Acc_list.append(Accuracy_TwoLayerCNN.get('accuracy')*100)\n",
    "\n",
    "#print(Accuracy_Relu)\n",
    "Acc_list.append(Accuracy_Relu.get('accuracy')*100)"
   ]
  },
  {
   "cell_type": "markdown",
   "metadata": {
    "colab_type": "text",
    "id": "6sV-7kfnEt23"
   },
   "source": [
    "## CNN with kernal size = 5"
   ]
  },
  {
   "cell_type": "code",
   "execution_count": 107,
   "metadata": {
    "colab": {
     "base_uri": "https://localhost:8080/",
     "height": 887
    },
    "colab_type": "code",
    "id": "XdKPwwbXEzrp",
    "outputId": "14f3bf8e-ed3c-4acf-b692-c17d3015ef82"
   },
   "outputs": [
    {
     "name": "stdout",
     "output_type": "stream",
     "text": [
      "INFO:tensorflow:Using default config.\n",
      "WARNING:tensorflow:Using temporary folder as model directory: /tmp/tmphi2jgeb0\n",
      "INFO:tensorflow:Using config: {'_model_dir': '/tmp/tmphi2jgeb0', '_tf_random_seed': None, '_save_summary_steps': 100, '_save_checkpoints_steps': None, '_save_checkpoints_secs': 600, '_session_config': allow_soft_placement: true\n",
      "graph_options {\n",
      "  rewrite_options {\n",
      "    meta_optimizer_iterations: ONE\n",
      "  }\n",
      "}\n",
      ", '_keep_checkpoint_max': 5, '_keep_checkpoint_every_n_hours': 10000, '_log_step_count_steps': 100, '_train_distribute': None, '_device_fn': None, '_protocol': None, '_eval_distribute': None, '_experimental_distribute': None, '_service': None, '_cluster_spec': <tensorflow.python.training.server_lib.ClusterSpec object at 0x7f11ee709d30>, '_task_type': 'worker', '_task_id': 0, '_global_id_in_cluster': 0, '_master': '', '_evaluation_master': '', '_is_chief': True, '_num_ps_replicas': 0, '_num_worker_replicas': 1}\n",
      "INFO:tensorflow:Calling model_fn.\n",
      "INFO:tensorflow:Done calling model_fn.\n",
      "INFO:tensorflow:Create CheckpointSaverHook.\n",
      "INFO:tensorflow:Graph was finalized.\n",
      "INFO:tensorflow:Running local_init_op.\n",
      "INFO:tensorflow:Done running local_init_op.\n",
      "INFO:tensorflow:Saving checkpoints for 0 into /tmp/tmphi2jgeb0/model.ckpt.\n",
      "INFO:tensorflow:loss = 0.6981890201568604, step = 1\n",
      "INFO:tensorflow:accuracy = 0.4375, loss = 0.6981890201568604\n",
      "INFO:tensorflow:accuracy = 0.53125, loss = 0.6639890670776367 (5.574 sec)\n",
      "INFO:tensorflow:accuracy = 0.625, loss = 0.5022398829460144 (5.271 sec)\n",
      "INFO:tensorflow:accuracy = 0.640625, loss = 0.5277717709541321 (5.302 sec)\n",
      "INFO:tensorflow:accuracy = 0.675, loss = 0.3395715355873108 (5.429 sec)\n",
      "INFO:tensorflow:accuracy = 0.6979167, loss = 0.4300031065940857 (5.459 sec)\n",
      "INFO:tensorflow:accuracy = 0.72321427, loss = 0.2812953293323517 (5.294 sec)\n",
      "INFO:tensorflow:accuracy = 0.734375, loss = 0.3399474620819092 (5.370 sec)\n",
      "INFO:tensorflow:accuracy = 0.75, loss = 0.25275570154190063 (5.285 sec)\n",
      "INFO:tensorflow:accuracy = 0.75625, loss = 0.3280192017555237 (5.268 sec)\n",
      "INFO:tensorflow:Saving checkpoints for 100 into /tmp/tmphi2jgeb0/model.ckpt.\n",
      "INFO:tensorflow:Loss for final step: 0.2470322996377945.\n",
      "INFO:tensorflow:Calling model_fn.\n",
      "INFO:tensorflow:Done calling model_fn.\n",
      "INFO:tensorflow:Starting evaluation at 2019-04-03T23:29:04Z\n",
      "INFO:tensorflow:Graph was finalized.\n",
      "INFO:tensorflow:Restoring parameters from /tmp/tmphi2jgeb0/model.ckpt-100\n",
      "INFO:tensorflow:Running local_init_op.\n",
      "INFO:tensorflow:Done running local_init_op.\n",
      "INFO:tensorflow:accuracy = 0.8515625, loss = 0.3493275046348572\n",
      "INFO:tensorflow:accuracy = 0.859375, loss = 0.3379625082015991 (6.780 sec)\n",
      "INFO:tensorflow:accuracy = 0.859375, loss = 0.3169402480125427 (6.725 sec)\n",
      "INFO:tensorflow:accuracy = 0.8574219, loss = 0.3156792223453522 (6.730 sec)\n",
      "INFO:tensorflow:accuracy = 0.859375, loss = 0.2807689309120178 (6.717 sec)\n",
      "INFO:tensorflow:accuracy = 0.859375, loss = 0.3040570318698883 (6.715 sec)\n",
      "INFO:tensorflow:accuracy = 0.85602677, loss = 0.3706268072128296 (6.763 sec)\n",
      "INFO:tensorflow:accuracy = 0.8544922, loss = 0.36433812975883484 (6.733 sec)\n",
      "INFO:tensorflow:accuracy = 0.8524306, loss = 0.36561286449432373 (6.708 sec)\n",
      "INFO:tensorflow:accuracy = 0.85078126, loss = 0.361630916595459 (6.798 sec)\n",
      "INFO:tensorflow:accuracy = 0.8494318, loss = 0.36542367935180664 (6.747 sec)\n",
      "INFO:tensorflow:accuracy = 0.8489583, loss = 0.35787826776504517 (6.676 sec)\n",
      "INFO:tensorflow:Finished evaluation at 2019-04-03-23:30:20\n",
      "INFO:tensorflow:Saving dict for global step 100: accuracy = 0.84615386, global_step = 100, loss = 0.34970665\n",
      "INFO:tensorflow:Saving 'checkpoint_path' summary for global step 100: /tmp/tmphi2jgeb0/model.ckpt-100\n"
     ]
    }
   ],
   "source": [
    "# Train and test CNN model with kernal size=5\n",
    "classifier = tf.estimator.Estimator(model_fn = create_model,params={'A': 5, 'F':[2]})\n",
    "Accuracy_KernalSize_Two = model_train_test(classifier,100)\n",
    "#print(Accuracy_KernalSize_Two)\n",
    "Acc_list.append(Accuracy_KernalSize_Two.get('accuracy')*100)"
   ]
  },
  {
   "cell_type": "markdown",
   "metadata": {
    "colab_type": "text",
    "id": "E69VzTuaE54o"
   },
   "source": [
    "## CNN with Kernal size= 3"
   ]
  },
  {
   "cell_type": "code",
   "execution_count": 108,
   "metadata": {
    "colab": {
     "base_uri": "https://localhost:8080/",
     "height": 887
    },
    "colab_type": "code",
    "id": "YltHAa-9E36d",
    "outputId": "da354196-ba97-47e9-a08c-f98eb6c2c21d"
   },
   "outputs": [
    {
     "name": "stdout",
     "output_type": "stream",
     "text": [
      "INFO:tensorflow:Using default config.\n",
      "WARNING:tensorflow:Using temporary folder as model directory: /tmp/tmpegbi4m34\n",
      "INFO:tensorflow:Using config: {'_model_dir': '/tmp/tmpegbi4m34', '_tf_random_seed': None, '_save_summary_steps': 100, '_save_checkpoints_steps': None, '_save_checkpoints_secs': 600, '_session_config': allow_soft_placement: true\n",
      "graph_options {\n",
      "  rewrite_options {\n",
      "    meta_optimizer_iterations: ONE\n",
      "  }\n",
      "}\n",
      ", '_keep_checkpoint_max': 5, '_keep_checkpoint_every_n_hours': 10000, '_log_step_count_steps': 100, '_train_distribute': None, '_device_fn': None, '_protocol': None, '_eval_distribute': None, '_experimental_distribute': None, '_service': None, '_cluster_spec': <tensorflow.python.training.server_lib.ClusterSpec object at 0x7f11a727d2e8>, '_task_type': 'worker', '_task_id': 0, '_global_id_in_cluster': 0, '_master': '', '_evaluation_master': '', '_is_chief': True, '_num_ps_replicas': 0, '_num_worker_replicas': 1}\n",
      "INFO:tensorflow:Calling model_fn.\n",
      "INFO:tensorflow:Done calling model_fn.\n",
      "INFO:tensorflow:Create CheckpointSaverHook.\n",
      "INFO:tensorflow:Graph was finalized.\n",
      "INFO:tensorflow:Running local_init_op.\n",
      "INFO:tensorflow:Done running local_init_op.\n",
      "INFO:tensorflow:Saving checkpoints for 0 into /tmp/tmpegbi4m34/model.ckpt.\n",
      "INFO:tensorflow:loss = 0.7003171443939209, step = 1\n",
      "INFO:tensorflow:accuracy = 0.4375, loss = 0.7003171443939209\n",
      "INFO:tensorflow:accuracy = 0.5625, loss = 0.586207389831543 (6.574 sec)\n",
      "INFO:tensorflow:accuracy = 0.6666667, loss = 0.5452064275741577 (6.275 sec)\n",
      "INFO:tensorflow:accuracy = 0.6875, loss = 1.1175439357757568 (6.311 sec)\n",
      "INFO:tensorflow:accuracy = 0.65, loss = 0.7578527927398682 (6.355 sec)\n",
      "INFO:tensorflow:accuracy = 0.6770833, loss = 0.341913640499115 (6.336 sec)\n",
      "INFO:tensorflow:accuracy = 0.71428573, loss = 0.23407433927059174 (6.312 sec)\n",
      "INFO:tensorflow:accuracy = 0.7421875, loss = 0.2180752456188202 (6.338 sec)\n",
      "INFO:tensorflow:accuracy = 0.7708333, loss = 0.1011674702167511 (6.357 sec)\n",
      "INFO:tensorflow:accuracy = 0.7875, loss = 0.1484561562538147 (6.306 sec)\n",
      "INFO:tensorflow:Saving checkpoints for 100 into /tmp/tmpegbi4m34/model.ckpt.\n",
      "INFO:tensorflow:Loss for final step: 0.10427489876747131.\n",
      "INFO:tensorflow:Calling model_fn.\n",
      "INFO:tensorflow:Done calling model_fn.\n",
      "INFO:tensorflow:Starting evaluation at 2019-04-03T23:32:24Z\n",
      "INFO:tensorflow:Graph was finalized.\n",
      "INFO:tensorflow:Restoring parameters from /tmp/tmpegbi4m34/model.ckpt-100\n",
      "INFO:tensorflow:Running local_init_op.\n",
      "INFO:tensorflow:Done running local_init_op.\n",
      "INFO:tensorflow:accuracy = 0.84375, loss = 0.3372972309589386\n",
      "INFO:tensorflow:accuracy = 0.84765625, loss = 0.32830750942230225 (9.539 sec)\n",
      "INFO:tensorflow:accuracy = 0.8463542, loss = 0.32837986946105957 (9.465 sec)\n",
      "INFO:tensorflow:accuracy = 0.84375, loss = 0.32286524772644043 (9.433 sec)\n",
      "INFO:tensorflow:accuracy = 0.8453125, loss = 0.3040008246898651 (9.433 sec)\n",
      "INFO:tensorflow:accuracy = 0.84505206, loss = 0.32178759574890137 (9.470 sec)\n",
      "INFO:tensorflow:accuracy = 0.8426339, loss = 0.3695889115333557 (9.438 sec)\n",
      "INFO:tensorflow:accuracy = 0.8408203, loss = 0.36739566922187805 (9.418 sec)\n",
      "INFO:tensorflow:accuracy = 0.8394097, loss = 0.36639389395713806 (9.663 sec)\n",
      "INFO:tensorflow:accuracy = 0.8390625, loss = 0.35713431239128113 (9.595 sec)\n",
      "INFO:tensorflow:accuracy = 0.8380682, loss = 0.36288923025131226 (9.422 sec)\n",
      "INFO:tensorflow:accuracy = 0.8385417, loss = 0.3450315594673157 (9.435 sec)\n",
      "INFO:tensorflow:Finished evaluation at 2019-04-03-23:34:11\n",
      "INFO:tensorflow:Saving dict for global step 100: accuracy = 0.83916086, global_step = 100, loss = 0.34590784\n",
      "INFO:tensorflow:Saving 'checkpoint_path' summary for global step 100: /tmp/tmpegbi4m34/model.ckpt-100\n"
     ]
    }
   ],
   "source": [
    "# Train and test CNN model with kernal size=3\n",
    "classifier = tf.estimator.Estimator(model_fn = create_model,params={'A': 5, 'F':[3]})\n",
    "Accuracy_KernalSize_Three = model_train_test(classifier,100)\n",
    "#print(Accuracy_KernalSize_Three)\n",
    "Acc_list.append(Accuracy_KernalSize_Three.get('accuracy')*100)"
   ]
  },
  {
   "cell_type": "code",
   "execution_count": 109,
   "metadata": {
    "colab": {
     "base_uri": "https://localhost:8080/",
     "height": 167
    },
    "colab_type": "code",
    "id": "No3JZBFEABWQ",
    "outputId": "a9ec567f-8df7-4204-cf99-b63311c2fdad"
   },
   "outputs": [
    {
     "data": {
      "text/html": [
       "<div>\n",
       "<style scoped>\n",
       "    .dataframe tbody tr th:only-of-type {\n",
       "        vertical-align: middle;\n",
       "    }\n",
       "\n",
       "    .dataframe tbody tr th {\n",
       "        vertical-align: top;\n",
       "    }\n",
       "\n",
       "    .dataframe thead th {\n",
       "        text-align: right;\n",
       "    }\n",
       "</style>\n",
       "<table border=\"1\" class=\"dataframe\">\n",
       "  <thead>\n",
       "    <tr style=\"text-align: right;\">\n",
       "      <th></th>\n",
       "      <th>Accuracy</th>\n",
       "      <th>Network Architecture Type</th>\n",
       "    </tr>\n",
       "  </thead>\n",
       "  <tbody>\n",
       "    <tr>\n",
       "      <th>0</th>\n",
       "      <td>78.321677</td>\n",
       "      <td>CNN with 2 hidden Layer</td>\n",
       "    </tr>\n",
       "    <tr>\n",
       "      <th>1</th>\n",
       "      <td>79.020977</td>\n",
       "      <td>CNN with 3 hidden Layer</td>\n",
       "    </tr>\n",
       "    <tr>\n",
       "      <th>2</th>\n",
       "      <td>84.615386</td>\n",
       "      <td>CNN with kernal size 2</td>\n",
       "    </tr>\n",
       "    <tr>\n",
       "      <th>3</th>\n",
       "      <td>83.916086</td>\n",
       "      <td>CNN with kernal size 3</td>\n",
       "    </tr>\n",
       "  </tbody>\n",
       "</table>\n",
       "</div>"
      ],
      "text/plain": [
       "    Accuracy Network Architecture Type\n",
       "0  78.321677   CNN with 2 hidden Layer\n",
       "1  79.020977   CNN with 3 hidden Layer\n",
       "2  84.615386    CNN with kernal size 2\n",
       "3  83.916086    CNN with kernal size 3"
      ]
     },
     "execution_count": 109,
     "metadata": {
      "tags": []
     },
     "output_type": "execute_result"
    }
   ],
   "source": [
    "accuracy_df = pd.DataFrame({'Network Architecture Type':['CNN with 2 hidden Layer','CNN with 3 hidden Layer', 'CNN with kernal size 2','CNN with kernal size 3'],'Accuracy':Acc_list})\n",
    "accuracy_df.head()"
   ]
  },
  {
   "cell_type": "markdown",
   "metadata": {
    "colab_type": "text",
    "id": "RlZ6yVWnFF2S"
   },
   "source": [
    "From the table, CNN with kernal size 2 gave best accuracy compared to other network architecture change."
   ]
  },
  {
   "cell_type": "code",
   "execution_count": 110,
   "metadata": {
    "colab": {
     "base_uri": "https://localhost:8080/",
     "height": 280
    },
    "colab_type": "code",
    "id": "5kWQ133ZAFlM",
    "outputId": "5e2f028a-199e-4dfe-859b-1602c2f2a7ee"
   },
   "outputs": [
    {
     "data": {
      "image/png": "[encoded data removed]",
      "text/plain": [
       "<Figure size 432x288 with 1 Axes>"
      ]
     },
     "metadata": {
      "tags": []
     },
     "output_type": "display_data"
    }
   ],
   "source": [
    "bar_plot(['CNN(2HL)','CNN(3HL)', 'CNN(kernal=2)','CNN(kernal=3)'],Acc_list,\"Model Accuracy\",\"Comparision of Different Network Architecture in CNN\")"
   ]
  },
  {
   "cell_type": "markdown",
   "metadata": {
    "colab_type": "text",
    "id": "d7uBtWzp8B3v"
   },
   "source": [
    "# Part G\n",
    "## Network initialization "
   ]
  },
  {
   "cell_type": "markdown",
   "metadata": {
    "colab_type": "text",
    "id": "sgglpEPjFZtO"
   },
   "source": [
    "## Xavier Glorot Initializar (Uniform)"
   ]
  },
  {
   "cell_type": "code",
   "execution_count": 111,
   "metadata": {
    "colab": {
     "base_uri": "https://localhost:8080/",
     "height": 1003
    },
    "colab_type": "code",
    "id": "YRDwfgsIuatU",
    "outputId": "07e21a14-adff-4e60-bd11-f0b137a165a5"
   },
   "outputs": [
    {
     "name": "stdout",
     "output_type": "stream",
     "text": [
      "\n",
      "WARNING: The TensorFlow contrib module will not be included in TensorFlow 2.0.\n",
      "For more information, please see:\n",
      "  * https://github.com/tensorflow/community/blob/master/rfcs/20180907-contrib-sunset.md\n",
      "  * https://github.com/tensorflow/addons\n",
      "If you depend on functionality not listed there, please file an issue.\n",
      "\n",
      "INFO:tensorflow:Using default config.\n",
      "WARNING:tensorflow:Using temporary folder as model directory: /tmp/tmpiay0cdy4\n",
      "INFO:tensorflow:Using config: {'_model_dir': '/tmp/tmpiay0cdy4', '_tf_random_seed': None, '_save_summary_steps': 100, '_save_checkpoints_steps': None, '_save_checkpoints_secs': 600, '_session_config': allow_soft_placement: true\n",
      "graph_options {\n",
      "  rewrite_options {\n",
      "    meta_optimizer_iterations: ONE\n",
      "  }\n",
      "}\n",
      ", '_keep_checkpoint_max': 5, '_keep_checkpoint_every_n_hours': 10000, '_log_step_count_steps': 100, '_train_distribute': None, '_device_fn': None, '_protocol': None, '_eval_distribute': None, '_experimental_distribute': None, '_service': None, '_cluster_spec': <tensorflow.python.training.server_lib.ClusterSpec object at 0x7f119fb9d6d8>, '_task_type': 'worker', '_task_id': 0, '_global_id_in_cluster': 0, '_master': '', '_evaluation_master': '', '_is_chief': True, '_num_ps_replicas': 0, '_num_worker_replicas': 1}\n",
      "INFO:tensorflow:Calling model_fn.\n",
      "INFO:tensorflow:Done calling model_fn.\n",
      "INFO:tensorflow:Create CheckpointSaverHook.\n",
      "INFO:tensorflow:Graph was finalized.\n",
      "INFO:tensorflow:Running local_init_op.\n",
      "INFO:tensorflow:Done running local_init_op.\n",
      "INFO:tensorflow:Saving checkpoints for 0 into /tmp/tmpiay0cdy4/model.ckpt.\n",
      "INFO:tensorflow:loss = 0.6957105994224548, step = 1\n",
      "INFO:tensorflow:accuracy = 0.375, loss = 0.6957105994224548\n",
      "INFO:tensorflow:accuracy = 0.5, loss = 0.6885368227958679 (10.120 sec)\n",
      "INFO:tensorflow:accuracy = 0.41666666, loss = 0.7277205586433411 (9.791 sec)\n",
      "INFO:tensorflow:accuracy = 0.515625, loss = 0.6671221256256104 (9.820 sec)\n",
      "INFO:tensorflow:accuracy = 0.5625, loss = 0.467337042093277 (9.805 sec)\n",
      "INFO:tensorflow:accuracy = 0.5416667, loss = 1.1237263679504395 (9.860 sec)\n",
      "INFO:tensorflow:accuracy = 0.5714286, loss = 0.5026557445526123 (9.831 sec)\n",
      "INFO:tensorflow:accuracy = 0.625, loss = 0.10941299796104431 (9.855 sec)\n",
      "INFO:tensorflow:accuracy = 0.6597222, loss = 0.25517451763153076 (9.862 sec)\n",
      "INFO:tensorflow:accuracy = 0.675, loss = 0.3205379545688629 (9.802 sec)\n",
      "INFO:tensorflow:Saving checkpoints for 100 into /tmp/tmpiay0cdy4/model.ckpt.\n",
      "INFO:tensorflow:Loss for final step: 0.29882991313934326.\n",
      "INFO:tensorflow:Calling model_fn.\n",
      "INFO:tensorflow:Done calling model_fn.\n",
      "INFO:tensorflow:Starting evaluation at 2019-04-03T23:36:44Z\n",
      "INFO:tensorflow:Graph was finalized.\n",
      "INFO:tensorflow:Restoring parameters from /tmp/tmpiay0cdy4/model.ckpt-100\n",
      "INFO:tensorflow:Running local_init_op.\n",
      "INFO:tensorflow:Done running local_init_op.\n",
      "INFO:tensorflow:accuracy = 0.8125, loss = 0.38740551471710205\n",
      "INFO:tensorflow:accuracy = 0.8203125, loss = 0.3678244650363922 (17.155 sec)\n",
      "INFO:tensorflow:accuracy = 0.8255208, loss = 0.37225234508514404 (17.375 sec)\n",
      "INFO:tensorflow:accuracy = 0.8261719, loss = 0.38319671154022217 (17.118 sec)\n",
      "INFO:tensorflow:accuracy = 0.828125, loss = 0.36276230216026306 (17.139 sec)\n",
      "INFO:tensorflow:accuracy = 0.828125, loss = 0.3714712858200073 (17.120 sec)\n",
      "INFO:tensorflow:accuracy = 0.82477677, loss = 0.41555190086364746 (17.110 sec)\n",
      "INFO:tensorflow:accuracy = 0.8222656, loss = 0.41601091623306274 (17.127 sec)\n",
      "INFO:tensorflow:accuracy = 0.8203125, loss = 0.41108065843582153 (17.400 sec)\n",
      "INFO:tensorflow:accuracy = 0.8203125, loss = 0.3976746201515198 (17.150 sec)\n",
      "INFO:tensorflow:accuracy = 0.81960225, loss = 0.4039672017097473 (17.098 sec)\n",
      "INFO:tensorflow:accuracy = 0.81966144, loss = 0.39866524934768677 (17.101 sec)\n",
      "INFO:tensorflow:Finished evaluation at 2019-04-03-23:39:56\n",
      "INFO:tensorflow:Saving dict for global step 100: accuracy = 0.8181818, global_step = 100, loss = 0.3950829\n",
      "INFO:tensorflow:Saving 'checkpoint_path' summary for global step 100: /tmp/tmpiay0cdy4/model.ckpt-100\n"
     ]
    }
   ],
   "source": [
    "Acc_list = []\n",
    "\n",
    "# Train and test CNN model with Xavier glorot(Uniform) initializar in convolution layer\n",
    "classifier = tf.estimator.Estimator(model_fn = create_model,params={'A': 6, 'G':[tf.contrib.layers.xavier_initializer(uniform=True)] })\n",
    "Accuracy_Xav_Init_Uni = model_train_test(classifier,100)\n",
    "#print(Accuracy_Xav_Init_Uni)\n",
    "Acc_list.append(Accuracy_Xav_Init_Uni.get('accuracy')*100)"
   ]
  },
  {
   "cell_type": "markdown",
   "metadata": {
    "colab_type": "text",
    "id": "Z7nJ0fjrFnq0"
   },
   "source": [
    "## Xavier Glorot Initializer (Gaussian)"
   ]
  },
  {
   "cell_type": "code",
   "execution_count": 112,
   "metadata": {
    "colab": {
     "base_uri": "https://localhost:8080/",
     "height": 887
    },
    "colab_type": "code",
    "id": "fvba732MFphf",
    "outputId": "e27e375e-c07b-45ac-cadc-49c55fd79a2a"
   },
   "outputs": [
    {
     "name": "stdout",
     "output_type": "stream",
     "text": [
      "INFO:tensorflow:Using default config.\n",
      "WARNING:tensorflow:Using temporary folder as model directory: /tmp/tmpko5z0r4c\n",
      "INFO:tensorflow:Using config: {'_model_dir': '/tmp/tmpko5z0r4c', '_tf_random_seed': None, '_save_summary_steps': 100, '_save_checkpoints_steps': None, '_save_checkpoints_secs': 600, '_session_config': allow_soft_placement: true\n",
      "graph_options {\n",
      "  rewrite_options {\n",
      "    meta_optimizer_iterations: ONE\n",
      "  }\n",
      "}\n",
      ", '_keep_checkpoint_max': 5, '_keep_checkpoint_every_n_hours': 10000, '_log_step_count_steps': 100, '_train_distribute': None, '_device_fn': None, '_protocol': None, '_eval_distribute': None, '_experimental_distribute': None, '_service': None, '_cluster_spec': <tensorflow.python.training.server_lib.ClusterSpec object at 0x7f11a734f668>, '_task_type': 'worker', '_task_id': 0, '_global_id_in_cluster': 0, '_master': '', '_evaluation_master': '', '_is_chief': True, '_num_ps_replicas': 0, '_num_worker_replicas': 1}\n",
      "INFO:tensorflow:Calling model_fn.\n",
      "INFO:tensorflow:Done calling model_fn.\n",
      "INFO:tensorflow:Create CheckpointSaverHook.\n",
      "INFO:tensorflow:Graph was finalized.\n",
      "INFO:tensorflow:Running local_init_op.\n",
      "INFO:tensorflow:Done running local_init_op.\n",
      "INFO:tensorflow:Saving checkpoints for 0 into /tmp/tmpko5z0r4c/model.ckpt.\n",
      "INFO:tensorflow:loss = 0.6968858242034912, step = 1\n",
      "INFO:tensorflow:accuracy = 0.4375, loss = 0.6968858242034912\n",
      "INFO:tensorflow:accuracy = 0.34375, loss = 0.7151233553886414 (10.067 sec)\n",
      "INFO:tensorflow:accuracy = 0.375, loss = 0.7086509466171265 (9.691 sec)\n",
      "INFO:tensorflow:accuracy = 0.4375, loss = 0.6477158069610596 (9.753 sec)\n",
      "INFO:tensorflow:accuracy = 0.5375, loss = 0.36165475845336914 (9.746 sec)\n",
      "INFO:tensorflow:accuracy = 0.59375, loss = 0.2629050612449646 (9.732 sec)\n",
      "INFO:tensorflow:accuracy = 0.6339286, loss = 0.36014512181282043 (9.731 sec)\n",
      "INFO:tensorflow:accuracy = 0.6484375, loss = 0.3809647262096405 (9.758 sec)\n",
      "INFO:tensorflow:accuracy = 0.6805556, loss = 0.30350208282470703 (9.731 sec)\n",
      "INFO:tensorflow:accuracy = 0.70625, loss = 0.276653915643692 (9.744 sec)\n",
      "INFO:tensorflow:Saving checkpoints for 100 into /tmp/tmpko5z0r4c/model.ckpt.\n",
      "INFO:tensorflow:Loss for final step: 0.17093566060066223.\n",
      "INFO:tensorflow:Calling model_fn.\n",
      "INFO:tensorflow:Done calling model_fn.\n",
      "INFO:tensorflow:Starting evaluation at 2019-04-03T23:41:54Z\n",
      "INFO:tensorflow:Graph was finalized.\n",
      "INFO:tensorflow:Restoring parameters from /tmp/tmpko5z0r4c/model.ckpt-100\n",
      "INFO:tensorflow:Running local_init_op.\n",
      "INFO:tensorflow:Done running local_init_op.\n",
      "INFO:tensorflow:accuracy = 0.796875, loss = 0.3984050154685974\n",
      "INFO:tensorflow:accuracy = 0.80078125, loss = 0.3594428300857544 (17.856 sec)\n",
      "INFO:tensorflow:accuracy = 0.8072917, loss = 0.3361107409000397 (17.103 sec)\n",
      "INFO:tensorflow:accuracy = 0.80859375, loss = 0.36144906282424927 (17.169 sec)\n",
      "INFO:tensorflow:accuracy = 0.809375, loss = 0.3516344428062439 (17.123 sec)\n",
      "INFO:tensorflow:accuracy = 0.8098958, loss = 0.35862094163894653 (17.164 sec)\n",
      "INFO:tensorflow:accuracy = 0.80691963, loss = 0.408718079328537 (17.149 sec)\n",
      "INFO:tensorflow:accuracy = 0.8046875, loss = 0.40583735704421997 (17.177 sec)\n",
      "INFO:tensorflow:accuracy = 0.8038194, loss = 0.3998644948005676 (17.472 sec)\n",
      "INFO:tensorflow:accuracy = 0.80390626, loss = 0.3930772840976715 (17.119 sec)\n",
      "INFO:tensorflow:accuracy = 0.80326706, loss = 0.40275371074676514 (17.208 sec)\n",
      "INFO:tensorflow:accuracy = 0.8020833, loss = 0.4082322418689728 (17.088 sec)\n",
      "INFO:tensorflow:Finished evaluation at 2019-04-03-23:45:07\n",
      "INFO:tensorflow:Saving dict for global step 100: accuracy = 0.7972028, global_step = 100, loss = 0.39092973\n",
      "INFO:tensorflow:Saving 'checkpoint_path' summary for global step 100: /tmp/tmpko5z0r4c/model.ckpt-100\n"
     ]
    }
   ],
   "source": [
    "# Train and test CNN model with Xavier glorot(Gaussian) initializar in convolution layer\n",
    "classifier = tf.estimator.Estimator(model_fn = create_model,params={'A': 6, 'G':[tf.contrib.layers.xavier_initializer(uniform=False)] })\n",
    "Accuracy_Xav_Init_Gau = model_train_test(classifier,100)\n",
    "#print(Accuracy_Xav_Init_Gau)\n",
    "Acc_list.append(Accuracy_Xav_Init_Gau.get('accuracy')*100)"
   ]
  },
  {
   "cell_type": "markdown",
   "metadata": {
    "colab_type": "text",
    "id": "veztrg58F7QJ"
   },
   "source": [
    "## Random Gaussain"
   ]
  },
  {
   "cell_type": "code",
   "execution_count": 113,
   "metadata": {
    "colab": {
     "base_uri": "https://localhost:8080/",
     "height": 887
    },
    "colab_type": "code",
    "id": "FhnRqFgQF6sV",
    "outputId": "d22e59e8-7960-4bc0-9f7a-c86a9924b89c"
   },
   "outputs": [
    {
     "name": "stdout",
     "output_type": "stream",
     "text": [
      "INFO:tensorflow:Using default config.\n",
      "WARNING:tensorflow:Using temporary folder as model directory: /tmp/tmps_jinn2t\n",
      "INFO:tensorflow:Using config: {'_model_dir': '/tmp/tmps_jinn2t', '_tf_random_seed': None, '_save_summary_steps': 100, '_save_checkpoints_steps': None, '_save_checkpoints_secs': 600, '_session_config': allow_soft_placement: true\n",
      "graph_options {\n",
      "  rewrite_options {\n",
      "    meta_optimizer_iterations: ONE\n",
      "  }\n",
      "}\n",
      ", '_keep_checkpoint_max': 5, '_keep_checkpoint_every_n_hours': 10000, '_log_step_count_steps': 100, '_train_distribute': None, '_device_fn': None, '_protocol': None, '_eval_distribute': None, '_experimental_distribute': None, '_service': None, '_cluster_spec': <tensorflow.python.training.server_lib.ClusterSpec object at 0x7f11a057e748>, '_task_type': 'worker', '_task_id': 0, '_global_id_in_cluster': 0, '_master': '', '_evaluation_master': '', '_is_chief': True, '_num_ps_replicas': 0, '_num_worker_replicas': 1}\n",
      "INFO:tensorflow:Calling model_fn.\n",
      "INFO:tensorflow:Done calling model_fn.\n",
      "INFO:tensorflow:Create CheckpointSaverHook.\n",
      "INFO:tensorflow:Graph was finalized.\n",
      "INFO:tensorflow:Running local_init_op.\n",
      "INFO:tensorflow:Done running local_init_op.\n",
      "INFO:tensorflow:Saving checkpoints for 0 into /tmp/tmps_jinn2t/model.ckpt.\n",
      "INFO:tensorflow:loss = 775.0344848632812, step = 1\n",
      "INFO:tensorflow:accuracy = 0.375, loss = 775.0344848632812\n",
      "INFO:tensorflow:accuracy = 0.34375, loss = 26279.06640625 (9.962 sec)\n",
      "INFO:tensorflow:accuracy = 0.47916666, loss = 898.5740966796875 (9.691 sec)\n",
      "INFO:tensorflow:accuracy = 0.578125, loss = 396.2008972167969 (9.735 sec)\n",
      "INFO:tensorflow:accuracy = 0.6375, loss = 447.64068603515625 (9.751 sec)\n",
      "INFO:tensorflow:accuracy = 0.6770833, loss = 253.7833251953125 (9.728 sec)\n",
      "INFO:tensorflow:accuracy = 0.66964287, loss = 1735.907958984375 (9.821 sec)\n",
      "INFO:tensorflow:accuracy = 0.671875, loss = 1536.8382568359375 (9.745 sec)\n",
      "INFO:tensorflow:accuracy = 0.6805556, loss = 1187.202392578125 (9.733 sec)\n",
      "INFO:tensorflow:accuracy = 0.7, loss = 464.06280517578125 (9.781 sec)\n",
      "INFO:tensorflow:Saving checkpoints for 100 into /tmp/tmps_jinn2t/model.ckpt.\n",
      "INFO:tensorflow:Loss for final step: 1198.0198974609375.\n",
      "INFO:tensorflow:Calling model_fn.\n",
      "INFO:tensorflow:Done calling model_fn.\n",
      "INFO:tensorflow:Starting evaluation at 2019-04-03T23:47:30Z\n",
      "INFO:tensorflow:Graph was finalized.\n",
      "INFO:tensorflow:Restoring parameters from /tmp/tmps_jinn2t/model.ckpt-100\n",
      "INFO:tensorflow:Running local_init_op.\n",
      "INFO:tensorflow:Done running local_init_op.\n",
      "INFO:tensorflow:accuracy = 0.8203125, loss = 411.61920166015625\n",
      "INFO:tensorflow:accuracy = 0.82421875, loss = 384.56793212890625 (17.230 sec)\n",
      "INFO:tensorflow:accuracy = 0.8255208, loss = 363.75347900390625 (17.134 sec)\n",
      "INFO:tensorflow:accuracy = 0.82421875, loss = 410.57745361328125 (17.111 sec)\n",
      "INFO:tensorflow:accuracy = 0.825, loss = 401.3909912109375 (17.112 sec)\n",
      "INFO:tensorflow:accuracy = 0.82682294, loss = 412.781005859375 (17.160 sec)\n",
      "INFO:tensorflow:accuracy = 0.82366073, loss = 447.7281799316406 (17.325 sec)\n",
      "INFO:tensorflow:accuracy = 0.82128906, loss = 461.59710693359375 (17.206 sec)\n",
      "INFO:tensorflow:accuracy = 0.8185764, loss = 462.2295227050781 (17.164 sec)\n",
      "INFO:tensorflow:accuracy = 0.81640625, loss = 445.1898193359375 (17.130 sec)\n",
      "INFO:tensorflow:accuracy = 0.8146307, loss = 445.1898193359375 (17.118 sec)\n",
      "INFO:tensorflow:accuracy = 0.8151042, loss = 392.184814453125 (17.155 sec)\n",
      "INFO:tensorflow:Finished evaluation at 2019-04-03-23:50:42\n",
      "INFO:tensorflow:Saving dict for global step 100: accuracy = 0.8111888, global_step = 100, loss = 414.03418\n",
      "INFO:tensorflow:Saving 'checkpoint_path' summary for global step 100: /tmp/tmps_jinn2t/model.ckpt-100\n"
     ]
    }
   ],
   "source": [
    "# Train and test CNN model with random gaussain initializar in convolution layer\n",
    "classifier = tf.estimator.Estimator(model_fn = create_model,params={'A': 6, 'G':[tf.initializers.random_normal] })\n",
    "Accuracy_Rand_Gau = model_train_test(classifier,100)\n",
    "#print(Accuracy_Rand_Gau)\n",
    "Acc_list.append(Accuracy_Rand_Gau.get('accuracy')*100)"
   ]
  },
  {
   "cell_type": "code",
   "execution_count": 114,
   "metadata": {
    "colab": {
     "base_uri": "https://localhost:8080/",
     "height": 137
    },
    "colab_type": "code",
    "id": "GrCH6ovnBUak",
    "outputId": "5e3fb356-4607-43c4-a54b-857c4ea32baa"
   },
   "outputs": [
    {
     "data": {
      "text/html": [
       "<div>\n",
       "<style scoped>\n",
       "    .dataframe tbody tr th:only-of-type {\n",
       "        vertical-align: middle;\n",
       "    }\n",
       "\n",
       "    .dataframe tbody tr th {\n",
       "        vertical-align: top;\n",
       "    }\n",
       "\n",
       "    .dataframe thead th {\n",
       "        text-align: right;\n",
       "    }\n",
       "</style>\n",
       "<table border=\"1\" class=\"dataframe\">\n",
       "  <thead>\n",
       "    <tr style=\"text-align: right;\">\n",
       "      <th></th>\n",
       "      <th>Accuracy</th>\n",
       "      <th>Network Initialization Type</th>\n",
       "    </tr>\n",
       "  </thead>\n",
       "  <tbody>\n",
       "    <tr>\n",
       "      <th>0</th>\n",
       "      <td>81.818181</td>\n",
       "      <td>Xavier Glorot(Uniform)</td>\n",
       "    </tr>\n",
       "    <tr>\n",
       "      <th>1</th>\n",
       "      <td>79.720283</td>\n",
       "      <td>Xavier Glorot(Gaussian)</td>\n",
       "    </tr>\n",
       "    <tr>\n",
       "      <th>2</th>\n",
       "      <td>81.118882</td>\n",
       "      <td>Random Gaussian</td>\n",
       "    </tr>\n",
       "  </tbody>\n",
       "</table>\n",
       "</div>"
      ],
      "text/plain": [
       "    Accuracy Network Initialization Type\n",
       "0  81.818181      Xavier Glorot(Uniform)\n",
       "1  79.720283     Xavier Glorot(Gaussian)\n",
       "2  81.118882             Random Gaussian"
      ]
     },
     "execution_count": 114,
     "metadata": {
      "tags": []
     },
     "output_type": "execute_result"
    }
   ],
   "source": [
    "accuracy_df = pd.DataFrame({'Network Initialization Type':['Xavier Glorot(Uniform)','Xavier Glorot(Gaussian)', 'Random Gaussian'],'Accuracy':Acc_list})\n",
    "accuracy_df.head()"
   ]
  },
  {
   "cell_type": "markdown",
   "metadata": {
    "colab_type": "text",
    "id": "t97R4vOKGEFI"
   },
   "source": [
    "from the above table, Xavier Glorot kernal initializer gave the best accuracy among other initializer like random gaussain."
   ]
  },
  {
   "cell_type": "code",
   "execution_count": 115,
   "metadata": {
    "colab": {
     "base_uri": "https://localhost:8080/",
     "height": 280
    },
    "colab_type": "code",
    "id": "PpnyktWGBcb7",
    "outputId": "741f4ec0-57b0-4548-c4b6-2949f35d5b35"
   },
   "outputs": [
    {
     "data": {
      "image/png": "[encoded data removed]",
      "text/plain": [
       "<Figure size 432x288 with 1 Axes>"
      ]
     },
     "metadata": {
      "tags": []
     },
     "output_type": "display_data"
    }
   ],
   "source": [
    "bar_plot(['Xavier Glorot(Uniform)','Xavier Glorot(Gaussian)', 'Random Gaussian'],Acc_list,\"Model Accuracy\",\"Comparision of Different Network Initialization in CNN\")"
   ]
  },
  {
   "cell_type": "markdown",
   "metadata": {
    "colab_type": "text",
    "id": "Vz6oi0_oU2z3"
   },
   "source": [
    "## Conclusion:\n",
    "\n",
    "After trying multiple variation in CNN model for the honey been dataset to classify the pollern and non-pollern honey bee, below are the findings.\n",
    "* Part B: After using LeakyRelu function, the accuracy is 88.11% which highest compared to other activation function like Relu and Tanh.\n",
    "* Part C: 85.35% accuracy is achieved after using the hindge cost function in CNN model which higher than the CNN model with cross-entropy cost function.\n",
    "* Part D: Epoch value is important variable for CNN model and for this dataset, Epoch values 50 and 10 gave the best accuracy(83%) for this dataset.\n",
    "* Part E: Different gradient estimation used for loss calculation and back prapogation where Adam gradient estimation performs better with accuracy 79% than Adagrad estimation.\n",
    "* Part F: With different network architecture, CNN model with kernal size 2 perform well for honey been data set with accuracy 84%. \n",
    "* Part G: Xavier glorot kernal initializer(Uniform) have higher accuracy(81%) than other initializers.\n"
   ]
  },
  {
   "cell_type": "markdown",
   "metadata": {
    "colab_type": "text",
    "id": "KKlwDiwVVEPb"
   },
   "source": [
    "## Citations:\n",
    "\n",
    "* https://www.tensorflow.org/tutorials/estimators/cnn\n",
    "\n",
    "* https://www.tensorflow.org/alpha/tutorials/images/intro_to_cnns\n",
    "\n",
    "* https://www.tensorflow.org/api_docs/python/tf/estimator/EstimatorSpec\n",
    "\n",
    "* https://www.tensorflow.org/api_docs/python/tf/layers/Conv2D\n",
    "\n",
    "* https://www.tensorflow.org/"
   ]
  },
  {
   "cell_type": "markdown",
   "metadata": {
    "colab_type": "text",
    "id": "FehcVa7cVYkw"
   },
   "source": [
    "## Licence:\n",
    "\n",
    "MIT License\n",
    "\n",
    "Copyright (c) 2019 Akshay Patel\n",
    "\n",
    "Permission is hereby granted, free of charge, to any person obtaining a copy of this software and associated documentation files (the \"Software\"), to deal in the Software without restriction, including without limitation the rights to use, copy, modify, merge, publish, distribute, sublicense, and/or sell copies of the Software, and to permit persons to whom the Software is furnished to do so, subject to the following conditions:\n",
    "\n",
    "The above copyright notice and this permission notice shall be included in all copies or substantial portions of the Software.\n",
    "\n",
    "THE SOFTWARE IS PROVIDED \"AS IS\", WITHOUT WARRANTY OF ANY KIND, EXPRESS OR IMPLIED, INCLUDING BUT NOT LIMITED TO THE WARRANTIES OF MERCHANTABILITY, FITNESS FOR A PARTICULAR PURPOSE AND NONINFRINGEMENT. IN NO EVENT SHALL THE AUTHORS OR COPYRIGHT HOLDERS BE LIABLE FOR ANY CLAIM, DAMAGES OR OTHER LIABILITY, WHETHER IN AN ACTION OF CONTRACT, TORT OR OTHERWISE, ARISING FROM, OUT OF OR IN CONNECTION WITH THE SOFTWARE OR THE USE OR OTHER DEALINGS IN THE SOFTWARE.\n"
   ]
  },
  {
   "cell_type": "code",
   "execution_count": null,
   "metadata": {},
   "outputs": [],
   "source": []
  }
 ],
 "metadata": {
  "accelerator": "TPU",
  "colab": {
   "collapsed_sections": [],
   "name": "Assignement3_Honey_Bee_Pollen.ipynb",
   "provenance": [],
   "version": "0.3.2"
  },
  "kernelspec": {
   "display_name": "Python 3",
   "language": "python",
   "name": "python3"
  },
  "language_info": {
   "codemirror_mode": {
    "name": "ipython",
    "version": 3
   },
   "file_extension": ".py",
   "mimetype": "text/x-python",
   "name": "python",
   "nbconvert_exporter": "python",
   "pygments_lexer": "ipython3",
   "version": "3.7.0"
  }
 },
 "nbformat": 4,
 "nbformat_minor": 1
}
