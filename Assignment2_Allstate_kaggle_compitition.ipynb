{
 "cells": [
  {
   "cell_type": "markdown",
   "metadata": {
    "collapsed": true
   },
   "source": [
    "Allstate- claim severity prediction "
   ]
  },
  {
   "cell_type": "code",
   "execution_count": 1,
   "metadata": {},
   "outputs": [],
   "source": [
    "import h2o\n",
    "import psutil\n",
    "import pandas as pd\n",
    "import numpy as np\n",
    "import random\n",
    "from h2o.automl import H2OAutoML"
   ]
  },
  {
   "cell_type": "code",
   "execution_count": 3,
   "metadata": {},
   "outputs": [
    {
     "name": "stdout",
     "output_type": "stream",
     "text": [
      "6\n"
     ]
    }
   ],
   "source": [
    "pct_memory=0.9\n",
    "virtual_memory=psutil.virtual_memory()\n",
    "min_mem_size=6\n",
    "print(min_mem_size)"
   ]
  },
  {
   "cell_type": "code",
   "execution_count": 4,
   "metadata": {},
   "outputs": [
    {
     "name": "stdout",
     "output_type": "stream",
     "text": [
      "Checking whether there is an H2O instance running at http://localhost:14338..... not found.\n",
      "Attempting to start a local H2O server...\n",
      "; Java HotSpot(TM) 64-Bit Server VM (build 25.191-b12, mixed mode)\n",
      "  Starting server from C:\\Users\\Akshay\\PycharmProjects\\Big_Data_Class\\venv\\lib\\site-packages\\h2o\\backend\\bin\\h2o.jar\n",
      "  Ice root: C:\\Users\\Akshay\\AppData\\Local\\Temp\\tmp91xwn_2v\n",
      "  JVM stdout: C:\\Users\\Akshay\\AppData\\Local\\Temp\\tmp91xwn_2v\\h2o_Akshay_started_from_python.out\n",
      "  JVM stderr: C:\\Users\\Akshay\\AppData\\Local\\Temp\\tmp91xwn_2v\\h2o_Akshay_started_from_python.err\n",
      "  Server is running at http://127.0.0.1:14338\n",
      "Connecting to H2O server at http://127.0.0.1:14338... successful.\n"
     ]
    },
    {
     "data": {
      "text/html": [
       "<div style=\"overflow:auto\"><table style=\"width:50%\"><tr><td>H2O cluster uptime:</td>\n",
       "<td>05 secs</td></tr>\n",
       "<tr><td>H2O cluster timezone:</td>\n",
       "<td>America/New_York</td></tr>\n",
       "<tr><td>H2O data parsing timezone:</td>\n",
       "<td>UTC</td></tr>\n",
       "<tr><td>H2O cluster version:</td>\n",
       "<td>3.22.1.3</td></tr>\n",
       "<tr><td>H2O cluster version age:</td>\n",
       "<td>29 days </td></tr>\n",
       "<tr><td>H2O cluster name:</td>\n",
       "<td>H2O_from_python_Akshay_xbjvp0</td></tr>\n",
       "<tr><td>H2O cluster total nodes:</td>\n",
       "<td>1</td></tr>\n",
       "<tr><td>H2O cluster free memory:</td>\n",
       "<td>1.757 Gb</td></tr>\n",
       "<tr><td>H2O cluster total cores:</td>\n",
       "<td>0</td></tr>\n",
       "<tr><td>H2O cluster allowed cores:</td>\n",
       "<td>0</td></tr>\n",
       "<tr><td>H2O cluster status:</td>\n",
       "<td>accepting new members, healthy</td></tr>\n",
       "<tr><td>H2O connection url:</td>\n",
       "<td>http://127.0.0.1:14338</td></tr>\n",
       "<tr><td>H2O connection proxy:</td>\n",
       "<td>None</td></tr>\n",
       "<tr><td>H2O internal security:</td>\n",
       "<td>False</td></tr>\n",
       "<tr><td>H2O API Extensions:</td>\n",
       "<td>Algos, AutoML, Core V3, Core V4</td></tr>\n",
       "<tr><td>Python version:</td>\n",
       "<td>3.7.0 final</td></tr></table></div>"
      ],
      "text/plain": [
       "--------------------------  -------------------------------\n",
       "H2O cluster uptime:         05 secs\n",
       "H2O cluster timezone:       America/New_York\n",
       "H2O data parsing timezone:  UTC\n",
       "H2O cluster version:        3.22.1.3\n",
       "H2O cluster version age:    29 days\n",
       "H2O cluster name:           H2O_from_python_Akshay_xbjvp0\n",
       "H2O cluster total nodes:    1\n",
       "H2O cluster free memory:    1.757 Gb\n",
       "H2O cluster total cores:    0\n",
       "H2O cluster allowed cores:  0\n",
       "H2O cluster status:         accepting new members, healthy\n",
       "H2O connection url:         http://127.0.0.1:14338\n",
       "H2O connection proxy:\n",
       "H2O internal security:      False\n",
       "H2O API Extensions:         Algos, AutoML, Core V3, Core V4\n",
       "Python version:             3.7.0 final\n",
       "--------------------------  -------------------------------"
      ]
     },
     "metadata": {},
     "output_type": "display_data"
    }
   ],
   "source": [
    "# 65535 Highest port no\n",
    "port_no=random.randint(5555,55555)\n",
    "h2o.init(strict_version_check=False,port=port_no) # start h2o"
   ]
  },
  {
   "cell_type": "code",
   "execution_count": 5,
   "metadata": {},
   "outputs": [],
   "source": [
    "train_data_path = \"C:\\\\Users\\\\Akshay\\\\Downloads\\\\allstate-claims-severity\\\\train.csv\"\n",
    "test_data_path = \"C:\\\\Users\\\\Akshay\\\\Downloads\\\\allstate-claims-severity\\\\test.csv\"\n",
    "\n",
    "#train_data = pd.read_csv(train_data_path)\n",
    "#test_data = pd.read_csv(test_data_path)\n",
    "\n",
    "#train_data.drop(columns=['id','cont12'],inplace=True,axis=1)\n",
    "#test_data.drop(columns=['id','cont12'],inplace=True,axis=1)\n",
    "\n",
    "#train_cat_data = pd.get_dummies(train_data)\n",
    "#test_cat_data = pd.get_dummies(test_data)"
   ]
  },
  {
   "cell_type": "code",
   "execution_count": 6,
   "metadata": {},
   "outputs": [
    {
     "name": "stdout",
     "output_type": "stream",
     "text": [
      "Parse progress: |██████████████████████████████████████████████████████████| 100%\n"
     ]
    }
   ],
   "source": [
    "#train_data_path = \"C:\\\\Users\\\\Akshay\\\\Downloads\\\\allstate-claims-severity\\\\train.csv\"\n",
    "#test_data_path = \"C:\\\\Users\\\\Akshay\\\\Downloads\\\\allstate-claims-severity\\\\test.csv\"\n",
    "train_data = h2o.import_file(train_data_path)"
   ]
  },
  {
   "cell_type": "code",
   "execution_count": 10,
   "metadata": {},
   "outputs": [
    {
     "data": {
      "text/html": [
       "<table>\n",
       "<thead>\n",
       "<tr><th style=\"text-align: right;\">  id</th><th>cat1  </th><th>cat2  </th><th>cat3  </th><th>cat4  </th><th>cat5  </th><th>cat6  </th><th>cat7  </th><th>cat8  </th><th>cat9  </th><th>cat10  </th><th>cat11  </th><th>cat12  </th><th>cat13  </th><th>cat14  </th><th>cat15  </th><th>cat16  </th><th>cat17  </th><th>cat18  </th><th>cat19  </th><th>cat20  </th><th>cat21  </th><th>cat22  </th><th>cat23  </th><th>cat24  </th><th>cat25  </th><th>cat26  </th><th>cat27  </th><th>cat28  </th><th>cat29  </th><th>cat30  </th><th>cat31  </th><th>cat32  </th><th>cat33  </th><th>cat34  </th><th>cat35  </th><th>cat36  </th><th>cat37  </th><th>cat38  </th><th>cat39  </th><th>cat40  </th><th>cat41  </th><th>cat42  </th><th>cat43  </th><th>cat44  </th><th>cat45  </th><th>cat46  </th><th>cat47  </th><th>cat48  </th><th>cat49  </th><th>cat50  </th><th>cat51  </th><th>cat52  </th><th>cat53  </th><th>cat54  </th><th>cat55  </th><th>cat56  </th><th>cat57  </th><th>cat58  </th><th>cat59  </th><th>cat60  </th><th>cat61  </th><th>cat62  </th><th>cat63  </th><th>cat64  </th><th>cat65  </th><th>cat66  </th><th>cat67  </th><th>cat68  </th><th>cat69  </th><th>cat70  </th><th>cat71  </th><th>cat72  </th><th>cat73  </th><th>cat74  </th><th>cat75  </th><th>cat76  </th><th>cat77  </th><th>cat78  </th><th>cat79  </th><th>cat80  </th><th>cat81  </th><th>cat82  </th><th>cat83  </th><th>cat84  </th><th>cat85  </th><th>cat86  </th><th>cat87  </th><th>cat88  </th><th>cat89  </th><th>cat90  </th><th>cat91  </th><th>cat92  </th><th>cat93  </th><th>cat94  </th><th>cat95  </th><th>cat96  </th><th>cat97  </th><th>cat98  </th><th>cat99  </th><th>cat100  </th><th>cat101  </th><th>cat102  </th><th>cat103  </th><th>cat104  </th><th>cat105  </th><th>cat106  </th><th>cat107  </th><th>cat108  </th><th>cat109  </th><th>cat110  </th><th>cat111  </th><th>cat112  </th><th>cat113  </th><th>cat114  </th><th>cat115  </th><th>cat116  </th><th style=\"text-align: right;\">   cont1</th><th style=\"text-align: right;\">   cont2</th><th style=\"text-align: right;\">   cont3</th><th style=\"text-align: right;\">   cont4</th><th style=\"text-align: right;\">   cont5</th><th style=\"text-align: right;\">   cont6</th><th style=\"text-align: right;\">   cont7</th><th style=\"text-align: right;\">  cont8</th><th style=\"text-align: right;\">  cont9</th><th style=\"text-align: right;\">  cont10</th><th style=\"text-align: right;\">  cont11</th><th style=\"text-align: right;\">  cont12</th><th style=\"text-align: right;\">  cont13</th><th style=\"text-align: right;\">  cont14</th><th style=\"text-align: right;\">    loss</th></tr>\n",
       "</thead>\n",
       "<tbody>\n",
       "<tr><td style=\"text-align: right;\">   1</td><td>A     </td><td>B     </td><td>A     </td><td>B     </td><td>A     </td><td>A     </td><td>A     </td><td>A     </td><td>B     </td><td>A      </td><td>B      </td><td>A      </td><td>A      </td><td>A      </td><td>A      </td><td>A      </td><td>A      </td><td>A      </td><td>A      </td><td>A      </td><td>A      </td><td>A      </td><td>B      </td><td>A      </td><td>A      </td><td>A      </td><td>A      </td><td>A      </td><td>A      </td><td>A      </td><td>A      </td><td>A      </td><td>A      </td><td>A      </td><td>A      </td><td>A      </td><td>A      </td><td>A      </td><td>A      </td><td>A      </td><td>A      </td><td>A      </td><td>A      </td><td>A      </td><td>A      </td><td>A      </td><td>A      </td><td>A      </td><td>A      </td><td>A      </td><td>A      </td><td>A      </td><td>A      </td><td>A      </td><td>A      </td><td>A      </td><td>A      </td><td>A      </td><td>A      </td><td>A      </td><td>A      </td><td>A      </td><td>A      </td><td>A      </td><td>A      </td><td>A      </td><td>A      </td><td>A      </td><td>A      </td><td>A      </td><td>A      </td><td>A      </td><td>A      </td><td>A      </td><td>B      </td><td>A      </td><td>D      </td><td>B      </td><td>B      </td><td>D      </td><td>D      </td><td>B      </td><td>D      </td><td>C      </td><td>B      </td><td>D      </td><td>B      </td><td>A      </td><td>A      </td><td>A      </td><td>A      </td><td>A      </td><td>D      </td><td>B      </td><td>C      </td><td>E      </td><td>A      </td><td>C      </td><td>T      </td><td>B       </td><td>G       </td><td>A       </td><td>A       </td><td>I       </td><td>E       </td><td>G       </td><td>J       </td><td>G       </td><td>BU      </td><td>BC      </td><td>C       </td><td>AS      </td><td>S       </td><td>A       </td><td>O       </td><td>LB      </td><td style=\"text-align: right;\">0.7263  </td><td style=\"text-align: right;\">0.245921</td><td style=\"text-align: right;\">0.187583</td><td style=\"text-align: right;\">0.789639</td><td style=\"text-align: right;\">0.310061</td><td style=\"text-align: right;\">0.718367</td><td style=\"text-align: right;\">0.33506 </td><td style=\"text-align: right;\">0.3026 </td><td style=\"text-align: right;\">0.67135</td><td style=\"text-align: right;\"> 0.8351 </td><td style=\"text-align: right;\">0.569745</td><td style=\"text-align: right;\">0.594646</td><td style=\"text-align: right;\">0.822493</td><td style=\"text-align: right;\">0.714843</td><td style=\"text-align: right;\"> 2213.18</td></tr>\n",
       "<tr><td style=\"text-align: right;\">   2</td><td>A     </td><td>B     </td><td>A     </td><td>A     </td><td>A     </td><td>A     </td><td>A     </td><td>A     </td><td>B     </td><td>B      </td><td>A      </td><td>A      </td><td>A      </td><td>A      </td><td>A      </td><td>A      </td><td>A      </td><td>A      </td><td>A      </td><td>A      </td><td>A      </td><td>A      </td><td>A      </td><td>A      </td><td>A      </td><td>A      </td><td>A      </td><td>A      </td><td>A      </td><td>A      </td><td>A      </td><td>A      </td><td>A      </td><td>A      </td><td>A      </td><td>A      </td><td>A      </td><td>A      </td><td>A      </td><td>A      </td><td>A      </td><td>A      </td><td>A      </td><td>A      </td><td>A      </td><td>A      </td><td>A      </td><td>A      </td><td>A      </td><td>A      </td><td>A      </td><td>A      </td><td>A      </td><td>A      </td><td>A      </td><td>A      </td><td>A      </td><td>A      </td><td>A      </td><td>A      </td><td>A      </td><td>A      </td><td>A      </td><td>A      </td><td>A      </td><td>A      </td><td>A      </td><td>A      </td><td>A      </td><td>A      </td><td>A      </td><td>A      </td><td>A      </td><td>A      </td><td>A      </td><td>A      </td><td>D      </td><td>B      </td><td>B      </td><td>D      </td><td>D      </td><td>A      </td><td>B      </td><td>C      </td><td>B      </td><td>D      </td><td>B      </td><td>A      </td><td>A      </td><td>A      </td><td>A      </td><td>A      </td><td>D      </td><td>D      </td><td>C      </td><td>E      </td><td>E      </td><td>D      </td><td>T      </td><td>L       </td><td>F       </td><td>A       </td><td>A       </td><td>E       </td><td>E       </td><td>I       </td><td>K       </td><td>K       </td><td>BI      </td><td>CQ      </td><td>A       </td><td>AV      </td><td>BM      </td><td>A       </td><td>O       </td><td>DP      </td><td style=\"text-align: right;\">0.330514</td><td style=\"text-align: right;\">0.737068</td><td style=\"text-align: right;\">0.592681</td><td style=\"text-align: right;\">0.614134</td><td style=\"text-align: right;\">0.885834</td><td style=\"text-align: right;\">0.438917</td><td style=\"text-align: right;\">0.436585</td><td style=\"text-align: right;\">0.60087</td><td style=\"text-align: right;\">0.35127</td><td style=\"text-align: right;\"> 0.43919</td><td style=\"text-align: right;\">0.338312</td><td style=\"text-align: right;\">0.366307</td><td style=\"text-align: right;\">0.611431</td><td style=\"text-align: right;\">0.304496</td><td style=\"text-align: right;\"> 1283.6 </td></tr>\n",
       "<tr><td style=\"text-align: right;\">   5</td><td>A     </td><td>B     </td><td>A     </td><td>A     </td><td>B     </td><td>A     </td><td>A     </td><td>A     </td><td>B     </td><td>B      </td><td>B      </td><td>B      </td><td>B      </td><td>A      </td><td>A      </td><td>A      </td><td>A      </td><td>A      </td><td>A      </td><td>A      </td><td>A      </td><td>A      </td><td>A      </td><td>A      </td><td>A      </td><td>A      </td><td>A      </td><td>A      </td><td>A      </td><td>A      </td><td>A      </td><td>A      </td><td>A      </td><td>A      </td><td>A      </td><td>B      </td><td>A      </td><td>A      </td><td>A      </td><td>A      </td><td>A      </td><td>A      </td><td>A      </td><td>A      </td><td>A      </td><td>A      </td><td>A      </td><td>A      </td><td>A      </td><td>A      </td><td>A      </td><td>A      </td><td>A      </td><td>A      </td><td>A      </td><td>A      </td><td>A      </td><td>A      </td><td>A      </td><td>A      </td><td>A      </td><td>A      </td><td>A      </td><td>A      </td><td>A      </td><td>A      </td><td>A      </td><td>A      </td><td>A      </td><td>A      </td><td>A      </td><td>A      </td><td>A      </td><td>A      </td><td>A      </td><td>A      </td><td>D      </td><td>B      </td><td>B      </td><td>B      </td><td>D      </td><td>B      </td><td>D      </td><td>C      </td><td>B      </td><td>B      </td><td>B      </td><td>A      </td><td>A      </td><td>A      </td><td>A      </td><td>A      </td><td>D      </td><td>D      </td><td>C      </td><td>E      </td><td>E      </td><td>A      </td><td>D      </td><td>L       </td><td>O       </td><td>A       </td><td>B       </td><td>E       </td><td>F       </td><td>H       </td><td>F       </td><td>A       </td><td>AB      </td><td>DK      </td><td>A       </td><td>C       </td><td>AF      </td><td>A       </td><td>I       </td><td>GK      </td><td style=\"text-align: right;\">0.261841</td><td style=\"text-align: right;\">0.358319</td><td style=\"text-align: right;\">0.484196</td><td style=\"text-align: right;\">0.236924</td><td style=\"text-align: right;\">0.397069</td><td style=\"text-align: right;\">0.289648</td><td style=\"text-align: right;\">0.315545</td><td style=\"text-align: right;\">0.2732 </td><td style=\"text-align: right;\">0.26076</td><td style=\"text-align: right;\"> 0.32446</td><td style=\"text-align: right;\">0.381398</td><td style=\"text-align: right;\">0.373424</td><td style=\"text-align: right;\">0.195709</td><td style=\"text-align: right;\">0.774425</td><td style=\"text-align: right;\"> 3005.09</td></tr>\n",
       "<tr><td style=\"text-align: right;\">  10</td><td>B     </td><td>B     </td><td>A     </td><td>B     </td><td>A     </td><td>A     </td><td>A     </td><td>A     </td><td>B     </td><td>A      </td><td>A      </td><td>A      </td><td>A      </td><td>A      </td><td>A      </td><td>A      </td><td>A      </td><td>A      </td><td>A      </td><td>A      </td><td>A      </td><td>A      </td><td>B      </td><td>A      </td><td>A      </td><td>A      </td><td>A      </td><td>A      </td><td>A      </td><td>A      </td><td>A      </td><td>A      </td><td>A      </td><td>A      </td><td>A      </td><td>A      </td><td>A      </td><td>A      </td><td>A      </td><td>A      </td><td>A      </td><td>A      </td><td>A      </td><td>A      </td><td>A      </td><td>A      </td><td>A      </td><td>A      </td><td>A      </td><td>A      </td><td>A      </td><td>A      </td><td>A      </td><td>A      </td><td>A      </td><td>A      </td><td>A      </td><td>A      </td><td>A      </td><td>A      </td><td>A      </td><td>A      </td><td>A      </td><td>A      </td><td>A      </td><td>A      </td><td>A      </td><td>A      </td><td>A      </td><td>A      </td><td>A      </td><td>A      </td><td>B      </td><td>A      </td><td>A      </td><td>A      </td><td>D      </td><td>B      </td><td>B      </td><td>D      </td><td>D      </td><td>D      </td><td>B      </td><td>C      </td><td>B      </td><td>D      </td><td>B      </td><td>A      </td><td>A      </td><td>A      </td><td>A      </td><td>A      </td><td>D      </td><td>D      </td><td>C      </td><td>E      </td><td>E      </td><td>D      </td><td>T      </td><td>I       </td><td>D       </td><td>A       </td><td>A       </td><td>E       </td><td>E       </td><td>I       </td><td>K       </td><td>K       </td><td>BI      </td><td>CS      </td><td>C       </td><td>N       </td><td>AE      </td><td>A       </td><td>O       </td><td>DJ      </td><td style=\"text-align: right;\">0.321594</td><td style=\"text-align: right;\">0.555782</td><td style=\"text-align: right;\">0.527991</td><td style=\"text-align: right;\">0.373816</td><td style=\"text-align: right;\">0.422268</td><td style=\"text-align: right;\">0.440945</td><td style=\"text-align: right;\">0.391128</td><td style=\"text-align: right;\">0.31796</td><td style=\"text-align: right;\">0.32128</td><td style=\"text-align: right;\"> 0.44467</td><td style=\"text-align: right;\">0.327915</td><td style=\"text-align: right;\">0.32157 </td><td style=\"text-align: right;\">0.605077</td><td style=\"text-align: right;\">0.602642</td><td style=\"text-align: right;\">  939.85</td></tr>\n",
       "<tr><td style=\"text-align: right;\">  11</td><td>A     </td><td>B     </td><td>A     </td><td>B     </td><td>A     </td><td>A     </td><td>A     </td><td>A     </td><td>B     </td><td>B      </td><td>A      </td><td>B      </td><td>A      </td><td>A      </td><td>A      </td><td>A      </td><td>A      </td><td>A      </td><td>A      </td><td>A      </td><td>A      </td><td>A      </td><td>B      </td><td>A      </td><td>A      </td><td>A      </td><td>A      </td><td>A      </td><td>A      </td><td>A      </td><td>A      </td><td>A      </td><td>A      </td><td>A      </td><td>A      </td><td>A      </td><td>A      </td><td>A      </td><td>A      </td><td>A      </td><td>A      </td><td>A      </td><td>A      </td><td>A      </td><td>A      </td><td>A      </td><td>A      </td><td>A      </td><td>A      </td><td>A      </td><td>A      </td><td>A      </td><td>A      </td><td>A      </td><td>A      </td><td>A      </td><td>A      </td><td>A      </td><td>A      </td><td>A      </td><td>A      </td><td>A      </td><td>A      </td><td>A      </td><td>A      </td><td>A      </td><td>A      </td><td>A      </td><td>A      </td><td>A      </td><td>A      </td><td>B      </td><td>A      </td><td>A      </td><td>A      </td><td>A      </td><td>D      </td><td>B      </td><td>D      </td><td>B      </td><td>D      </td><td>B      </td><td>B      </td><td>C      </td><td>B      </td><td>B      </td><td>C      </td><td>A      </td><td>A      </td><td>A      </td><td>B      </td><td>H      </td><td>D      </td><td>B      </td><td>D      </td><td>E      </td><td>E      </td><td>A      </td><td>P      </td><td>F       </td><td>J       </td><td>A       </td><td>A       </td><td>D       </td><td>E       </td><td>K       </td><td>G       </td><td>B       </td><td>H       </td><td>C       </td><td>C       </td><td>Y       </td><td>BM      </td><td>A       </td><td>K       </td><td>CK      </td><td style=\"text-align: right;\">0.273204</td><td style=\"text-align: right;\">0.15999 </td><td style=\"text-align: right;\">0.527991</td><td style=\"text-align: right;\">0.473202</td><td style=\"text-align: right;\">0.704268</td><td style=\"text-align: right;\">0.178193</td><td style=\"text-align: right;\">0.247408</td><td style=\"text-align: right;\">0.24564</td><td style=\"text-align: right;\">0.22089</td><td style=\"text-align: right;\"> 0.2123 </td><td style=\"text-align: right;\">0.204687</td><td style=\"text-align: right;\">0.202213</td><td style=\"text-align: right;\">0.246011</td><td style=\"text-align: right;\">0.432606</td><td style=\"text-align: right;\"> 2763.85</td></tr>\n",
       "<tr><td style=\"text-align: right;\">  13</td><td>A     </td><td>B     </td><td>A     </td><td>A     </td><td>A     </td><td>A     </td><td>A     </td><td>A     </td><td>B     </td><td>A      </td><td>A      </td><td>A      </td><td>A      </td><td>A      </td><td>A      </td><td>A      </td><td>A      </td><td>A      </td><td>A      </td><td>A      </td><td>A      </td><td>A      </td><td>A      </td><td>A      </td><td>A      </td><td>A      </td><td>A      </td><td>A      </td><td>A      </td><td>A      </td><td>A      </td><td>A      </td><td>A      </td><td>A      </td><td>A      </td><td>A      </td><td>A      </td><td>A      </td><td>A      </td><td>A      </td><td>A      </td><td>A      </td><td>A      </td><td>A      </td><td>A      </td><td>A      </td><td>A      </td><td>A      </td><td>A      </td><td>A      </td><td>A      </td><td>A      </td><td>A      </td><td>A      </td><td>A      </td><td>A      </td><td>A      </td><td>A      </td><td>A      </td><td>A      </td><td>A      </td><td>A      </td><td>A      </td><td>A      </td><td>A      </td><td>A      </td><td>A      </td><td>A      </td><td>A      </td><td>A      </td><td>A      </td><td>B      </td><td>A      </td><td>A      </td><td>A      </td><td>A      </td><td>D      </td><td>B      </td><td>D      </td><td>B      </td><td>D      </td><td>B      </td><td>B      </td><td>C      </td><td>B      </td><td>B      </td><td>B      </td><td>A      </td><td>A      </td><td>A      </td><td>A      </td><td>A      </td><td>D      </td><td>D      </td><td>D      </td><td>E      </td><td>C      </td><td>A      </td><td>P      </td><td>J       </td><td>D       </td><td>A       </td><td>A       </td><td>E       </td><td>E       </td><td>H       </td><td>F       </td><td>B       </td><td>BI      </td><td>CS      </td><td>A       </td><td>AS      </td><td>AE      </td><td>A       </td><td>K       </td><td>DJ      </td><td style=\"text-align: right;\">0.54667 </td><td style=\"text-align: right;\">0.681761</td><td style=\"text-align: right;\">0.634224</td><td style=\"text-align: right;\">0.373816</td><td style=\"text-align: right;\">0.302678</td><td style=\"text-align: right;\">0.364464</td><td style=\"text-align: right;\">0.401162</td><td style=\"text-align: right;\">0.26847</td><td style=\"text-align: right;\">0.46226</td><td style=\"text-align: right;\"> 0.50556</td><td style=\"text-align: right;\">0.366788</td><td style=\"text-align: right;\">0.359249</td><td style=\"text-align: right;\">0.345247</td><td style=\"text-align: right;\">0.726792</td><td style=\"text-align: right;\"> 5142.87</td></tr>\n",
       "<tr><td style=\"text-align: right;\">  14</td><td>A     </td><td>A     </td><td>A     </td><td>A     </td><td>B     </td><td>A     </td><td>A     </td><td>A     </td><td>A     </td><td>A      </td><td>A      </td><td>A      </td><td>A      </td><td>A      </td><td>A      </td><td>A      </td><td>A      </td><td>A      </td><td>A      </td><td>A      </td><td>A      </td><td>A      </td><td>A      </td><td>A      </td><td>A      </td><td>A      </td><td>A      </td><td>A      </td><td>A      </td><td>A      </td><td>A      </td><td>A      </td><td>A      </td><td>A      </td><td>A      </td><td>B      </td><td>A      </td><td>A      </td><td>A      </td><td>A      </td><td>B      </td><td>A      </td><td>A      </td><td>A      </td><td>A      </td><td>A      </td><td>A      </td><td>A      </td><td>A      </td><td>A      </td><td>A      </td><td>A      </td><td>A      </td><td>A      </td><td>A      </td><td>A      </td><td>A      </td><td>A      </td><td>A      </td><td>A      </td><td>A      </td><td>A      </td><td>A      </td><td>A      </td><td>A      </td><td>A      </td><td>A      </td><td>A      </td><td>A      </td><td>A      </td><td>A      </td><td>A      </td><td>A      </td><td>A      </td><td>A      </td><td>A      </td><td>D      </td><td>B      </td><td>B      </td><td>D      </td><td>D      </td><td>B      </td><td>D      </td><td>C      </td><td>B      </td><td>B      </td><td>B      </td><td>A      </td><td>A      </td><td>A      </td><td>A      </td><td>A      </td><td>D      </td><td>D      </td><td>D      </td><td>E      </td><td>C      </td><td>A      </td><td>P      </td><td>J       </td><td>A       </td><td>A       </td><td>C       </td><td>E       </td><td>E       </td><td>H       </td><td>F       </td><td>B       </td><td>BI      </td><td>DK      </td><td>A       </td><td>J       </td><td>AF      </td><td>A       </td><td>K       </td><td>DJ      </td><td style=\"text-align: right;\">0.471447</td><td style=\"text-align: right;\">0.737068</td><td style=\"text-align: right;\">0.61366 </td><td style=\"text-align: right;\">0.189137</td><td style=\"text-align: right;\">0.295397</td><td style=\"text-align: right;\">0.381515</td><td style=\"text-align: right;\">0.363768</td><td style=\"text-align: right;\">0.24564</td><td style=\"text-align: right;\">0.40455</td><td style=\"text-align: right;\"> 0.47225</td><td style=\"text-align: right;\">0.334828</td><td style=\"text-align: right;\">0.352251</td><td style=\"text-align: right;\">0.342239</td><td style=\"text-align: right;\">0.382931</td><td style=\"text-align: right;\"> 1132.22</td></tr>\n",
       "<tr><td style=\"text-align: right;\">  20</td><td>A     </td><td>B     </td><td>A     </td><td>B     </td><td>A     </td><td>A     </td><td>A     </td><td>A     </td><td>B     </td><td>A      </td><td>A      </td><td>A      </td><td>A      </td><td>A      </td><td>A      </td><td>A      </td><td>A      </td><td>A      </td><td>A      </td><td>A      </td><td>A      </td><td>A      </td><td>B      </td><td>A      </td><td>A      </td><td>A      </td><td>A      </td><td>B      </td><td>A      </td><td>A      </td><td>A      </td><td>B      </td><td>A      </td><td>A      </td><td>A      </td><td>A      </td><td>A      </td><td>A      </td><td>A      </td><td>A      </td><td>A      </td><td>A      </td><td>A      </td><td>A      </td><td>A      </td><td>A      </td><td>A      </td><td>A      </td><td>A      </td><td>A      </td><td>A      </td><td>A      </td><td>A      </td><td>A      </td><td>A      </td><td>A      </td><td>A      </td><td>A      </td><td>A      </td><td>A      </td><td>A      </td><td>A      </td><td>A      </td><td>A      </td><td>A      </td><td>A      </td><td>A      </td><td>A      </td><td>A      </td><td>A      </td><td>A      </td><td>A      </td><td>A      </td><td>A      </td><td>A      </td><td>A      </td><td>D      </td><td>B      </td><td>D      </td><td>B      </td><td>D      </td><td>A      </td><td>B      </td><td>C      </td><td>B      </td><td>D      </td><td>C      </td><td>D      </td><td>A      </td><td>A      </td><td>A      </td><td>A      </td><td>C      </td><td>B      </td><td>C      </td><td>E      </td><td>A      </td><td>C      </td><td>T      </td><td>H       </td><td>C       </td><td>A       </td><td>A       </td><td>K       </td><td>F       </td><td>F       </td><td>I       </td><td>G       </td><td>BI      </td><td>EB      </td><td>G       </td><td>AH      </td><td>Y       </td><td>A       </td><td>P       </td><td>LO      </td><td style=\"text-align: right;\">0.826591</td><td style=\"text-align: right;\">0.488789</td><td style=\"text-align: right;\">0.26357 </td><td style=\"text-align: right;\">0.62377 </td><td style=\"text-align: right;\">0.473767</td><td style=\"text-align: right;\">0.867021</td><td style=\"text-align: right;\">0.583389</td><td style=\"text-align: right;\">0.90267</td><td style=\"text-align: right;\">0.84847</td><td style=\"text-align: right;\"> 0.80218</td><td style=\"text-align: right;\">0.644013</td><td style=\"text-align: right;\">0.785706</td><td style=\"text-align: right;\">0.859764</td><td style=\"text-align: right;\">0.242416</td><td style=\"text-align: right;\"> 3585.75</td></tr>\n",
       "<tr><td style=\"text-align: right;\">  23</td><td>A     </td><td>B     </td><td>B     </td><td>B     </td><td>B     </td><td>A     </td><td>A     </td><td>A     </td><td>B     </td><td>B      </td><td>B      </td><td>B      </td><td>B      </td><td>A      </td><td>A      </td><td>B      </td><td>A      </td><td>A      </td><td>A      </td><td>A      </td><td>A      </td><td>A      </td><td>B      </td><td>A      </td><td>A      </td><td>A      </td><td>A      </td><td>A      </td><td>A      </td><td>A      </td><td>A      </td><td>A      </td><td>A      </td><td>A      </td><td>A      </td><td>B      </td><td>A      </td><td>B      </td><td>A      </td><td>A      </td><td>A      </td><td>A      </td><td>A      </td><td>A      </td><td>A      </td><td>A      </td><td>A      </td><td>A      </td><td>A      </td><td>A      </td><td>A      </td><td>A      </td><td>A      </td><td>A      </td><td>A      </td><td>A      </td><td>A      </td><td>A      </td><td>A      </td><td>A      </td><td>A      </td><td>A      </td><td>A      </td><td>A      </td><td>A      </td><td>A      </td><td>A      </td><td>A      </td><td>A      </td><td>A      </td><td>A      </td><td>B      </td><td>A      </td><td>A      </td><td>A      </td><td>A      </td><td>D      </td><td>B      </td><td>D      </td><td>B      </td><td>B      </td><td>B      </td><td>B      </td><td>C      </td><td>B      </td><td>D      </td><td>D      </td><td>A      </td><td>A      </td><td>B      </td><td>A      </td><td>A      </td><td>D      </td><td>C      </td><td>C      </td><td>E      </td><td>C      </td><td>D      </td><td>T      </td><td>C       </td><td>Q       </td><td>A       </td><td>C       </td><td>H       </td><td>F       </td><td>G       </td><td>M       </td><td>K       </td><td>BI      </td><td>BC      </td><td>C       </td><td>K       </td><td>AX      </td><td>A       </td><td>Q       </td><td>IE      </td><td style=\"text-align: right;\">0.330514</td><td style=\"text-align: right;\">0.555782</td><td style=\"text-align: right;\">0.440642</td><td style=\"text-align: right;\">0.473202</td><td style=\"text-align: right;\">0.281143</td><td style=\"text-align: right;\">0.628534</td><td style=\"text-align: right;\">0.384099</td><td style=\"text-align: right;\">0.61229</td><td style=\"text-align: right;\">0.38249</td><td style=\"text-align: right;\"> 0.51111</td><td style=\"text-align: right;\">0.682315</td><td style=\"text-align: right;\">0.669033</td><td style=\"text-align: right;\">0.756454</td><td style=\"text-align: right;\">0.361191</td><td style=\"text-align: right;\">10280.2 </td></tr>\n",
       "<tr><td style=\"text-align: right;\">  24</td><td>A     </td><td>B     </td><td>A     </td><td>A     </td><td>B     </td><td>B     </td><td>A     </td><td>A     </td><td>B     </td><td>A      </td><td>A      </td><td>A      </td><td>A      </td><td>A      </td><td>A      </td><td>A      </td><td>A      </td><td>A      </td><td>A      </td><td>A      </td><td>A      </td><td>A      </td><td>A      </td><td>A      </td><td>A      </td><td>A      </td><td>A      </td><td>A      </td><td>A      </td><td>A      </td><td>A      </td><td>A      </td><td>A      </td><td>A      </td><td>A      </td><td>B      </td><td>A      </td><td>B      </td><td>B      </td><td>B      </td><td>A      </td><td>B      </td><td>A      </td><td>A      </td><td>A      </td><td>A      </td><td>A      </td><td>A      </td><td>A      </td><td>B      </td><td>A      </td><td>B      </td><td>A      </td><td>A      </td><td>A      </td><td>A      </td><td>A      </td><td>A      </td><td>A      </td><td>A      </td><td>A      </td><td>A      </td><td>A      </td><td>A      </td><td>A      </td><td>A      </td><td>A      </td><td>A      </td><td>A      </td><td>A      </td><td>A      </td><td>A      </td><td>A      </td><td>A      </td><td>A      </td><td>A      </td><td>D      </td><td>B      </td><td>B      </td><td>B      </td><td>B      </td><td>B      </td><td>B      </td><td>C      </td><td>B      </td><td>D      </td><td>C      </td><td>D      </td><td>A      </td><td>A      </td><td>B      </td><td>H      </td><td>D      </td><td>B      </td><td>C      </td><td>E      </td><td>A      </td><td>C      </td><td>T      </td><td>F       </td><td>D       </td><td>A       </td><td>F       </td><td>K       </td><td>H       </td><td>G       </td><td>J       </td><td>G       </td><td>BU      </td><td>DW      </td><td>A       </td><td>U       </td><td>S       </td><td>J       </td><td>O       </td><td>LY      </td><td style=\"text-align: right;\">0.7263  </td><td style=\"text-align: right;\">0.358319</td><td style=\"text-align: right;\">0.356819</td><td style=\"text-align: right;\">0.802892</td><td style=\"text-align: right;\">0.310061</td><td style=\"text-align: right;\">0.713343</td><td style=\"text-align: right;\">0.469223</td><td style=\"text-align: right;\">0.3026 </td><td style=\"text-align: right;\">0.67135</td><td style=\"text-align: right;\"> 0.8351 </td><td style=\"text-align: right;\">0.863052</td><td style=\"text-align: right;\">0.879347</td><td style=\"text-align: right;\">0.822493</td><td style=\"text-align: right;\">0.294523</td><td style=\"text-align: right;\"> 6184.59</td></tr>\n",
       "</tbody>\n",
       "</table>"
      ]
     },
     "metadata": {},
     "output_type": "display_data"
    },
    {
     "data": {
      "text/plain": []
     },
     "execution_count": 10,
     "metadata": {},
     "output_type": "execute_result"
    }
   ],
   "source": [
    "#test_cat_data.cont1 = np.log10(test_cat_data.cont1)\n",
    "#test_cat_data.cont2 = np.log10(test_cat_data.cont2)\n",
    "#test_cat_data.cont4 = np.log10(test_cat_data.cont4)\n",
    "#test_cat_data.cont5 = np.log10(test_cat_data.cont5)\n",
    "#test_cat_data.cont8 = np.log10(test_cat_data.cont8)\n",
    "#test_cat_data.cont10 = np.sqrt(test_cat_data.cont10)\n",
    "#test_cat_data.cont13 = np.log10(test_cat_data.cont13)\n",
    "train_data.head()"
   ]
  },
  {
   "cell_type": "code",
   "execution_count": 12,
   "metadata": {},
   "outputs": [],
   "source": [
    "train_data['cont1'] = train_data['cont1'].log()\n",
    "train_data['cont2'] = train_data['cont2'].log()\n",
    "train_data['cont4'] = train_data['cont4'].log()\n",
    "train_data['cont5'] = train_data['cont5'].log()\n",
    "train_data['cont8'] = train_data['cont8'].log()\n",
    "train_data['cont10'] = train_data['cont10'].sqrt()\n",
    "train_data['cont13'] = train_data['cont13'].log()"
   ]
  },
  {
   "cell_type": "code",
   "execution_count": 18,
   "metadata": {},
   "outputs": [],
   "source": [
    "for index in train_data.columns_by_type(\"categorical\"):\n",
    "    train_data[:,index] = train_data[:,index].asfactor()"
   ]
  },
  {
   "cell_type": "code",
   "execution_count": 28,
   "metadata": {},
   "outputs": [
    {
     "data": {
      "text/plain": [
       "['id',\n",
       " 'cat1',\n",
       " 'cat2',\n",
       " 'cat3',\n",
       " 'cat4',\n",
       " 'cat5',\n",
       " 'cat6',\n",
       " 'cat7',\n",
       " 'cat8',\n",
       " 'cat9',\n",
       " 'cat10',\n",
       " 'cat11',\n",
       " 'cat12',\n",
       " 'cat13',\n",
       " 'cat14',\n",
       " 'cat15',\n",
       " 'cat16',\n",
       " 'cat17',\n",
       " 'cat18',\n",
       " 'cat19',\n",
       " 'cat20',\n",
       " 'cat21',\n",
       " 'cat22',\n",
       " 'cat23',\n",
       " 'cat24',\n",
       " 'cat25',\n",
       " 'cat26',\n",
       " 'cat27',\n",
       " 'cat28',\n",
       " 'cat29',\n",
       " 'cat30',\n",
       " 'cat31',\n",
       " 'cat32',\n",
       " 'cat33',\n",
       " 'cat34',\n",
       " 'cat35',\n",
       " 'cat36',\n",
       " 'cat37',\n",
       " 'cat38',\n",
       " 'cat39',\n",
       " 'cat40',\n",
       " 'cat41',\n",
       " 'cat42',\n",
       " 'cat43',\n",
       " 'cat44',\n",
       " 'cat45',\n",
       " 'cat46',\n",
       " 'cat47',\n",
       " 'cat48',\n",
       " 'cat49',\n",
       " 'cat50',\n",
       " 'cat51',\n",
       " 'cat52',\n",
       " 'cat53',\n",
       " 'cat54',\n",
       " 'cat55',\n",
       " 'cat56',\n",
       " 'cat57',\n",
       " 'cat58',\n",
       " 'cat59',\n",
       " 'cat60',\n",
       " 'cat61',\n",
       " 'cat62',\n",
       " 'cat63',\n",
       " 'cat64',\n",
       " 'cat65',\n",
       " 'cat66',\n",
       " 'cat67',\n",
       " 'cat68',\n",
       " 'cat69',\n",
       " 'cat70',\n",
       " 'cat71',\n",
       " 'cat72',\n",
       " 'cat73',\n",
       " 'cat74',\n",
       " 'cat75',\n",
       " 'cat76',\n",
       " 'cat77',\n",
       " 'cat78',\n",
       " 'cat79',\n",
       " 'cat80',\n",
       " 'cat81',\n",
       " 'cat82',\n",
       " 'cat83',\n",
       " 'cat84',\n",
       " 'cat85',\n",
       " 'cat86',\n",
       " 'cat87',\n",
       " 'cat88',\n",
       " 'cat89',\n",
       " 'cat90',\n",
       " 'cat91',\n",
       " 'cat92',\n",
       " 'cat93',\n",
       " 'cat94',\n",
       " 'cat95',\n",
       " 'cat96',\n",
       " 'cat97',\n",
       " 'cat98',\n",
       " 'cat99',\n",
       " 'cat100',\n",
       " 'cat101',\n",
       " 'cat102',\n",
       " 'cat103',\n",
       " 'cat104',\n",
       " 'cat105',\n",
       " 'cat106',\n",
       " 'cat107',\n",
       " 'cat108',\n",
       " 'cat109',\n",
       " 'cat110',\n",
       " 'cat111',\n",
       " 'cat112',\n",
       " 'cat113',\n",
       " 'cat114',\n",
       " 'cat115',\n",
       " 'cat116',\n",
       " 'cont1',\n",
       " 'cont2',\n",
       " 'cont3',\n",
       " 'cont4',\n",
       " 'cont5',\n",
       " 'cont6',\n",
       " 'cont7',\n",
       " 'cont8',\n",
       " 'cont9',\n",
       " 'cont10',\n",
       " 'cont11',\n",
       " 'cont12',\n",
       " 'cont13',\n",
       " 'cont14',\n",
       " 'loss']"
      ]
     },
     "execution_count": 28,
     "metadata": {},
     "output_type": "execute_result"
    }
   ],
   "source": [
    "train_data.columns"
   ]
  },
  {
   "cell_type": "code",
   "execution_count": 27,
   "metadata": {},
   "outputs": [
    {
     "data": {
      "text/plain": [
       "[0.0,\n",
       " 117.0,\n",
       " 118.0,\n",
       " 119.0,\n",
       " 120.0,\n",
       " 121.0,\n",
       " 122.0,\n",
       " 123.0,\n",
       " 124.0,\n",
       " 125.0,\n",
       " 126.0,\n",
       " 127.0,\n",
       " 128.0,\n",
       " 129.0,\n",
       " 130.0,\n",
       " 131.0]"
      ]
     },
     "execution_count": 27,
     "metadata": {},
     "output_type": "execute_result"
    }
   ],
   "source": [
    "train_data.columns_by_type(\"numeric\")"
   ]
  },
  {
   "cell_type": "code",
   "execution_count": 51,
   "metadata": {},
   "outputs": [],
   "source": [
    "y = 'loss'\n",
    "x = [col for col in train_data.columns if col != y ]"
   ]
  },
  {
   "cell_type": "code",
   "execution_count": null,
   "metadata": {},
   "outputs": [],
   "source": []
  },
  {
   "cell_type": "code",
   "execution_count": 54,
   "metadata": {},
   "outputs": [
    {
     "name": "stdout",
     "output_type": "stream",
     "text": [
      "AutoML progress: |████████████████████████████████████████████████████████| 100%\n"
     ]
    }
   ],
   "source": [
    "auto_model = H2OAutoML(max_models=10,seed=1)\n",
    "auto_model.train(x=x,y=y,training_frame=train)"
   ]
  },
  {
   "cell_type": "code",
   "execution_count": 55,
   "metadata": {},
   "outputs": [
    {
     "name": "stdout",
     "output_type": "stream",
     "text": [
      "This H2OFrame is empty.\n"
     ]
    },
    {
     "data": {
      "text/plain": []
     },
     "execution_count": 55,
     "metadata": {},
     "output_type": "execute_result"
    }
   ],
   "source": [
    "lb = auto_model.leaderboard\n",
    "lb.head(rows=lb.nrows) "
   ]
  },
  {
   "cell_type": "code",
   "execution_count": 38,
   "metadata": {},
   "outputs": [
    {
     "ename": "TypeError",
     "evalue": "__init__() got an unexpected keyword argument 'categorical_encoding'",
     "output_type": "error",
     "traceback": [
      "\u001b[0;31m---------------------------------------------------------------------------\u001b[0m",
      "\u001b[0;31mTypeError\u001b[0m                                 Traceback (most recent call last)",
      "\u001b[0;32m<ipython-input-38-76de1fa5c1c2>\u001b[0m in \u001b[0;36m<module>\u001b[0;34m()\u001b[0m\n\u001b[0;32m----> 1\u001b[0;31m \u001b[0mauto_model\u001b[0m \u001b[0;34m=\u001b[0m \u001b[0mH2OAutoML\u001b[0m\u001b[0;34m(\u001b[0m\u001b[0mmax_models\u001b[0m\u001b[0;34m=\u001b[0m\u001b[0;36m10\u001b[0m\u001b[0;34m,\u001b[0m\u001b[0mseed\u001b[0m\u001b[0;34m=\u001b[0m\u001b[0;36m1\u001b[0m\u001b[0;34m,\u001b[0m\u001b[0mcategorical_encoding\u001b[0m \u001b[0;34m=\u001b[0m\u001b[0;34m'one_hot_explicit'\u001b[0m\u001b[0;34m)\u001b[0m\u001b[0;34m\u001b[0m\u001b[0m\n\u001b[0m",
      "\u001b[0;31mTypeError\u001b[0m: __init__() got an unexpected keyword argument 'categorical_encoding'"
     ]
    }
   ],
   "source": []
  },
  {
   "cell_type": "code",
   "execution_count": null,
   "metadata": {},
   "outputs": [],
   "source": []
  }
 ],
 "metadata": {
  "kernelspec": {
   "display_name": "Python 3",
   "language": "python",
   "name": "python3"
  },
  "language_info": {
   "codemirror_mode": {
    "name": "ipython",
    "version": 3
   },
   "file_extension": ".py",
   "mimetype": "text/x-python",
   "name": "python",
   "nbconvert_exporter": "python",
   "pygments_lexer": "ipython3",
   "version": "3.7.0"
  }
 },
 "nbformat": 4,
 "nbformat_minor": 1
}
